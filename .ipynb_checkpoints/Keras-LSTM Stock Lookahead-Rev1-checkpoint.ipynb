{
 "cells": [
  {
   "cell_type": "code",
   "execution_count": 51,
   "metadata": {},
   "outputs": [],
   "source": [
    "import pandas as pd\n",
    "import numpy as np\n",
    "import matplotlib.pyplot as plt\n",
    "import quandl\n",
    "import statistics\n",
    "\n",
    "from sklearn.preprocessing import MinMaxScaler\n",
    "\n",
    "from keras.models import Sequential\n",
    "from keras.layers import LSTM, Dense, Dropout\n",
    "from livelossplot import PlotLossesKeras\n",
    "\n",
    "# free data capture limits for some sources\n",
    "# Get stock data from tiingo\n",
    "# Ge treaury data from Quandl\n",
    "import requests\n",
    "\n",
    "#You need this for prediction date extraction\n",
    "import time\n",
    "from datetime import datetime, date, time, timedelta\n",
    "\n",
    "nan=np.nan"
   ]
  },
  {
   "cell_type": "code",
   "execution_count": 52,
   "metadata": {},
   "outputs": [],
   "source": [
    "DBGmode = 1\n",
    "WritetoFile = 0\n",
    "PlotLoss = 0\n",
    "\n",
    "pd.set_option('display.max_rows', 30)\n",
    "ticker = 'PYPL'\n",
    "st_date = '2020-7-22'\n",
    "en_date = '2020-9-22'\n",
    "\n",
    "#ex timestep=3, lookahead=2\n",
    "#for day0,1,2 predict day4\n",
    "timestep = 3\n",
    "lookahead = 1\n",
    "\n",
    "TrainPCT = 0.7\n",
    "\n",
    "ADDUS10Y = 0\n",
    "\n",
    "ADDXMA = 0\n",
    "xmasmall = 7\n",
    "xmalong = 14\n",
    "\n",
    "ADDRSI = 0\n",
    "RSIwindow = 14\n",
    "\n",
    "ADDSTOCHRSI = 0\n",
    "SRSIw = 14\n",
    "SRSIk = 3\n",
    "SRSId = 3\n",
    "\n",
    "noofplots = ADDRSI + ADDSTOCHRSI\n",
    "epochval = 1 #iter when entire dataset is passed fwd/back thru NN\n",
    "batchval = 1 #training examples in a singler batch"
   ]
  },
  {
   "cell_type": "code",
   "execution_count": 53,
   "metadata": {},
   "outputs": [],
   "source": [
    "us10y_data = quandl.get(\"FRED/DGS10\", start_date=st_date, end_date=en_date, api_key = 'tNjFxT5wYAG7nbemafxi')\n",
    "us10y_data=us10y_data.reset_index()\n",
    "us10y_data.rename(columns = {'Value':'US10Y'}, inplace = True) \n",
    "\n",
    "if DBGmode==1:\n",
    "    us10y_data"
   ]
  },
  {
   "cell_type": "code",
   "execution_count": 54,
   "metadata": {},
   "outputs": [
    {
     "name": "stderr",
     "output_type": "stream",
     "text": [
      "<ipython-input-54-83275a74f87b>:2: SettingWithCopyWarning: \n",
      "A value is trying to be set on a copy of a slice from a DataFrame\n",
      "\n",
      "See the caveats in the documentation: https://pandas.pydata.org/pandas-docs/stable/user_guide/indexing.html#returning-a-view-versus-a-copy\n",
      "  us10y_data['Date'][row]=str(us10y_data['Date'][row])[:10]+'T00:00:00.000Z'\n",
      "/Users/prasannaob/opt/anaconda3/lib/python3.8/site-packages/pandas/core/indexing.py:671: SettingWithCopyWarning: \n",
      "A value is trying to be set on a copy of a slice from a DataFrame\n",
      "\n",
      "See the caveats in the documentation: https://pandas.pydata.org/pandas-docs/stable/user_guide/indexing.html#returning-a-view-versus-a-copy\n",
      "  self._setitem_with_indexer(indexer, value)\n"
     ]
    }
   ],
   "source": [
    "for row in range(0,len(us10y_data)):\n",
    "    us10y_data['Date'][row]=str(us10y_data['Date'][row])[:10]+'T00:00:00.000Z'\n",
    "us10y_data=us10y_data.set_index('Date')\n",
    "\n",
    "if DBGmode==1:\n",
    "    us10y_data"
   ]
  },
  {
   "cell_type": "code",
   "execution_count": 55,
   "metadata": {},
   "outputs": [],
   "source": [
    "def get_stock_data(stock_symbol, start_date, end_date):\n",
    "    base_url = f'https://api.tiingo.com/tiingo/daily/{stock_symbol}/prices?'\n",
    "    token = '59e2dfca5859e44a55ef766a8f81aab1ab8a80e8'\n",
    "    payload = {\n",
    "        'startDate': start_date,\n",
    "        'endDate': end_date,\n",
    "        'token': token\n",
    "    }\n",
    "    response = requests.get(base_url, params=payload)\n",
    "    return response"
   ]
  },
  {
   "cell_type": "code",
   "execution_count": 56,
   "metadata": {},
   "outputs": [
    {
     "name": "stdout",
     "output_type": "stream",
     "text": [
      "https://api.tiingo.com/tiingo/daily/PYPL/prices?startDate=2020-7-22&endDate=2020-9-22&token=59e2dfca5859e44a55ef766a8f81aab1ab8a80e8\n",
      "[{'date': '2020-07-22T00:00:00.000Z', 'close': 178.42, 'high': 179.49, 'low': 175.73, 'open': 176.16, 'volume': 4669007, 'adjClose': 178.42, 'adjHigh': 179.49, 'adjLow': 175.73, 'adjOpen': 176.16, 'adjVolume': 4669007, 'divCash': 0.0, 'splitFactor': 1.0}, {'date': '2020-07-23T00:00:00.000Z', 'close': 173.86, 'high': 180.75, 'low': 171.94, 'open': 178.15, 'volume': 6999615, 'adjClose': 173.86, 'adjHigh': 180.75, 'adjLow': 171.94, 'adjOpen': 178.15, 'adjVolume': 6999615, 'divCash': 0.0, 'splitFactor': 1.0}, {'date': '2020-07-24T00:00:00.000Z', 'close': 172.56, 'high': 173.6, 'low': 169.08, 'open': 171.08, 'volume': 6256092, 'adjClose': 172.56, 'adjHigh': 173.6, 'adjLow': 169.08, 'adjOpen': 171.08, 'adjVolume': 6256092, 'divCash': 0.0, 'splitFactor': 1.0}, {'date': '2020-07-27T00:00:00.000Z', 'close': 177.98, 'high': 178.46, 'low': 172.39, 'open': 173.92, 'volume': 6868784, 'adjClose': 177.98, 'adjHigh': 178.46, 'adjLow': 172.39, 'adjOpen': 173.92, 'adjVolume': 6868784, 'divCash': 0.0, 'splitFactor': 1.0}, {'date': '2020-07-28T00:00:00.000Z', 'close': 176.27, 'high': 179.58, 'low': 176.0102, 'open': 178.01, 'volume': 6125669, 'adjClose': 176.27, 'adjHigh': 179.58, 'adjLow': 176.0102, 'adjOpen': 178.01, 'adjVolume': 6125669, 'divCash': 0.0, 'splitFactor': 1.0}, {'date': '2020-07-29T00:00:00.000Z', 'close': 184.6, 'high': 185.44, 'low': 178.27, 'open': 178.45, 'volume': 15436643, 'adjClose': 184.6, 'adjHigh': 185.44, 'adjLow': 178.27, 'adjOpen': 178.45, 'adjVolume': 15436643, 'divCash': 0.0, 'splitFactor': 1.0}, {'date': '2020-07-30T00:00:00.000Z', 'close': 192.51, 'high': 198.6599, 'low': 189.1314, 'open': 191.81, 'volume': 16803593, 'adjClose': 192.51, 'adjHigh': 198.6599, 'adjLow': 189.1314, 'adjOpen': 191.81, 'adjVolume': 16803593, 'divCash': 0.0, 'splitFactor': 1.0}, {'date': '2020-07-31T00:00:00.000Z', 'close': 196.07, 'high': 196.35, 'low': 191.69, 'open': 193.05, 'volume': 10865370, 'adjClose': 196.07, 'adjHigh': 196.35, 'adjLow': 191.69, 'adjOpen': 193.05, 'adjVolume': 10865370, 'divCash': 0.0, 'splitFactor': 1.0}, {'date': '2020-08-03T00:00:00.000Z', 'close': 197.07, 'high': 199.4, 'low': 195.22, 'open': 198.25, 'volume': 7961646, 'adjClose': 197.07, 'adjHigh': 199.4, 'adjLow': 195.22, 'adjOpen': 198.25, 'adjVolume': 7961646, 'divCash': 0.0, 'splitFactor': 1.0}, {'date': '2020-08-04T00:00:00.000Z', 'close': 197.33, 'high': 199.1, 'low': 195.5206, 'open': 196.35, 'volume': 5771585, 'adjClose': 197.33, 'adjHigh': 199.1, 'adjLow': 195.5206, 'adjOpen': 196.35, 'adjVolume': 5771585, 'divCash': 0.0, 'splitFactor': 1.0}, {'date': '2020-08-05T00:00:00.000Z', 'close': 202.91, 'high': 204.23, 'low': 198.09, 'open': 199.0, 'volume': 7573326, 'adjClose': 202.91, 'adjHigh': 204.23, 'adjLow': 198.09, 'adjOpen': 199.0, 'adjVolume': 7573326, 'divCash': 0.0, 'splitFactor': 1.0}, {'date': '2020-08-06T00:00:00.000Z', 'close': 204.09, 'high': 204.16, 'low': 198.88, 'open': 202.0, 'volume': 5821425, 'adjClose': 204.09, 'adjHigh': 204.16, 'adjLow': 198.88, 'adjOpen': 202.0, 'adjVolume': 5821425, 'divCash': 0.0, 'splitFactor': 1.0}, {'date': '2020-08-07T00:00:00.000Z', 'close': 198.63, 'high': 203.9509, 'low': 196.7, 'open': 203.71, 'volume': 6525299, 'adjClose': 198.63, 'adjHigh': 203.9509, 'adjLow': 196.7, 'adjOpen': 203.71, 'adjVolume': 6525299, 'divCash': 0.0, 'splitFactor': 1.0}, {'date': '2020-08-10T00:00:00.000Z', 'close': 193.32, 'high': 199.85, 'low': 191.69, 'open': 198.7, 'volume': 8792199, 'adjClose': 193.32, 'adjHigh': 199.85, 'adjLow': 191.69, 'adjOpen': 198.7, 'adjVolume': 8792199, 'divCash': 0.0, 'splitFactor': 1.0}, {'date': '2020-08-11T00:00:00.000Z', 'close': 189.03, 'high': 193.535, 'low': 186.52, 'open': 192.0, 'volume': 9155292, 'adjClose': 189.03, 'adjHigh': 193.535, 'adjLow': 186.52, 'adjOpen': 192.0, 'adjVolume': 9155292, 'divCash': 0.0, 'splitFactor': 1.0}, {'date': '2020-08-12T00:00:00.000Z', 'close': 191.32, 'high': 192.51, 'low': 189.4, 'open': 190.0, 'volume': 7939997, 'adjClose': 191.32, 'adjHigh': 192.51, 'adjLow': 189.4, 'adjOpen': 190.0, 'adjVolume': 7939997, 'divCash': 0.0, 'splitFactor': 1.0}, {'date': '2020-08-13T00:00:00.000Z', 'close': 193.07, 'high': 195.13, 'low': 191.48, 'open': 192.1, 'volume': 10082355, 'adjClose': 193.07, 'adjHigh': 195.13, 'adjLow': 191.48, 'adjOpen': 192.1, 'adjVolume': 10082355, 'divCash': 0.0, 'splitFactor': 1.0}, {'date': '2020-08-14T00:00:00.000Z', 'close': 191.46, 'high': 195.4687, 'low': 190.51, 'open': 195.19, 'volume': 4847965, 'adjClose': 191.46, 'adjHigh': 195.4687, 'adjLow': 190.51, 'adjOpen': 195.19, 'adjVolume': 4847965, 'divCash': 0.0, 'splitFactor': 1.0}, {'date': '2020-08-17T00:00:00.000Z', 'close': 196.29, 'high': 197.42, 'low': 193.25, 'open': 193.92, 'volume': 6198365, 'adjClose': 196.29, 'adjHigh': 197.42, 'adjLow': 193.25, 'adjOpen': 193.92, 'adjVolume': 6198365, 'divCash': 0.0, 'splitFactor': 1.0}, {'date': '2020-08-18T00:00:00.000Z', 'close': 194.57, 'high': 198.75, 'low': 194.0, 'open': 197.73, 'volume': 5362472, 'adjClose': 194.57, 'adjHigh': 198.75, 'adjLow': 194.0, 'adjOpen': 197.73, 'adjVolume': 5362472, 'divCash': 0.0, 'splitFactor': 1.0}, {'date': '2020-08-19T00:00:00.000Z', 'close': 192.44, 'high': 196.84, 'low': 191.92, 'open': 195.06, 'volume': 6865340, 'adjClose': 192.44, 'adjHigh': 196.84, 'adjLow': 191.92, 'adjOpen': 195.06, 'adjVolume': 6865340, 'divCash': 0.0, 'splitFactor': 1.0}, {'date': '2020-08-20T00:00:00.000Z', 'close': 198.18, 'high': 198.7, 'low': 191.51, 'open': 192.06, 'volume': 6772962, 'adjClose': 198.18, 'adjHigh': 198.7, 'adjLow': 191.51, 'adjOpen': 192.06, 'adjVolume': 6772962, 'divCash': 0.0, 'splitFactor': 1.0}, {'date': '2020-08-21T00:00:00.000Z', 'close': 196.79, 'high': 199.0999, 'low': 196.22, 'open': 197.93, 'volume': 6092535, 'adjClose': 196.79, 'adjHigh': 199.0999, 'adjLow': 196.22, 'adjOpen': 197.93, 'adjVolume': 6092535, 'divCash': 0.0, 'splitFactor': 1.0}, {'date': '2020-08-24T00:00:00.000Z', 'close': 198.88, 'high': 201.0988, 'low': 196.57, 'open': 200.0, 'volume': 5404075, 'adjClose': 198.88, 'adjHigh': 201.0988, 'adjLow': 196.57, 'adjOpen': 200.0, 'adjVolume': 5404075, 'divCash': 0.0, 'splitFactor': 1.0}, {'date': '2020-08-25T00:00:00.000Z', 'close': 201.67, 'high': 201.96, 'low': 196.24, 'open': 198.49, 'volume': 5108202, 'adjClose': 201.67, 'adjHigh': 201.96, 'adjLow': 196.24, 'adjOpen': 198.49, 'adjVolume': 5108202, 'divCash': 0.0, 'splitFactor': 1.0}, {'date': '2020-08-26T00:00:00.000Z', 'close': 203.48, 'high': 205.35, 'low': 200.25, 'open': 202.53, 'volume': 6072171, 'adjClose': 203.48, 'adjHigh': 205.35, 'adjLow': 200.25, 'adjOpen': 202.53, 'adjVolume': 6072171, 'divCash': 0.0, 'splitFactor': 1.0}, {'date': '2020-08-27T00:00:00.000Z', 'close': 204.34, 'high': 207.0, 'low': 202.3, 'open': 206.81, 'volume': 6051898, 'adjClose': 204.34, 'adjHigh': 207.0, 'adjLow': 202.3, 'adjOpen': 206.81, 'adjVolume': 6051898, 'divCash': 0.0, 'splitFactor': 1.0}, {'date': '2020-08-28T00:00:00.000Z', 'close': 204.48, 'high': 205.4159, 'low': 202.42, 'open': 205.4159, 'volume': 4581319, 'adjClose': 204.48, 'adjHigh': 205.4159, 'adjLow': 202.42, 'adjOpen': 205.4159, 'adjVolume': 4581319, 'divCash': 0.0, 'splitFactor': 1.0}, {'date': '2020-08-31T00:00:00.000Z', 'close': 204.14, 'high': 205.2523, 'low': 202.2984, 'open': 203.7, 'volume': 5628727, 'adjClose': 204.14, 'adjHigh': 205.2523, 'adjLow': 202.2984, 'adjOpen': 203.7, 'adjVolume': 5628727, 'divCash': 0.0, 'splitFactor': 1.0}, {'date': '2020-09-01T00:00:00.000Z', 'close': 208.93, 'high': 209.8799, 'low': 205.145, 'open': 205.59, 'volume': 6237911, 'adjClose': 208.93, 'adjHigh': 209.8799, 'adjLow': 205.145, 'adjOpen': 205.59, 'adjVolume': 6237911, 'divCash': 0.0, 'splitFactor': 1.0}, {'date': '2020-09-02T00:00:00.000Z', 'close': 210.82, 'high': 212.45, 'low': 204.6, 'open': 211.6222, 'volume': 7219494, 'adjClose': 210.82, 'adjHigh': 212.45, 'adjLow': 204.6, 'adjOpen': 211.6222, 'adjVolume': 7219494, 'divCash': 0.0, 'splitFactor': 1.0}, {'date': '2020-09-03T00:00:00.000Z', 'close': 204.99, 'high': 206.59, 'low': 194.95, 'open': 205.69, 'volume': 16006894, 'adjClose': 204.99, 'adjHigh': 206.59, 'adjLow': 194.95, 'adjOpen': 205.69, 'adjVolume': 16006894, 'divCash': 0.0, 'splitFactor': 1.0}, {'date': '2020-09-04T00:00:00.000Z', 'close': 191.84, 'high': 201.84, 'low': 182.85, 'open': 200.985, 'volume': 17034108, 'adjClose': 191.84, 'adjHigh': 201.84, 'adjLow': 182.85, 'adjOpen': 200.985, 'adjVolume': 17034108, 'divCash': 0.0, 'splitFactor': 1.0}, {'date': '2020-09-08T00:00:00.000Z', 'close': 185.95, 'high': 191.75, 'low': 184.7, 'open': 184.7, 'volume': 9282378, 'adjClose': 185.95, 'adjHigh': 191.75, 'adjLow': 184.7, 'adjOpen': 184.7, 'adjVolume': 9282378, 'divCash': 0.0, 'splitFactor': 1.0}, {'date': '2020-09-09T00:00:00.000Z', 'close': 194.6, 'high': 195.75, 'low': 187.3, 'open': 191.0, 'volume': 8541960, 'adjClose': 194.6, 'adjHigh': 195.75, 'adjLow': 187.3, 'adjOpen': 191.0, 'adjVolume': 8541960, 'divCash': 0.0, 'splitFactor': 1.0}, {'date': '2020-09-10T00:00:00.000Z', 'close': 190.09, 'high': 198.22, 'low': 187.84, 'open': 196.09, 'volume': 6580655, 'adjClose': 190.09, 'adjHigh': 198.22, 'adjLow': 187.84, 'adjOpen': 196.09, 'adjVolume': 6580655, 'divCash': 0.0, 'splitFactor': 1.0}, {'date': '2020-09-11T00:00:00.000Z', 'close': 184.0, 'high': 192.1, 'low': 180.93, 'open': 191.462, 'volume': 8110351, 'adjClose': 184.0, 'adjHigh': 192.1, 'adjLow': 180.93, 'adjOpen': 191.462, 'adjVolume': 8110351, 'divCash': 0.0, 'splitFactor': 1.0}, {'date': '2020-09-14T00:00:00.000Z', 'close': 186.96, 'high': 188.6, 'low': 184.38, 'open': 186.0, 'volume': 7053058, 'adjClose': 186.96, 'adjHigh': 188.6, 'adjLow': 184.38, 'adjOpen': 186.0, 'adjVolume': 7053058, 'divCash': 0.0, 'splitFactor': 1.0}, {'date': '2020-09-15T00:00:00.000Z', 'close': 186.02, 'high': 190.45, 'low': 184.18, 'open': 190.05, 'volume': 7763369, 'adjClose': 186.02, 'adjHigh': 190.45, 'adjLow': 184.18, 'adjOpen': 190.05, 'adjVolume': 7763369, 'divCash': 0.0, 'splitFactor': 1.0}, {'date': '2020-09-16T00:00:00.000Z', 'close': 180.91, 'high': 189.34, 'low': 180.67, 'open': 187.095, 'volume': 8174799, 'adjClose': 180.91, 'adjHigh': 189.34, 'adjLow': 180.67, 'adjOpen': 187.095, 'adjVolume': 8174799, 'divCash': 0.0, 'splitFactor': 1.0}, {'date': '2020-09-17T00:00:00.000Z', 'close': 175.79, 'high': 178.74, 'low': 173.79, 'open': 176.63, 'volume': 11840100, 'adjClose': 175.79, 'adjHigh': 178.74, 'adjLow': 173.79, 'adjOpen': 176.63, 'adjVolume': 11840100, 'divCash': 0.0, 'splitFactor': 1.0}, {'date': '2020-09-18T00:00:00.000Z', 'close': 176.07, 'high': 178.25, 'low': 171.63, 'open': 176.7, 'volume': 13557242, 'adjClose': 176.07, 'adjHigh': 178.25, 'adjLow': 171.63, 'adjOpen': 176.7, 'adjVolume': 13557242, 'divCash': 0.0, 'splitFactor': 1.0}, {'date': '2020-09-21T00:00:00.000Z', 'close': 183.21, 'high': 183.45, 'low': 174.08, 'open': 174.84, 'volume': 13765625, 'adjClose': 183.21, 'adjHigh': 183.45, 'adjLow': 174.08, 'adjOpen': 174.84, 'adjVolume': 13765625, 'divCash': 0.0, 'splitFactor': 1.0}, {'date': '2020-09-22T00:00:00.000Z', 'close': 187.78, 'high': 188.06, 'low': 182.185, 'open': 186.79, 'volume': 8939288, 'adjClose': 187.78, 'adjHigh': 188.06, 'adjLow': 182.185, 'adjOpen': 186.79, 'adjVolume': 8939288, 'divCash': 0.0, 'splitFactor': 1.0}]\n"
     ]
    }
   ],
   "source": [
    "response = get_stock_data(ticker, st_date, en_date)\n",
    "\n",
    "if DBGmode == 1:\n",
    "    print(response.url)\n",
    "    print(response.json())"
   ]
  },
  {
   "cell_type": "code",
   "execution_count": 57,
   "metadata": {},
   "outputs": [],
   "source": [
    "def parse_data(data_response):\n",
    "    json_data = data_response.json()\n",
    "    dates = []\n",
    "    closes =[]\n",
    "    opens = []\n",
    "    highs = []\n",
    "    lows = []\n",
    "    vols = []\n",
    "    for json_object in json_data:\n",
    "        dates.append(json_object['date'])\n",
    "        closes.append(json_object['close'])\n",
    "        opens.append(json_object['open'])\n",
    "        highs.append(json_object['high'])\n",
    "        lows.append(json_object['low'])\n",
    "        vols.append(json_object['volume'])\n",
    "    return dates, closes, opens, highs, lows, vols"
   ]
  },
  {
   "cell_type": "code",
   "execution_count": 58,
   "metadata": {},
   "outputs": [
    {
     "name": "stdout",
     "output_type": "stream",
     "text": [
      "['2020-07-22T00:00:00.000Z', '2020-07-23T00:00:00.000Z', '2020-07-24T00:00:00.000Z', '2020-07-27T00:00:00.000Z', '2020-07-28T00:00:00.000Z', '2020-07-29T00:00:00.000Z', '2020-07-30T00:00:00.000Z', '2020-07-31T00:00:00.000Z', '2020-08-03T00:00:00.000Z', '2020-08-04T00:00:00.000Z', '2020-08-05T00:00:00.000Z', '2020-08-06T00:00:00.000Z', '2020-08-07T00:00:00.000Z', '2020-08-10T00:00:00.000Z', '2020-08-11T00:00:00.000Z', '2020-08-12T00:00:00.000Z', '2020-08-13T00:00:00.000Z', '2020-08-14T00:00:00.000Z', '2020-08-17T00:00:00.000Z', '2020-08-18T00:00:00.000Z', '2020-08-19T00:00:00.000Z', '2020-08-20T00:00:00.000Z', '2020-08-21T00:00:00.000Z', '2020-08-24T00:00:00.000Z', '2020-08-25T00:00:00.000Z', '2020-08-26T00:00:00.000Z', '2020-08-27T00:00:00.000Z', '2020-08-28T00:00:00.000Z', '2020-08-31T00:00:00.000Z', '2020-09-01T00:00:00.000Z', '2020-09-02T00:00:00.000Z', '2020-09-03T00:00:00.000Z', '2020-09-04T00:00:00.000Z', '2020-09-08T00:00:00.000Z', '2020-09-09T00:00:00.000Z', '2020-09-10T00:00:00.000Z', '2020-09-11T00:00:00.000Z', '2020-09-14T00:00:00.000Z', '2020-09-15T00:00:00.000Z', '2020-09-16T00:00:00.000Z', '2020-09-17T00:00:00.000Z', '2020-09-18T00:00:00.000Z', '2020-09-21T00:00:00.000Z', '2020-09-22T00:00:00.000Z'] [178.42, 173.86, 172.56, 177.98, 176.27, 184.6, 192.51, 196.07, 197.07, 197.33, 202.91, 204.09, 198.63, 193.32, 189.03, 191.32, 193.07, 191.46, 196.29, 194.57, 192.44, 198.18, 196.79, 198.88, 201.67, 203.48, 204.34, 204.48, 204.14, 208.93, 210.82, 204.99, 191.84, 185.95, 194.6, 190.09, 184.0, 186.96, 186.02, 180.91, 175.79, 176.07, 183.21, 187.78]\n"
     ]
    }
   ],
   "source": [
    "dates, closes, opens, highs, lows, vols = parse_data(response)\n",
    "\n",
    "if DBGmode == 1:\n",
    "    print(dates, closes)"
   ]
  },
  {
   "cell_type": "code",
   "execution_count": 59,
   "metadata": {},
   "outputs": [],
   "source": [
    "#**** Define New Column Label here\n",
    "datastock = pd.DataFrame(columns = ['Close'], index = dates)\n",
    "dfindex = datastock.index\n",
    "dfindex.name = 'Date'"
   ]
  },
  {
   "cell_type": "code",
   "execution_count": 60,
   "metadata": {},
   "outputs": [],
   "source": [
    "#**** ADD New Column Data here\n",
    "datastock['Close']=closes\n",
    "#datastock['Volume']=vols\n",
    "\n",
    "if DBGmode == 1:\n",
    "    datastock"
   ]
  },
  {
   "cell_type": "code",
   "execution_count": 61,
   "metadata": {},
   "outputs": [
    {
     "data": {
      "image/png": "[encoded data removed]",
      "text/plain": [
       "<Figure size 1152x432 with 1 Axes>"
      ]
     },
     "metadata": {
      "needs_background": "light"
     },
     "output_type": "display_data"
    }
   ],
   "source": [
    "if DBGmode == 1:\n",
    "    plt.figure()\n",
    "    datastock['Close'].plot(figsize=(16,6), label=ticker+'-Close')\n",
    "    plt.legend()\n",
    "    plt.show()"
   ]
  },
  {
   "cell_type": "code",
   "execution_count": 62,
   "metadata": {},
   "outputs": [
    {
     "name": "stdout",
     "output_type": "stream",
     "text": [
      "Total Stock Rows =  44\n",
      "Total US10Y Rows =  43\n"
     ]
    },
    {
     "data": {
      "text/html": [
       "<div>\n",
       "<style scoped>\n",
       "    .dataframe tbody tr th:only-of-type {\n",
       "        vertical-align: middle;\n",
       "    }\n",
       "\n",
       "    .dataframe tbody tr th {\n",
       "        vertical-align: top;\n",
       "    }\n",
       "\n",
       "    .dataframe thead th {\n",
       "        text-align: right;\n",
       "    }\n",
       "</style>\n",
       "<table border=\"1\" class=\"dataframe\">\n",
       "  <thead>\n",
       "    <tr style=\"text-align: right;\">\n",
       "      <th></th>\n",
       "      <th>Close</th>\n",
       "    </tr>\n",
       "    <tr>\n",
       "      <th>Date</th>\n",
       "      <th></th>\n",
       "    </tr>\n",
       "  </thead>\n",
       "  <tbody>\n",
       "    <tr>\n",
       "      <th>2020-07-22T00:00:00.000Z</th>\n",
       "      <td>178.42</td>\n",
       "    </tr>\n",
       "    <tr>\n",
       "      <th>2020-07-23T00:00:00.000Z</th>\n",
       "      <td>173.86</td>\n",
       "    </tr>\n",
       "    <tr>\n",
       "      <th>2020-07-24T00:00:00.000Z</th>\n",
       "      <td>172.56</td>\n",
       "    </tr>\n",
       "    <tr>\n",
       "      <th>2020-07-27T00:00:00.000Z</th>\n",
       "      <td>177.98</td>\n",
       "    </tr>\n",
       "    <tr>\n",
       "      <th>2020-07-28T00:00:00.000Z</th>\n",
       "      <td>176.27</td>\n",
       "    </tr>\n",
       "    <tr>\n",
       "      <th>...</th>\n",
       "      <td>...</td>\n",
       "    </tr>\n",
       "    <tr>\n",
       "      <th>2020-09-16T00:00:00.000Z</th>\n",
       "      <td>180.91</td>\n",
       "    </tr>\n",
       "    <tr>\n",
       "      <th>2020-09-17T00:00:00.000Z</th>\n",
       "      <td>175.79</td>\n",
       "    </tr>\n",
       "    <tr>\n",
       "      <th>2020-09-18T00:00:00.000Z</th>\n",
       "      <td>176.07</td>\n",
       "    </tr>\n",
       "    <tr>\n",
       "      <th>2020-09-21T00:00:00.000Z</th>\n",
       "      <td>183.21</td>\n",
       "    </tr>\n",
       "    <tr>\n",
       "      <th>2020-09-22T00:00:00.000Z</th>\n",
       "      <td>187.78</td>\n",
       "    </tr>\n",
       "  </tbody>\n",
       "</table>\n",
       "<p>44 rows × 1 columns</p>\n",
       "</div>"
      ],
      "text/plain": [
       "                           Close\n",
       "Date                            \n",
       "2020-07-22T00:00:00.000Z  178.42\n",
       "2020-07-23T00:00:00.000Z  173.86\n",
       "2020-07-24T00:00:00.000Z  172.56\n",
       "2020-07-27T00:00:00.000Z  177.98\n",
       "2020-07-28T00:00:00.000Z  176.27\n",
       "...                          ...\n",
       "2020-09-16T00:00:00.000Z  180.91\n",
       "2020-09-17T00:00:00.000Z  175.79\n",
       "2020-09-18T00:00:00.000Z  176.07\n",
       "2020-09-21T00:00:00.000Z  183.21\n",
       "2020-09-22T00:00:00.000Z  187.78\n",
       "\n",
       "[44 rows x 1 columns]"
      ]
     },
     "execution_count": 62,
     "metadata": {},
     "output_type": "execute_result"
    }
   ],
   "source": [
    "print('Total Stock Rows = ', len(datastock))\n",
    "print('Total US10Y Rows = ', len(us10y_data))\n",
    "\n",
    "if ADDUS10Y==1:\n",
    "    #****APPEND US10Y data here to a separate column in a new dataframe\n",
    "    data=pd.concat([datastock, us10y_data], axis=1, sort=False)\n",
    "\n",
    "    #fill US10Y NaN with previous value\n",
    "    data['US10Y'].fillna(method='ffill', inplace=True)\n",
    "\n",
    "else:\n",
    "    data=datastock\n",
    "    \n",
    "data.tail(len(datastock))"
   ]
  },
  {
   "cell_type": "code",
   "execution_count": 63,
   "metadata": {},
   "outputs": [],
   "source": [
    "#Add XMA here\n",
    "\n",
    "if ADDXMA == 1:\n",
    "    #Enter SMA Data - defined at the top\n",
    "    #data['Close-XMA5'] = data.iloc[:,0].rolling(window=xmasmall).mean()\n",
    "    #data['Close-XMA9'] = data.iloc[:,0].rolling(window=xmalong).mean()\n",
    "\n",
    "    #Enter EMA Data - defined at the top\n",
    "    data['Close-XMA'+str(xmasmall)] = data.iloc[:,0].ewm(span=xmasmall, adjust=False).mean()\n",
    "    data['Close-XMA'+str(xmalong)] = data.iloc[:,0].ewm(span=xmalong, adjust=False).mean()\n",
    "\n",
    "    droprow=xmalong\n",
    "    data.drop(data.index[0:droprow], inplace = True)"
   ]
  },
  {
   "cell_type": "code",
   "execution_count": 64,
   "metadata": {},
   "outputs": [],
   "source": [
    "def computeRSI(series, period=14):\n",
    "    # calculating RSI (gives the same values as TradingView)\n",
    "    # https://stackoverflow.com/questions/20526414/relative-strength-index-in-python-pandas\n",
    "    delta = series.diff().dropna()\n",
    "    ups = delta * 0\n",
    "    downs = ups.copy()\n",
    "    ups[delta > 0] = delta[delta > 0]\n",
    "    downs[delta < 0] = -delta[delta < 0]\n",
    "    ups[ups.index[period-1]] = np.mean( ups[:period] ) #first value is sum of avg gains\n",
    "    ups = ups.drop(ups.index[:(period-1)])\n",
    "    downs[downs.index[period-1]] = np.mean( downs[:period] ) #first value is sum of avg losses\n",
    "    downs = downs.drop(downs.index[:(period-1)])\n",
    "    rs = ups.ewm(com=period-1,min_periods=0,adjust=False,ignore_na=False).mean() / \\\n",
    "         downs.ewm(com=period-1,min_periods=0,adjust=False,ignore_na=False).mean() \n",
    "    return 100 - 100 / (1 + rs)"
   ]
  },
  {
   "cell_type": "code",
   "execution_count": 65,
   "metadata": {},
   "outputs": [],
   "source": [
    "def StochRSI_EMA(series, period=14, smoothK=3, smoothD=3):\n",
    "    #link from https://gist.github.com/ultragtx/6831eb04dfe9e6ff50d0f334bdcb847d\n",
    "    # calculating Stoch RSI (gives the same values as TradingView)\n",
    "    # https://www.tradingview.com/wiki/Stochastic_RSI_(STOCH_RSI) \n",
    "    # uses EMA, not SMA\n",
    "    \n",
    "    # Calculate RSI\n",
    "    delta = series.diff().dropna()\n",
    "    ups = delta * 0\n",
    "    downs = ups.copy()\n",
    "    ups[delta > 0] = delta[delta > 0]\n",
    "    downs[delta < 0] = -delta[delta < 0]\n",
    "    ups[ups.index[period-1]] = np.mean( ups[:period] ) #first value is sum of avg gains\n",
    "    ups = ups.drop(ups.index[:(period-1)])\n",
    "    downs[downs.index[period-1]] = np.mean( downs[:period] ) #first value is sum of avg losses\n",
    "    downs = downs.drop(downs.index[:(period-1)])\n",
    "    rs = ups.ewm(com=period-1,min_periods=0,adjust=False,ignore_na=False).mean() / \\\n",
    "         downs.ewm(com=period-1,min_periods=0,adjust=False,ignore_na=False).mean() \n",
    "    rsi = 100 - 100 / (1 + rs)\n",
    "\n",
    "    # Calculate StochRSI \n",
    "    stochrsi  = (rsi - rsi.rolling(period).min()) / (rsi.rolling(period).max() - rsi.rolling(period).min())\n",
    "    stochrsi_K = stochrsi.ewm(span=smoothK).mean()\n",
    "    stochrsi_D = stochrsi_K.ewm(span=smoothD).mean()\n",
    "\n",
    "    return stochrsi, stochrsi_K, stochrsi_D"
   ]
  },
  {
   "cell_type": "code",
   "execution_count": 66,
   "metadata": {},
   "outputs": [],
   "source": [
    "#Add RSI here\n",
    "if ADDRSI == 1:\n",
    "    data['Close-RSI'+str(RSIwindow)] = computeRSI(data['Close'], RSIwindow)\n",
    "    #data.drop(data.index[0:RSIwindow], inplace = True)"
   ]
  },
  {
   "cell_type": "code",
   "execution_count": 67,
   "metadata": {},
   "outputs": [],
   "source": [
    "#Add STOCHRSI here\n",
    "if ADDSTOCHRSI == 1:\n",
    "    srsi_val, srsi_kval, srsi_dval = StochRSI_EMA(data['Close'], SRSIw, SRSIk, SRSId)\n",
    "    data['Close-SRSIk'+str(SRSIk)] = srsi_kval\n",
    "    data['Close-SRSId'+str(SRSId)] = srsi_dval\n",
    "    #data.drop(data.index[0:SRSIw*2], inplace = True)"
   ]
  },
  {
   "cell_type": "code",
   "execution_count": 68,
   "metadata": {},
   "outputs": [],
   "source": [
    "#Drop rows on which RSI or SRSI are first computed\n",
    "if ADDRSI == 1 and ADDSTOCHRSI == 1:\n",
    "    data.drop(data.index[0:max(RSIwindow,SRSIw*2)], inplace = True)\n",
    "if ADDRSI == 0 and ADDSTOCHRSI == 1:\n",
    "    data.drop(data.index[0:SRSIw*2], inplace = True)\n",
    "if ADDRSI == 1 and ADDSTOCHRSI == 0:\n",
    "    data.drop(data.index[0:RSIwindow], inplace = True)"
   ]
  },
  {
   "cell_type": "code",
   "execution_count": 69,
   "metadata": {},
   "outputs": [
    {
     "name": "stdout",
     "output_type": "stream",
     "text": [
      "Number of data columns =  1\n"
     ]
    }
   ],
   "source": [
    "data_noofcols = len(data.columns)\n",
    "print('Number of data columns = ', data_noofcols)"
   ]
  },
  {
   "cell_type": "code",
   "execution_count": 70,
   "metadata": {},
   "outputs": [
    {
     "data": {
      "text/html": [
       "<div>\n",
       "<style scoped>\n",
       "    .dataframe tbody tr th:only-of-type {\n",
       "        vertical-align: middle;\n",
       "    }\n",
       "\n",
       "    .dataframe tbody tr th {\n",
       "        vertical-align: top;\n",
       "    }\n",
       "\n",
       "    .dataframe thead th {\n",
       "        text-align: right;\n",
       "    }\n",
       "</style>\n",
       "<table border=\"1\" class=\"dataframe\">\n",
       "  <thead>\n",
       "    <tr style=\"text-align: right;\">\n",
       "      <th></th>\n",
       "      <th>Close</th>\n",
       "    </tr>\n",
       "    <tr>\n",
       "      <th>Date</th>\n",
       "      <th></th>\n",
       "    </tr>\n",
       "  </thead>\n",
       "  <tbody>\n",
       "    <tr>\n",
       "      <th>2020-07-22T00:00:00.000Z</th>\n",
       "      <td>178.42</td>\n",
       "    </tr>\n",
       "    <tr>\n",
       "      <th>2020-07-23T00:00:00.000Z</th>\n",
       "      <td>173.86</td>\n",
       "    </tr>\n",
       "    <tr>\n",
       "      <th>2020-07-24T00:00:00.000Z</th>\n",
       "      <td>172.56</td>\n",
       "    </tr>\n",
       "    <tr>\n",
       "      <th>2020-07-27T00:00:00.000Z</th>\n",
       "      <td>177.98</td>\n",
       "    </tr>\n",
       "    <tr>\n",
       "      <th>2020-07-28T00:00:00.000Z</th>\n",
       "      <td>176.27</td>\n",
       "    </tr>\n",
       "    <tr>\n",
       "      <th>...</th>\n",
       "      <td>...</td>\n",
       "    </tr>\n",
       "    <tr>\n",
       "      <th>2020-09-16T00:00:00.000Z</th>\n",
       "      <td>180.91</td>\n",
       "    </tr>\n",
       "    <tr>\n",
       "      <th>2020-09-17T00:00:00.000Z</th>\n",
       "      <td>175.79</td>\n",
       "    </tr>\n",
       "    <tr>\n",
       "      <th>2020-09-18T00:00:00.000Z</th>\n",
       "      <td>176.07</td>\n",
       "    </tr>\n",
       "    <tr>\n",
       "      <th>2020-09-21T00:00:00.000Z</th>\n",
       "      <td>183.21</td>\n",
       "    </tr>\n",
       "    <tr>\n",
       "      <th>2020-09-22T00:00:00.000Z</th>\n",
       "      <td>187.78</td>\n",
       "    </tr>\n",
       "  </tbody>\n",
       "</table>\n",
       "<p>44 rows × 1 columns</p>\n",
       "</div>"
      ],
      "text/plain": [
       "                           Close\n",
       "Date                            \n",
       "2020-07-22T00:00:00.000Z  178.42\n",
       "2020-07-23T00:00:00.000Z  173.86\n",
       "2020-07-24T00:00:00.000Z  172.56\n",
       "2020-07-27T00:00:00.000Z  177.98\n",
       "2020-07-28T00:00:00.000Z  176.27\n",
       "...                          ...\n",
       "2020-09-16T00:00:00.000Z  180.91\n",
       "2020-09-17T00:00:00.000Z  175.79\n",
       "2020-09-18T00:00:00.000Z  176.07\n",
       "2020-09-21T00:00:00.000Z  183.21\n",
       "2020-09-22T00:00:00.000Z  187.78\n",
       "\n",
       "[44 rows x 1 columns]"
      ]
     },
     "execution_count": 70,
     "metadata": {},
     "output_type": "execute_result"
    }
   ],
   "source": [
    "data.tail(len(data))"
   ]
  },
  {
   "cell_type": "code",
   "execution_count": 71,
   "metadata": {},
   "outputs": [
    {
     "data": {
      "image/png": "[encoded data removed]",
      "text/plain": [
       "<Figure size 1152x432 with 1 Axes>"
      ]
     },
     "metadata": {
      "needs_background": "light"
     },
     "output_type": "display_data"
    }
   ],
   "source": [
    "plt.figure()\n",
    "data['Close'].plot(figsize=(16,6), label=ticker+'-Close')\n",
    "if ADDXMA==1:\n",
    "    data['Close-XMA'+str(xmasmall)].plot(label=ticker+'-EMA'+str(xmasmall))\n",
    "    data['Close-XMA'+str(xmalong)].plot(label=ticker+'-EMA'+str(xmalong))\n",
    "plt.legend()\n",
    "if ADDUS10Y==1:\n",
    "    data['US10Y'].plot(secondary_y=True, label='US10Y')\n",
    "plt.legend()\n",
    "plt.show()"
   ]
  },
  {
   "cell_type": "code",
   "execution_count": 72,
   "metadata": {},
   "outputs": [
    {
     "data": {
      "image/png": "[encoded data removed]",
      "text/plain": [
       "<Figure size 1152x432 with 1 Axes>"
      ]
     },
     "metadata": {
      "needs_background": "light"
     },
     "output_type": "display_data"
    }
   ],
   "source": [
    "if noofplots >= 1:\n",
    "    fig, axs = plt.subplots(noofplots+1,1,figsize=(32,16))\n",
    "    axs[0].plot(data['Close'], color='r', label=ticker+' Closes')\n",
    "    if ADDXMA==1:\n",
    "        axs[0].plot(data['Close-XMA'+str(xmasmall)], label=ticker+' Close-ema'+str(xmasmall))\n",
    "        axs[0].plot(data['Close-XMA'+str(xmalong)], label=ticker+' Close-ema'+str(xmalong))\n",
    "    axs[0].legend()\n",
    "else:\n",
    "    plt.figure(figsize=(16,6))\n",
    "    plt.plot(data['Close'], label = ticker+' Closes')\n",
    "    if ADDXMA==1:\n",
    "        plt.plot(data['Close-XMA'+str(xmasmall)], label=ticker+' Close-ema'+str(xmasmall))\n",
    "        plt.plot(data['Close-XMA'+str(xmalong)], label=ticker+' Close-ema'+str(xmalong))\n",
    "    plt.legend()\n",
    "    \n",
    "if ADDRSI==1:\n",
    "    axs[noofplots].plot(data['Close-RSI'+str(RSIwindow)], label=ticker+' Close-rsi'+str(RSIwindow))\n",
    "    axs[noofplots].legend()\n",
    "    noofplots = noofplots - 1\n",
    "if ADDSTOCHRSI==1:\n",
    "    axs[noofplots].plot(data['Close-SRSIk'+str(SRSIk)], label=ticker+' Close-srsik'+str(SRSIk))\n",
    "    axs[noofplots].plot(data['Close-SRSId'+str(SRSId)], label=ticker+' Close-srsid'+str(SRSId))\n",
    "    axs[noofplots].legend()\n",
    "plt.show()"
   ]
  },
  {
   "cell_type": "code",
   "execution_count": 73,
   "metadata": {},
   "outputs": [
    {
     "name": "stdout",
     "output_type": "stream",
     "text": [
      "Length of scaled_data =  44\n",
      "[[0.15316257]\n",
      " [0.03397804]\n",
      " [0.        ]\n",
      " [0.14166231]\n",
      " [0.09696811]\n",
      " [0.31468897]\n",
      " [0.52143231]\n",
      " [0.61447987]\n",
      " [0.64061683]\n",
      " [0.64741244]\n",
      " [0.79325666]\n",
      " [0.82409827]\n",
      " [0.68139049]\n",
      " [0.54260324]\n",
      " [0.43047569]\n",
      " [0.49032933]\n",
      " [0.536069  ]\n",
      " [0.4939885 ]\n",
      " [0.62023001]\n",
      " [0.57527444]\n",
      " [0.51960272]\n",
      " [0.66962886]\n",
      " [0.63329848]\n",
      " [0.68792473]\n",
      " [0.76084684]\n",
      " [0.80815473]\n",
      " [0.83063251]\n",
      " [0.83429169]\n",
      " [0.82540512]\n",
      " [0.95060115]\n",
      " [1.        ]\n",
      " [0.84762154]\n",
      " [0.50392054]\n",
      " [0.34997386]\n",
      " [0.57605855]\n",
      " [0.45818087]\n",
      " [0.2990068 ]\n",
      " [0.37637219]\n",
      " [0.35180345]\n",
      " [0.2182436 ]\n",
      " [0.08442237]\n",
      " [0.09174072]\n",
      " [0.2783586 ]\n",
      " [0.3978045 ]]\n"
     ]
    }
   ],
   "source": [
    "scaler = MinMaxScaler()\n",
    "scaled_data = scaler.fit_transform(data)\n",
    "\n",
    "print('Length of scaled_data = ', len(scaled_data))\n",
    "print(scaled_data)"
   ]
  },
  {
   "cell_type": "code",
   "execution_count": 74,
   "metadata": {},
   "outputs": [
    {
     "name": "stdout",
     "output_type": "stream",
     "text": [
      "scaled_data length = 44\n",
      "train_length =  30\n",
      "test_length =  14\n",
      "[[0.15316257]\n",
      " [0.03397804]\n",
      " [0.        ]\n",
      " [0.14166231]\n",
      " [0.09696811]\n",
      " [0.31468897]\n",
      " [0.52143231]\n",
      " [0.61447987]\n",
      " [0.64061683]\n",
      " [0.64741244]\n",
      " [0.79325666]\n",
      " [0.82409827]\n",
      " [0.68139049]\n",
      " [0.54260324]\n",
      " [0.43047569]\n",
      " [0.49032933]\n",
      " [0.536069  ]\n",
      " [0.4939885 ]\n",
      " [0.62023001]\n",
      " [0.57527444]\n",
      " [0.51960272]\n",
      " [0.66962886]\n",
      " [0.63329848]\n",
      " [0.68792473]\n",
      " [0.76084684]\n",
      " [0.80815473]\n",
      " [0.83063251]\n",
      " [0.83429169]\n",
      " [0.82540512]\n",
      " [0.95060115]]\n",
      "[[1.        ]\n",
      " [0.84762154]\n",
      " [0.50392054]\n",
      " [0.34997386]\n",
      " [0.57605855]\n",
      " [0.45818087]\n",
      " [0.2990068 ]\n",
      " [0.37637219]\n",
      " [0.35180345]\n",
      " [0.2182436 ]\n",
      " [0.08442237]\n",
      " [0.09174072]\n",
      " [0.2783586 ]\n",
      " [0.3978045 ]]\n"
     ]
    }
   ],
   "source": [
    "train_length = int(len(scaled_data) * TrainPCT)\n",
    "test_length = len(scaled_data) - train_length\n",
    "train_data = scaled_data[0:train_length,:]\n",
    "test_data = scaled_data[train_length:len(scaled_data),:]\n",
    "\n",
    "if DBGmode == 1:\n",
    "    print('scaled_data length =', len(scaled_data))\n",
    "    print('train_length = ', train_length)\n",
    "    print('test_length = ', test_length)\n",
    "    print(train_data)\n",
    "    print(test_data)"
   ]
  },
  {
   "cell_type": "code",
   "execution_count": 75,
   "metadata": {},
   "outputs": [],
   "source": [
    "def create_dataset(dataset, noofcols, timestep=1, lookahead=1):\n",
    "    #ex timestep=3, lookahead=2\n",
    "    #for day0,1,2 predict day4\n",
    "    \n",
    "    data_x, data_y = [], []\n",
    "    for i in range(len(dataset) - timestep - lookahead + 1):\n",
    "        data_x.append(dataset[i:(i+timestep),0:noofcols])\n",
    "        data_y.append(dataset[i+timestep-1+lookahead,0])\n",
    "    #It has been shown that Numpy arrays need 4 times less memory compared to Python lists\n",
    "    return np.array(data_x), np.array(data_y)"
   ]
  },
  {
   "cell_type": "code",
   "execution_count": 76,
   "metadata": {},
   "outputs": [
    {
     "name": "stdout",
     "output_type": "stream",
     "text": [
      "[[[1.        ]\n",
      "  [0.84762154]\n",
      "  [0.50392054]]\n",
      "\n",
      " [[0.84762154]\n",
      "  [0.50392054]\n",
      "  [0.34997386]]\n",
      "\n",
      " [[0.50392054]\n",
      "  [0.34997386]\n",
      "  [0.57605855]]\n",
      "\n",
      " [[0.34997386]\n",
      "  [0.57605855]\n",
      "  [0.45818087]]\n",
      "\n",
      " [[0.57605855]\n",
      "  [0.45818087]\n",
      "  [0.2990068 ]]\n",
      "\n",
      " [[0.45818087]\n",
      "  [0.2990068 ]\n",
      "  [0.37637219]]\n",
      "\n",
      " [[0.2990068 ]\n",
      "  [0.37637219]\n",
      "  [0.35180345]]\n",
      "\n",
      " [[0.37637219]\n",
      "  [0.35180345]\n",
      "  [0.2182436 ]]\n",
      "\n",
      " [[0.35180345]\n",
      "  [0.2182436 ]\n",
      "  [0.08442237]]\n",
      "\n",
      " [[0.2182436 ]\n",
      "  [0.08442237]\n",
      "  [0.09174072]]\n",
      "\n",
      " [[0.08442237]\n",
      "  [0.09174072]\n",
      "  [0.2783586 ]]]\n"
     ]
    }
   ],
   "source": [
    "train_x, train_y = create_dataset(train_data, data_noofcols, timestep, lookahead)\n",
    "test_x, test_y = create_dataset(test_data, data_noofcols, timestep, lookahead)\n",
    "\n",
    "if DBGmode == 1:\n",
    "    print(test_x)"
   ]
  },
  {
   "cell_type": "code",
   "execution_count": 77,
   "metadata": {},
   "outputs": [
    {
     "name": "stdout",
     "output_type": "stream",
     "text": [
      "[0.34997386 0.57605855 0.45818087 0.2990068  0.37637219 0.35180345\n",
      " 0.2182436  0.08442237 0.09174072 0.2783586  0.3978045 ]\n"
     ]
    }
   ],
   "source": [
    "if DBGmode == 1:\n",
    "    print(test_y)"
   ]
  },
  {
   "cell_type": "code",
   "execution_count": 78,
   "metadata": {},
   "outputs": [
    {
     "name": "stdout",
     "output_type": "stream",
     "text": [
      "#Samples, #Timesteps, #Features - for input to LSTM\n",
      "train_x shape =  (27, 3, 1)\n",
      "test_x shape =  (11, 3, 1)\n",
      "train_y shape =  (27,)\n",
      "test_y shape =  (11,)\n"
     ]
    }
   ],
   "source": [
    "print('#Samples, #Timesteps, #Features - for input to LSTM')\n",
    "print('train_x shape = ', train_x.shape)\n",
    "print('test_x shape = ', test_x.shape)\n",
    "print('train_y shape = ', train_y.shape)\n",
    "print('test_y shape = ', test_y.shape)"
   ]
  },
  {
   "cell_type": "code",
   "execution_count": 79,
   "metadata": {},
   "outputs": [
    {
     "name": "stdout",
     "output_type": "stream",
     "text": [
      "[[[0.15316257]\n",
      "  [0.03397804]\n",
      "  [0.        ]]\n",
      "\n",
      " [[0.03397804]\n",
      "  [0.        ]\n",
      "  [0.14166231]]\n",
      "\n",
      " [[0.        ]\n",
      "  [0.14166231]\n",
      "  [0.09696811]]\n",
      "\n",
      " [[0.14166231]\n",
      "  [0.09696811]\n",
      "  [0.31468897]]\n",
      "\n",
      " [[0.09696811]\n",
      "  [0.31468897]\n",
      "  [0.52143231]]\n",
      "\n",
      " [[0.31468897]\n",
      "  [0.52143231]\n",
      "  [0.61447987]]\n",
      "\n",
      " [[0.52143231]\n",
      "  [0.61447987]\n",
      "  [0.64061683]]\n",
      "\n",
      " [[0.61447987]\n",
      "  [0.64061683]\n",
      "  [0.64741244]]\n",
      "\n",
      " [[0.64061683]\n",
      "  [0.64741244]\n",
      "  [0.79325666]]\n",
      "\n",
      " [[0.64741244]\n",
      "  [0.79325666]\n",
      "  [0.82409827]]\n",
      "\n",
      " [[0.79325666]\n",
      "  [0.82409827]\n",
      "  [0.68139049]]\n",
      "\n",
      " [[0.82409827]\n",
      "  [0.68139049]\n",
      "  [0.54260324]]\n",
      "\n",
      " [[0.68139049]\n",
      "  [0.54260324]\n",
      "  [0.43047569]]\n",
      "\n",
      " [[0.54260324]\n",
      "  [0.43047569]\n",
      "  [0.49032933]]\n",
      "\n",
      " [[0.43047569]\n",
      "  [0.49032933]\n",
      "  [0.536069  ]]\n",
      "\n",
      " [[0.49032933]\n",
      "  [0.536069  ]\n",
      "  [0.4939885 ]]\n",
      "\n",
      " [[0.536069  ]\n",
      "  [0.4939885 ]\n",
      "  [0.62023001]]\n",
      "\n",
      " [[0.4939885 ]\n",
      "  [0.62023001]\n",
      "  [0.57527444]]\n",
      "\n",
      " [[0.62023001]\n",
      "  [0.57527444]\n",
      "  [0.51960272]]\n",
      "\n",
      " [[0.57527444]\n",
      "  [0.51960272]\n",
      "  [0.66962886]]\n",
      "\n",
      " [[0.51960272]\n",
      "  [0.66962886]\n",
      "  [0.63329848]]\n",
      "\n",
      " [[0.66962886]\n",
      "  [0.63329848]\n",
      "  [0.68792473]]\n",
      "\n",
      " [[0.63329848]\n",
      "  [0.68792473]\n",
      "  [0.76084684]]\n",
      "\n",
      " [[0.68792473]\n",
      "  [0.76084684]\n",
      "  [0.80815473]]\n",
      "\n",
      " [[0.76084684]\n",
      "  [0.80815473]\n",
      "  [0.83063251]]\n",
      "\n",
      " [[0.80815473]\n",
      "  [0.83063251]\n",
      "  [0.83429169]]\n",
      "\n",
      " [[0.83063251]\n",
      "  [0.83429169]\n",
      "  [0.82540512]]]\n"
     ]
    }
   ],
   "source": [
    "##Samples, #Timesteps, #Features - for input to LSTM'\n",
    "#train_x = np.reshape(train_x, (train_x.shape[0], train_x.shape[1], data_noofcols))\n",
    "#test_x = np.reshape(test_x, (test_x.shape[0], test_x.shape[1], data_noofcols))\n",
    "\n",
    "if DBGmode == 1:\n",
    "    print(train_x)"
   ]
  },
  {
   "cell_type": "code",
   "execution_count": 80,
   "metadata": {},
   "outputs": [
    {
     "name": "stdout",
     "output_type": "stream",
     "text": [
      "Model: \"sequential_1\"\n",
      "_________________________________________________________________\n",
      "Layer (type)                 Output Shape              Param #   \n",
      "=================================================================\n",
      "lstm_2 (LSTM)                (None, 3, 256)            264192    \n",
      "_________________________________________________________________\n",
      "lstm_3 (LSTM)                (None, 128)               197120    \n",
      "_________________________________________________________________\n",
      "dense_2 (Dense)              (None, 32)                4128      \n",
      "_________________________________________________________________\n",
      "dense_3 (Dense)              (None, 1)                 33        \n",
      "=================================================================\n",
      "Total params: 465,473\n",
      "Trainable params: 465,473\n",
      "Non-trainable params: 0\n",
      "_________________________________________________________________\n",
      "None\n"
     ]
    }
   ],
   "source": [
    "#optimizer = 'adam' 'SGD' 'RMSprop' 'adadelta' 'adagrad' 'adamax' 'nadam' 'ftrl'\n",
    "#activation = 'sigmoid' 'linear' relu' 'softmax' 'softplus' 'softsign' 'tanh' selu' 'elu' 'exponential' \n",
    "#loss = 'binary_crossentropy' 'mean_squared_error'\n",
    "\n",
    "#LSTM input_shape = #timestep, #features\n",
    "model = Sequential()\n",
    "#model.add(LSTM(256, input_shape=(1,data_noofcols)))\n",
    "model.add(LSTM(256, return_sequences=True, input_shape=(timestep,data_noofcols)))\n",
    "#model.add(Dropout(0.2))\n",
    "model.add(LSTM(128, return_sequences=False))\n",
    "#model.add(Dropout(0.2))\n",
    "#model.add(Dense(1, activation='sigmoid'))\n",
    "#model.add(Dense(6, input_dim=6, activation='relu'))\n",
    "model.add(Dense(32))\n",
    "model.add(Dense(1))\n",
    "#model.add(Dense(1, activation=None))\n",
    "model.compile(loss='mean_squared_error', optimizer='adam', metrics=['accuracy'])\n",
    "print(model.summary())"
   ]
  },
  {
   "cell_type": "code",
   "execution_count": 81,
   "metadata": {},
   "outputs": [
    {
     "name": "stdout",
     "output_type": "stream",
     "text": [
      "27/27 [==============================] - 1s 21ms/step - loss: 0.0660 - accuracy: 0.0000e+00 - val_loss: 0.0310 - val_accuracy: 0.0000e+00\n",
      "Keras model loss =  0.028778843581676483\n",
      "Keras model accuracy =  0.0\n"
     ]
    }
   ],
   "source": [
    "if PlotLoss==1:\n",
    "    model.fit(train_x, train_y, epochs=epochval, batch_size=batchval, verbose=1, validation_data=(test_x, test_y), callbacks=[PlotLossesKeras()])\n",
    "else:\n",
    "    model.fit(train_x, train_y, epochs=epochval, batch_size=batchval, verbose=1, validation_data=(test_x, test_y))\n",
    "\n",
    "score = model.evaluate(train_x, train_y, verbose=0)\n",
    "print('Keras model loss = ', score[0])\n",
    "print('Keras model accuracy = ', score[1])"
   ]
  },
  {
   "cell_type": "code",
   "execution_count": 82,
   "metadata": {},
   "outputs": [
    {
     "name": "stdout",
     "output_type": "stream",
     "text": [
      "[[0.2674485 ]\n",
      " [0.2496555 ]\n",
      " [0.26266488]\n",
      " [0.3088409 ]\n",
      " [0.35931528]\n",
      " [0.45437714]\n",
      " [0.5196763 ]\n",
      " [0.5457179 ]\n",
      " [0.56800467]\n",
      " [0.5987548 ]\n",
      " [0.62164474]\n",
      " [0.5885315 ]\n",
      " [0.5203858 ]\n",
      " [0.47580892]\n",
      " [0.46635404]\n",
      " [0.48341817]\n",
      " [0.4992866 ]\n",
      " [0.50776345]\n",
      " [0.52195644]\n",
      " [0.5177416 ]\n",
      " [0.5283474 ]\n",
      " [0.5608977 ]\n",
      " [0.5702137 ]\n",
      " [0.6002919 ]\n",
      " [0.6272425 ]\n",
      " [0.6421099 ]\n",
      " [0.6468097 ]]\n"
     ]
    }
   ],
   "source": [
    "train_predictions = model.predict(train_x)\n",
    "test_predictions = model.predict(test_x)\n",
    "\n",
    "if DBGmode == 1:\n",
    "    print(train_predictions)"
   ]
  },
  {
   "cell_type": "code",
   "execution_count": 83,
   "metadata": {},
   "outputs": [],
   "source": [
    "#Perform inverse Scaler transform\n",
    "\n",
    "# create empty table with data_noofcols fields\n",
    "train_predictions_like = np.zeros(shape=(len(train_predictions), data_noofcols))\n",
    "# put the predicted values in the right field\n",
    "train_predictions_like[:,0] = train_predictions[:,0]\n",
    "# inverse transform and then select the right field\n",
    "train_predictions = scaler.inverse_transform(train_predictions_like)[:,0]\n",
    "\n",
    "# create empty table with 2 fields\n",
    "test_predictions_like = np.zeros(shape=(len(test_predictions), data_noofcols))\n",
    "# put the predicted values in the right field\n",
    "test_predictions_like[:,0] = test_predictions[:,0]\n",
    "# inverse transform and then select the right field\n",
    "test_predictions = scaler.inverse_transform(test_predictions_like)[:,0]"
   ]
  },
  {
   "cell_type": "code",
   "execution_count": 84,
   "metadata": {},
   "outputs": [
    {
     "name": "stdout",
     "output_type": "stream",
     "text": [
      "[182.79258017 182.11181943 182.60955847 184.37625286 186.30740247\n",
      " 189.94446955 192.4428163  193.43916666 194.29185859 195.46835954\n",
      " 196.34412757 195.07721497 192.46996078 190.76444922 190.40270566\n",
      " 191.05557906 191.66270501 191.98702942 192.53005354 192.3687944\n",
      " 192.77457049 194.01994631 194.37637522 195.52716839 196.55829826\n",
      " 197.12712366 197.30693901]\n",
      "[197.54529184 193.29594835 190.22901566 189.99181561 190.47253946\n",
      " 188.69308355 187.76883492 187.72555495 186.07190251 184.05372546\n",
      " 183.70914474]\n"
     ]
    }
   ],
   "source": [
    "if DBGmode == 1:\n",
    "    print(train_predictions)\n",
    "    print(test_predictions)"
   ]
  },
  {
   "cell_type": "code",
   "execution_count": 85,
   "metadata": {},
   "outputs": [],
   "source": [
    "#train_predict_plot = np.empty_like(scaled_data[:,0])\n",
    "train_predict_plot = scaled_data[:,0]\n",
    "train_predict_plot[:] = np.nan\n",
    "train_predict_plot[timestep-1+lookahead:len(train_predictions)+timestep-1+lookahead] = train_predictions"
   ]
  },
  {
   "cell_type": "code",
   "execution_count": 86,
   "metadata": {},
   "outputs": [
    {
     "name": "stdout",
     "output_type": "stream",
     "text": [
      "[197.54529184 193.29594835 190.22901566 189.99181561 190.47253946\n",
      " 188.69308355 187.76883492 187.72555495 186.07190251 184.05372546\n",
      " 183.70914474]\n"
     ]
    }
   ],
   "source": [
    "if DBGmode==1:\n",
    "    print(test_predictions)"
   ]
  },
  {
   "cell_type": "code",
   "execution_count": 87,
   "metadata": {},
   "outputs": [],
   "source": [
    "test_predict_plot = np.empty_like(scaled_data[:,0])\n",
    "test_predict_plot[:] = np.nan\n",
    "test_predict_plot[\n",
    "    len(train_predictions)+timestep-1+lookahead+timestep-1+lookahead:len(scaled_data)] = test_predictions"
   ]
  },
  {
   "cell_type": "code",
   "execution_count": 88,
   "metadata": {},
   "outputs": [
    {
     "data": {
      "image/png": "[encoded data removed]",
      "text/plain": [
       "<Figure size 1152x432 with 1 Axes>"
      ]
     },
     "metadata": {
      "needs_background": "light"
     },
     "output_type": "display_data"
    }
   ],
   "source": [
    "plt.figure(figsize=(16,6))\n",
    "plt.plot(data.Close, label = ticker+' Closes')\n",
    "plt.plot(train_predict_plot, label = ticker+' Train-T'+str(timestep)+',L'+str(lookahead))\n",
    "plt.plot(test_predict_plot, label = ticker+' Predict-T'+str(timestep)+',L'+str(lookahead))\n",
    "plt.legend()\n",
    "plt.show()"
   ]
  },
  {
   "cell_type": "code",
   "execution_count": 89,
   "metadata": {},
   "outputs": [
    {
     "name": "stdout",
     "output_type": "stream",
     "text": [
      "Number of data[Close] rows =  44\n",
      "Length of Train data =  27\n",
      "Length of test data =  11\n"
     ]
    }
   ],
   "source": [
    "print('Number of data[Close] rows = ', len(data['Close']))\n",
    "print('Length of Train data = ', len(train_predictions))\n",
    "print('Length of test data = ', len(test_predictions))"
   ]
  },
  {
   "cell_type": "code",
   "execution_count": 90,
   "metadata": {},
   "outputs": [
    {
     "data": {
      "text/html": [
       "<div>\n",
       "<style scoped>\n",
       "    .dataframe tbody tr th:only-of-type {\n",
       "        vertical-align: middle;\n",
       "    }\n",
       "\n",
       "    .dataframe tbody tr th {\n",
       "        vertical-align: top;\n",
       "    }\n",
       "\n",
       "    .dataframe thead th {\n",
       "        text-align: right;\n",
       "    }\n",
       "</style>\n",
       "<table border=\"1\" class=\"dataframe\">\n",
       "  <thead>\n",
       "    <tr style=\"text-align: right;\">\n",
       "      <th></th>\n",
       "      <th>Close</th>\n",
       "      <th>AITrain</th>\n",
       "      <th>AITest</th>\n",
       "    </tr>\n",
       "    <tr>\n",
       "      <th>Date</th>\n",
       "      <th></th>\n",
       "      <th></th>\n",
       "      <th></th>\n",
       "    </tr>\n",
       "  </thead>\n",
       "  <tbody>\n",
       "    <tr>\n",
       "      <th>2020-07-22T00:00:00.000Z</th>\n",
       "      <td>178.42</td>\n",
       "      <td>NaN</td>\n",
       "      <td>NaN</td>\n",
       "    </tr>\n",
       "    <tr>\n",
       "      <th>2020-07-23T00:00:00.000Z</th>\n",
       "      <td>173.86</td>\n",
       "      <td>NaN</td>\n",
       "      <td>NaN</td>\n",
       "    </tr>\n",
       "    <tr>\n",
       "      <th>2020-07-24T00:00:00.000Z</th>\n",
       "      <td>172.56</td>\n",
       "      <td>NaN</td>\n",
       "      <td>NaN</td>\n",
       "    </tr>\n",
       "    <tr>\n",
       "      <th>2020-07-27T00:00:00.000Z</th>\n",
       "      <td>177.98</td>\n",
       "      <td>182.792580</td>\n",
       "      <td>NaN</td>\n",
       "    </tr>\n",
       "    <tr>\n",
       "      <th>2020-07-28T00:00:00.000Z</th>\n",
       "      <td>176.27</td>\n",
       "      <td>182.111819</td>\n",
       "      <td>NaN</td>\n",
       "    </tr>\n",
       "    <tr>\n",
       "      <th>2020-07-29T00:00:00.000Z</th>\n",
       "      <td>184.60</td>\n",
       "      <td>182.609558</td>\n",
       "      <td>NaN</td>\n",
       "    </tr>\n",
       "    <tr>\n",
       "      <th>2020-07-30T00:00:00.000Z</th>\n",
       "      <td>192.51</td>\n",
       "      <td>184.376253</td>\n",
       "      <td>NaN</td>\n",
       "    </tr>\n",
       "    <tr>\n",
       "      <th>2020-07-31T00:00:00.000Z</th>\n",
       "      <td>196.07</td>\n",
       "      <td>186.307402</td>\n",
       "      <td>NaN</td>\n",
       "    </tr>\n",
       "    <tr>\n",
       "      <th>2020-08-03T00:00:00.000Z</th>\n",
       "      <td>197.07</td>\n",
       "      <td>189.944470</td>\n",
       "      <td>NaN</td>\n",
       "    </tr>\n",
       "  </tbody>\n",
       "</table>\n",
       "</div>"
      ],
      "text/plain": [
       "                           Close     AITrain  AITest\n",
       "Date                                                \n",
       "2020-07-22T00:00:00.000Z  178.42         NaN     NaN\n",
       "2020-07-23T00:00:00.000Z  173.86         NaN     NaN\n",
       "2020-07-24T00:00:00.000Z  172.56         NaN     NaN\n",
       "2020-07-27T00:00:00.000Z  177.98  182.792580     NaN\n",
       "2020-07-28T00:00:00.000Z  176.27  182.111819     NaN\n",
       "2020-07-29T00:00:00.000Z  184.60  182.609558     NaN\n",
       "2020-07-30T00:00:00.000Z  192.51  184.376253     NaN\n",
       "2020-07-31T00:00:00.000Z  196.07  186.307402     NaN\n",
       "2020-08-03T00:00:00.000Z  197.07  189.944470     NaN"
      ]
     },
     "execution_count": 90,
     "metadata": {},
     "output_type": "execute_result"
    }
   ],
   "source": [
    "data['AITrain'] = train_predict_plot\n",
    "data['AITest'] = test_predict_plot\n",
    "data.head(lookahead+timestep+5)"
   ]
  },
  {
   "cell_type": "code",
   "execution_count": 91,
   "metadata": {},
   "outputs": [
    {
     "data": {
      "text/html": [
       "<div>\n",
       "<style scoped>\n",
       "    .dataframe tbody tr th:only-of-type {\n",
       "        vertical-align: middle;\n",
       "    }\n",
       "\n",
       "    .dataframe tbody tr th {\n",
       "        vertical-align: top;\n",
       "    }\n",
       "\n",
       "    .dataframe thead th {\n",
       "        text-align: right;\n",
       "    }\n",
       "</style>\n",
       "<table border=\"1\" class=\"dataframe\">\n",
       "  <thead>\n",
       "    <tr style=\"text-align: right;\">\n",
       "      <th></th>\n",
       "      <th>Close</th>\n",
       "      <th>AITrain</th>\n",
       "      <th>AITest</th>\n",
       "    </tr>\n",
       "    <tr>\n",
       "      <th>Date</th>\n",
       "      <th></th>\n",
       "      <th></th>\n",
       "      <th></th>\n",
       "    </tr>\n",
       "  </thead>\n",
       "  <tbody>\n",
       "    <tr>\n",
       "      <th>2020-09-10T00:00:00.000Z</th>\n",
       "      <td>190.09</td>\n",
       "      <td>NaN</td>\n",
       "      <td>190.229016</td>\n",
       "    </tr>\n",
       "    <tr>\n",
       "      <th>2020-09-11T00:00:00.000Z</th>\n",
       "      <td>184.00</td>\n",
       "      <td>NaN</td>\n",
       "      <td>189.991816</td>\n",
       "    </tr>\n",
       "    <tr>\n",
       "      <th>2020-09-14T00:00:00.000Z</th>\n",
       "      <td>186.96</td>\n",
       "      <td>NaN</td>\n",
       "      <td>190.472539</td>\n",
       "    </tr>\n",
       "    <tr>\n",
       "      <th>2020-09-15T00:00:00.000Z</th>\n",
       "      <td>186.02</td>\n",
       "      <td>NaN</td>\n",
       "      <td>188.693084</td>\n",
       "    </tr>\n",
       "    <tr>\n",
       "      <th>2020-09-16T00:00:00.000Z</th>\n",
       "      <td>180.91</td>\n",
       "      <td>NaN</td>\n",
       "      <td>187.768835</td>\n",
       "    </tr>\n",
       "    <tr>\n",
       "      <th>2020-09-17T00:00:00.000Z</th>\n",
       "      <td>175.79</td>\n",
       "      <td>NaN</td>\n",
       "      <td>187.725555</td>\n",
       "    </tr>\n",
       "    <tr>\n",
       "      <th>2020-09-18T00:00:00.000Z</th>\n",
       "      <td>176.07</td>\n",
       "      <td>NaN</td>\n",
       "      <td>186.071903</td>\n",
       "    </tr>\n",
       "    <tr>\n",
       "      <th>2020-09-21T00:00:00.000Z</th>\n",
       "      <td>183.21</td>\n",
       "      <td>NaN</td>\n",
       "      <td>184.053725</td>\n",
       "    </tr>\n",
       "    <tr>\n",
       "      <th>2020-09-22T00:00:00.000Z</th>\n",
       "      <td>187.78</td>\n",
       "      <td>NaN</td>\n",
       "      <td>183.709145</td>\n",
       "    </tr>\n",
       "  </tbody>\n",
       "</table>\n",
       "</div>"
      ],
      "text/plain": [
       "                           Close  AITrain      AITest\n",
       "Date                                                 \n",
       "2020-09-10T00:00:00.000Z  190.09      NaN  190.229016\n",
       "2020-09-11T00:00:00.000Z  184.00      NaN  189.991816\n",
       "2020-09-14T00:00:00.000Z  186.96      NaN  190.472539\n",
       "2020-09-15T00:00:00.000Z  186.02      NaN  188.693084\n",
       "2020-09-16T00:00:00.000Z  180.91      NaN  187.768835\n",
       "2020-09-17T00:00:00.000Z  175.79      NaN  187.725555\n",
       "2020-09-18T00:00:00.000Z  176.07      NaN  186.071903\n",
       "2020-09-21T00:00:00.000Z  183.21      NaN  184.053725\n",
       "2020-09-22T00:00:00.000Z  187.78      NaN  183.709145"
      ]
     },
     "execution_count": 91,
     "metadata": {},
     "output_type": "execute_result"
    }
   ],
   "source": [
    "data.tail(lookahead+timestep+5)"
   ]
  },
  {
   "cell_type": "code",
   "execution_count": 92,
   "metadata": {},
   "outputs": [
    {
     "data": {
      "image/png": "[encoded data removed]",
      "text/plain": [
       "<Figure size 1152x432 with 1 Axes>"
      ]
     },
     "metadata": {
      "needs_background": "light"
     },
     "output_type": "display_data"
    }
   ],
   "source": [
    "plt.figure(figsize=(16,6))\n",
    "plt.plot(data.Close[-timestep-20:], label = ticker+' Closes')\n",
    "plt.plot(train_predict_plot[-timestep-20:], label = ticker+' Train-T'+str(timestep)+',L'+str(lookahead))\n",
    "plt.plot(test_predict_plot[-timestep-20:], label = ticker+' Predict-T'+str(timestep)+',L'+str(lookahead))\n",
    "plt.legend()\n",
    "plt.show()"
   ]
  },
  {
   "cell_type": "code",
   "execution_count": 93,
   "metadata": {},
   "outputs": [],
   "source": [
    "data['Abs%Err']=nan\n",
    "data['DirErr']=nan"
   ]
  },
  {
   "cell_type": "code",
   "execution_count": 94,
   "metadata": {},
   "outputs": [
    {
     "name": "stdout",
     "output_type": "stream",
     "text": [
      "Train length =  28\n",
      "Total length =  44\n",
      "data[Close][i]   =  194.6\n",
      "data[Close][i-1] =  185.95\n",
      "data[AITest][i]=  193.2959483540058\n",
      "data[AITest][i-1]=  197.5452918446064\n",
      "data[DirErr][i]  =  1.0\n"
     ]
    }
   ],
   "source": [
    "#-----STOCK PRICE PREDICTION METRIC-----\n",
    "for i in range(len(train_predictions)+timestep-1+lookahead+timestep-1+lookahead,len(scaled_data)):\n",
    "    data['Abs%Err'][i]=100*(data['AITest'][i]-data['Close'][i])/data['Close'][i]\n",
    "\n",
    "#-----DIRECTION PREDICTION METRIC-----\n",
    "for i in range(len(train_predictions)+timestep-1+lookahead+timestep-1+lookahead+1,len(scaled_data)):\n",
    "    parity=0\n",
    "    if ((data['Close'][i] - data['Close'][i-1])*(data['AITest'][i] - data['AITest'][i-1])) > 0:\n",
    "        data['DirErr'][i]=0\n",
    "        parity=1\n",
    "    if parity==0:\n",
    "        data['DirErr'][i]=1\n",
    "\n",
    "if DBGmode==1:\n",
    "    print('Train length = ', len(train_predictions)+lookahead)\n",
    "    print('Total length = ', len(scaled_data))\n",
    "    ch=len(train_predictions)+timestep-1+lookahead+timestep-1+lookahead+1\n",
    "    print('data[Close][i]   = ', data['Close'][ch])\n",
    "    print('data[Close][i-1] = ', data['Close'][ch-1])\n",
    "    print('data[AITest][i]= ', data['AITest'][ch])\n",
    "    print('data[AITest][i-1]= ', data['AITest'][ch-1])\n",
    "    print('data[DirErr][i]  = ', data['DirErr'][ch])"
   ]
  },
  {
   "cell_type": "code",
   "execution_count": 95,
   "metadata": {},
   "outputs": [
    {
     "name": "stdout",
     "output_type": "stream",
     "text": [
      "Date\n",
      "2020-09-09T00:00:00.000Z    1.0\n",
      "2020-09-10T00:00:00.000Z    0.0\n",
      "2020-09-11T00:00:00.000Z    0.0\n",
      "2020-09-14T00:00:00.000Z    0.0\n",
      "2020-09-15T00:00:00.000Z    0.0\n",
      "2020-09-16T00:00:00.000Z    0.0\n",
      "2020-09-17T00:00:00.000Z    0.0\n",
      "2020-09-18T00:00:00.000Z    1.0\n",
      "2020-09-21T00:00:00.000Z    1.0\n",
      "2020-09-22T00:00:00.000Z    1.0\n",
      "Name: DirErr, dtype: float64\n",
      "Date\n",
      "2020-09-08T00:00:00.000Z    6.235704\n",
      "2020-09-09T00:00:00.000Z   -0.670119\n",
      "2020-09-10T00:00:00.000Z    0.073131\n",
      "2020-09-11T00:00:00.000Z    3.256422\n",
      "2020-09-14T00:00:00.000Z    1.878765\n",
      "2020-09-15T00:00:00.000Z    1.436987\n",
      "2020-09-16T00:00:00.000Z    3.791297\n",
      "2020-09-17T00:00:00.000Z    6.789667\n",
      "2020-09-18T00:00:00.000Z    5.680640\n",
      "2020-09-21T00:00:00.000Z    0.460524\n",
      "2020-09-22T00:00:00.000Z   -2.167885\n",
      "Name: Abs%Err, dtype: float64\n"
     ]
    }
   ],
   "source": [
    "if DBGmode==1:\n",
    "    print(data['DirErr'][len(train_predictions)+timestep-1+lookahead+timestep-1+lookahead+1:len(scaled_data)])\n",
    "    print(data['Abs%Err'][len(train_predictions)+timestep-1+lookahead+timestep-1+lookahead:len(scaled_data)])"
   ]
  },
  {
   "cell_type": "code",
   "execution_count": 96,
   "metadata": {},
   "outputs": [
    {
     "name": "stdout",
     "output_type": "stream",
     "text": [
      "timestep= 3\n",
      "lookahead= 1\n",
      "\n",
      "----DIRECTION----- \n",
      "\n",
      "Total Test Errors =  4.0\n",
      "Total Test Elements =  10\n",
      "Test Direction Predict Accuracy =  60.0\n",
      "\n",
      "----STOCK PRICE PREDICTION----- \n",
      "\n",
      "Max % Price Error =  6.78966661905752\n",
      "Min % Price Error =  -2.167885427163147\n",
      "Average % Price Error =  2.4331938136648956\n"
     ]
    }
   ],
   "source": [
    "Tot_test_error = sum(data['DirErr'][len(train_predictions)+timestep-1+lookahead+timestep-1+lookahead+1:len(scaled_data)])\n",
    "Tot_test_len = sum(data['DirErr'].notnull())\n",
    "Test_DirAcc = 100*(Tot_test_len - Tot_test_error) / Tot_test_len\n",
    "print('timestep=', timestep)\n",
    "print('lookahead=', lookahead)\n",
    "print('')\n",
    "print('----DIRECTION----- \\n')\n",
    "print('Total Test Errors = ', Tot_test_error)\n",
    "print('Total Test Elements = ', Tot_test_len)\n",
    "print('Test Direction Predict Accuracy = ', Test_DirAcc)\n",
    "print('')\n",
    "print('----STOCK PRICE PREDICTION----- \\n')\n",
    "len(train_predictions)+timestep-1+lookahead+timestep-1+lookahead,len(scaled_data)\n",
    "print('Max % Price Error = ', max(data['Abs%Err'][len(train_predictions)+timestep-1+lookahead+timestep-1+lookahead:len(scaled_data)]))\n",
    "print('Min % Price Error = ', min(data['Abs%Err'][len(train_predictions)+timestep-1+lookahead+timestep-1+lookahead:len(scaled_data)]))\n",
    "print('Average % Price Error = ', statistics.mean(data['Abs%Err'][len(train_predictions)+timestep-1+lookahead+timestep-1+lookahead:len(scaled_data)]))"
   ]
  },
  {
   "cell_type": "code",
   "execution_count": 97,
   "metadata": {},
   "outputs": [],
   "source": [
    "if WritetoFile == 1:\n",
    "    data.to_csv(ticker+'_predict.csv')\n",
    "    print('Wrote to file')"
   ]
  },
  {
   "cell_type": "code",
   "execution_count": 99,
   "metadata": {},
   "outputs": [
    {
     "name": "stdout",
     "output_type": "stream",
     "text": [
      "timestep= 3\n",
      "lookahead 1\n"
     ]
    },
    {
     "data": {
      "text/html": [
       "<div>\n",
       "<style scoped>\n",
       "    .dataframe tbody tr th:only-of-type {\n",
       "        vertical-align: middle;\n",
       "    }\n",
       "\n",
       "    .dataframe tbody tr th {\n",
       "        vertical-align: top;\n",
       "    }\n",
       "\n",
       "    .dataframe thead th {\n",
       "        text-align: right;\n",
       "    }\n",
       "</style>\n",
       "<table border=\"1\" class=\"dataframe\">\n",
       "  <thead>\n",
       "    <tr style=\"text-align: right;\">\n",
       "      <th></th>\n",
       "      <th>Close</th>\n",
       "      <th>AITrain</th>\n",
       "      <th>AITest</th>\n",
       "      <th>Abs%Err</th>\n",
       "      <th>DirErr</th>\n",
       "    </tr>\n",
       "    <tr>\n",
       "      <th>Date</th>\n",
       "      <th></th>\n",
       "      <th></th>\n",
       "      <th></th>\n",
       "      <th></th>\n",
       "      <th></th>\n",
       "    </tr>\n",
       "  </thead>\n",
       "  <tbody>\n",
       "    <tr>\n",
       "      <th>2020-08-31T00:00:00.000Z</th>\n",
       "      <td>204.14</td>\n",
       "      <td>197.127124</td>\n",
       "      <td>NaN</td>\n",
       "      <td>NaN</td>\n",
       "      <td>NaN</td>\n",
       "    </tr>\n",
       "    <tr>\n",
       "      <th>2020-09-01T00:00:00.000Z</th>\n",
       "      <td>208.93</td>\n",
       "      <td>197.306939</td>\n",
       "      <td>NaN</td>\n",
       "      <td>NaN</td>\n",
       "      <td>NaN</td>\n",
       "    </tr>\n",
       "    <tr>\n",
       "      <th>2020-09-02T00:00:00.000Z</th>\n",
       "      <td>210.82</td>\n",
       "      <td>NaN</td>\n",
       "      <td>NaN</td>\n",
       "      <td>NaN</td>\n",
       "      <td>NaN</td>\n",
       "    </tr>\n",
       "    <tr>\n",
       "      <th>2020-09-03T00:00:00.000Z</th>\n",
       "      <td>204.99</td>\n",
       "      <td>NaN</td>\n",
       "      <td>NaN</td>\n",
       "      <td>NaN</td>\n",
       "      <td>NaN</td>\n",
       "    </tr>\n",
       "    <tr>\n",
       "      <th>2020-09-04T00:00:00.000Z</th>\n",
       "      <td>191.84</td>\n",
       "      <td>NaN</td>\n",
       "      <td>NaN</td>\n",
       "      <td>NaN</td>\n",
       "      <td>NaN</td>\n",
       "    </tr>\n",
       "    <tr>\n",
       "      <th>2020-09-08T00:00:00.000Z</th>\n",
       "      <td>185.95</td>\n",
       "      <td>NaN</td>\n",
       "      <td>197.545292</td>\n",
       "      <td>6.235704</td>\n",
       "      <td>NaN</td>\n",
       "    </tr>\n",
       "    <tr>\n",
       "      <th>2020-09-09T00:00:00.000Z</th>\n",
       "      <td>194.60</td>\n",
       "      <td>NaN</td>\n",
       "      <td>193.295948</td>\n",
       "      <td>-0.670119</td>\n",
       "      <td>1.0</td>\n",
       "    </tr>\n",
       "    <tr>\n",
       "      <th>2020-09-10T00:00:00.000Z</th>\n",
       "      <td>190.09</td>\n",
       "      <td>NaN</td>\n",
       "      <td>190.229016</td>\n",
       "      <td>0.073131</td>\n",
       "      <td>0.0</td>\n",
       "    </tr>\n",
       "    <tr>\n",
       "      <th>2020-09-11T00:00:00.000Z</th>\n",
       "      <td>184.00</td>\n",
       "      <td>NaN</td>\n",
       "      <td>189.991816</td>\n",
       "      <td>3.256422</td>\n",
       "      <td>0.0</td>\n",
       "    </tr>\n",
       "    <tr>\n",
       "      <th>2020-09-14T00:00:00.000Z</th>\n",
       "      <td>186.96</td>\n",
       "      <td>NaN</td>\n",
       "      <td>190.472539</td>\n",
       "      <td>1.878765</td>\n",
       "      <td>0.0</td>\n",
       "    </tr>\n",
       "    <tr>\n",
       "      <th>2020-09-15T00:00:00.000Z</th>\n",
       "      <td>186.02</td>\n",
       "      <td>NaN</td>\n",
       "      <td>188.693084</td>\n",
       "      <td>1.436987</td>\n",
       "      <td>0.0</td>\n",
       "    </tr>\n",
       "    <tr>\n",
       "      <th>2020-09-16T00:00:00.000Z</th>\n",
       "      <td>180.91</td>\n",
       "      <td>NaN</td>\n",
       "      <td>187.768835</td>\n",
       "      <td>3.791297</td>\n",
       "      <td>0.0</td>\n",
       "    </tr>\n",
       "    <tr>\n",
       "      <th>2020-09-17T00:00:00.000Z</th>\n",
       "      <td>175.79</td>\n",
       "      <td>NaN</td>\n",
       "      <td>187.725555</td>\n",
       "      <td>6.789667</td>\n",
       "      <td>0.0</td>\n",
       "    </tr>\n",
       "    <tr>\n",
       "      <th>2020-09-18T00:00:00.000Z</th>\n",
       "      <td>176.07</td>\n",
       "      <td>NaN</td>\n",
       "      <td>186.071903</td>\n",
       "      <td>5.680640</td>\n",
       "      <td>1.0</td>\n",
       "    </tr>\n",
       "    <tr>\n",
       "      <th>2020-09-21T00:00:00.000Z</th>\n",
       "      <td>183.21</td>\n",
       "      <td>NaN</td>\n",
       "      <td>184.053725</td>\n",
       "      <td>0.460524</td>\n",
       "      <td>1.0</td>\n",
       "    </tr>\n",
       "    <tr>\n",
       "      <th>2020-09-22T00:00:00.000Z</th>\n",
       "      <td>187.78</td>\n",
       "      <td>NaN</td>\n",
       "      <td>183.709145</td>\n",
       "      <td>-2.167885</td>\n",
       "      <td>1.0</td>\n",
       "    </tr>\n",
       "  </tbody>\n",
       "</table>\n",
       "</div>"
      ],
      "text/plain": [
       "                           Close     AITrain      AITest   Abs%Err  DirErr\n",
       "Date                                                                      \n",
       "2020-08-31T00:00:00.000Z  204.14  197.127124         NaN       NaN     NaN\n",
       "2020-09-01T00:00:00.000Z  208.93  197.306939         NaN       NaN     NaN\n",
       "2020-09-02T00:00:00.000Z  210.82         NaN         NaN       NaN     NaN\n",
       "2020-09-03T00:00:00.000Z  204.99         NaN         NaN       NaN     NaN\n",
       "2020-09-04T00:00:00.000Z  191.84         NaN         NaN       NaN     NaN\n",
       "2020-09-08T00:00:00.000Z  185.95         NaN  197.545292  6.235704     NaN\n",
       "2020-09-09T00:00:00.000Z  194.60         NaN  193.295948 -0.670119     1.0\n",
       "2020-09-10T00:00:00.000Z  190.09         NaN  190.229016  0.073131     0.0\n",
       "2020-09-11T00:00:00.000Z  184.00         NaN  189.991816  3.256422     0.0\n",
       "2020-09-14T00:00:00.000Z  186.96         NaN  190.472539  1.878765     0.0\n",
       "2020-09-15T00:00:00.000Z  186.02         NaN  188.693084  1.436987     0.0\n",
       "2020-09-16T00:00:00.000Z  180.91         NaN  187.768835  3.791297     0.0\n",
       "2020-09-17T00:00:00.000Z  175.79         NaN  187.725555  6.789667     0.0\n",
       "2020-09-18T00:00:00.000Z  176.07         NaN  186.071903  5.680640     1.0\n",
       "2020-09-21T00:00:00.000Z  183.21         NaN  184.053725  0.460524     1.0\n",
       "2020-09-22T00:00:00.000Z  187.78         NaN  183.709145 -2.167885     1.0"
      ]
     },
     "execution_count": 99,
     "metadata": {},
     "output_type": "execute_result"
    }
   ],
   "source": [
    "if DBGmode == 0:\n",
    "    pd.set_option('display.max_rows', data.shape[0]+1)\n",
    "    data\n",
    "\n",
    "print('timestep=', timestep)\n",
    "print('lookahead', lookahead)\n",
    "data.tail(2*timestep+10)"
   ]
  },
  {
   "cell_type": "code",
   "execution_count": null,
   "metadata": {},
   "outputs": [],
   "source": []
  }
 ],
 "metadata": {
  "kernelspec": {
   "display_name": "Python 3",
   "language": "python",
   "name": "python3"
  },
  "language_info": {
   "codemirror_mode": {
    "name": "ipython",
    "version": 3
   },
   "file_extension": ".py",
   "mimetype": "text/x-python",
   "name": "python",
   "nbconvert_exporter": "python",
   "pygments_lexer": "ipython3",
   "version": "3.8.3"
  }
 },
 "nbformat": 4,
 "nbformat_minor": 2
}
