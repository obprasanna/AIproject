{
 "cells": [
  {
   "cell_type": "code",
   "execution_count": 1,
   "metadata": {},
   "outputs": [],
   "source": [
    "import pandas as pd\n",
    "import numpy as np\n",
    "import matplotlib.pyplot as plt\n",
    "import quandl\n",
    "import statistics\n",
    "\n",
    "from sklearn.preprocessing import MinMaxScaler\n",
    "\n",
    "from keras.models import Sequential\n",
    "from keras.layers import LSTM, Dense, Dropout\n",
    "\n",
    "# free data capture limits for some sources\n",
    "# Get stock data from tiingo\n",
    "# Ge treaury data from Quandl\n",
    "import requests\n",
    "\n",
    "#You need this for prediction date extraction\n",
    "import time\n",
    "from datetime import datetime, date, time, timedelta\n",
    "\n",
    "nan=np.nan"
   ]
  },
  {
   "cell_type": "code",
   "execution_count": 2,
   "metadata": {},
   "outputs": [],
   "source": [
    "DBGmode = 0\n",
    "WritetoFile = 0\n",
    "\n",
    "pd.set_option('display.max_rows', 15)\n",
    "ticker = 'QQQ'\n",
    "st_date = '2018-1-1'\n",
    "en_date = '2020-9-18'\n",
    "\n",
    "timestep = 3\n",
    "TrainPCT = 0.85\n",
    "\n",
    "ADDUS10Y = 0\n",
    "\n",
    "ADDXMA = 0\n",
    "xmasmall = 7\n",
    "xmalong = 21\n",
    "\n",
    "ADDRSI = 1\n",
    "RSIwindow = 7\n",
    "\n",
    "epochval = 1 #iter when entire dataset is passed fwd/back thru NN\n",
    "batchval = 1  #training examples in a singler batch"
   ]
  },
  {
   "cell_type": "code",
   "execution_count": 3,
   "metadata": {},
   "outputs": [],
   "source": [
    "us10y_data = quandl.get(\"FRED/DGS10\", start_date=st_date, end_date=en_date, api_key = 'tNjFxT5wYAG7nbemafxi')\n",
    "us10y_data=us10y_data.reset_index()\n",
    "us10y_data.rename(columns = {'Value':'US10Y'}, inplace = True) \n",
    "\n",
    "if DBGmode==1:\n",
    "    us10y_data"
   ]
  },
  {
   "cell_type": "code",
   "execution_count": 4,
   "metadata": {},
   "outputs": [
    {
     "name": "stderr",
     "output_type": "stream",
     "text": [
      "<ipython-input-4-83275a74f87b>:2: SettingWithCopyWarning: \n",
      "A value is trying to be set on a copy of a slice from a DataFrame\n",
      "\n",
      "See the caveats in the documentation: https://pandas.pydata.org/pandas-docs/stable/user_guide/indexing.html#returning-a-view-versus-a-copy\n",
      "  us10y_data['Date'][row]=str(us10y_data['Date'][row])[:10]+'T00:00:00.000Z'\n",
      "/Users/prasannaob/opt/anaconda3/lib/python3.8/site-packages/pandas/core/indexing.py:671: SettingWithCopyWarning: \n",
      "A value is trying to be set on a copy of a slice from a DataFrame\n",
      "\n",
      "See the caveats in the documentation: https://pandas.pydata.org/pandas-docs/stable/user_guide/indexing.html#returning-a-view-versus-a-copy\n",
      "  self._setitem_with_indexer(indexer, value)\n"
     ]
    }
   ],
   "source": [
    "for row in range(0,len(us10y_data)):\n",
    "    us10y_data['Date'][row]=str(us10y_data['Date'][row])[:10]+'T00:00:00.000Z'\n",
    "us10y_data=us10y_data.set_index('Date')\n",
    "\n",
    "if DBGmode==1:\n",
    "    us10y_data"
   ]
  },
  {
   "cell_type": "code",
   "execution_count": 5,
   "metadata": {},
   "outputs": [],
   "source": [
    "def get_stock_data(stock_symbol, start_date, end_date):\n",
    "    base_url = f'https://api.tiingo.com/tiingo/daily/{stock_symbol}/prices?'\n",
    "    token = '59e2dfca5859e44a55ef766a8f81aab1ab8a80e8'\n",
    "    payload = {\n",
    "        'startDate': start_date,\n",
    "        'endDate': end_date,\n",
    "        'token': token\n",
    "    }\n",
    "    response = requests.get(base_url, params=payload)\n",
    "    return response"
   ]
  },
  {
   "cell_type": "code",
   "execution_count": 6,
   "metadata": {},
   "outputs": [],
   "source": [
    "response = get_stock_data(ticker, st_date, en_date)\n",
    "\n",
    "if DBGmode == 1:\n",
    "    print(response.url)\n",
    "    print(response.json())"
   ]
  },
  {
   "cell_type": "code",
   "execution_count": 7,
   "metadata": {},
   "outputs": [],
   "source": [
    "def parse_data(data_response):\n",
    "    json_data = data_response.json()\n",
    "    dates = []\n",
    "    closes =[]\n",
    "    opens = []\n",
    "    highs = []\n",
    "    lows = []\n",
    "    vols = []\n",
    "    for json_object in json_data:\n",
    "        dates.append(json_object['date'])\n",
    "        closes.append(json_object['close'])\n",
    "        opens.append(json_object['open'])\n",
    "        highs.append(json_object['high'])\n",
    "        lows.append(json_object['low'])\n",
    "        vols.append(json_object['volume'])\n",
    "    return dates, closes, opens, highs, lows, vols"
   ]
  },
  {
   "cell_type": "code",
   "execution_count": 8,
   "metadata": {},
   "outputs": [],
   "source": [
    "dates, closes, opens, highs, lows, vols = parse_data(response)\n",
    "\n",
    "if DBGmode == 1:\n",
    "    print(dates, closes)"
   ]
  },
  {
   "cell_type": "code",
   "execution_count": 9,
   "metadata": {},
   "outputs": [],
   "source": [
    "#**** Define New Column Label here\n",
    "datastock = pd.DataFrame(columns = ['Close'], index = dates)\n",
    "dfindex = datastock.index\n",
    "dfindex.name = 'Date'"
   ]
  },
  {
   "cell_type": "code",
   "execution_count": 10,
   "metadata": {},
   "outputs": [],
   "source": [
    "#**** ADD New Column Data here\n",
    "datastock['Close']=closes\n",
    "#datastock['Volume']=vols\n",
    "\n",
    "if DBGmode == 1:\n",
    "    datastock"
   ]
  },
  {
   "cell_type": "code",
   "execution_count": 11,
   "metadata": {},
   "outputs": [],
   "source": [
    "if DBGmode == 1:\n",
    "    plt.plot(datastock['Close'], label=ticker+' Closes')\n",
    "    plt.legend()\n",
    "    plt.show()"
   ]
  },
  {
   "cell_type": "code",
   "execution_count": 12,
   "metadata": {},
   "outputs": [
    {
     "name": "stdout",
     "output_type": "stream",
     "text": [
      "Total Stock Rows =  684\n",
      "Total US10Y Rows =  679\n"
     ]
    },
    {
     "data": {
      "text/html": [
       "<div>\n",
       "<style scoped>\n",
       "    .dataframe tbody tr th:only-of-type {\n",
       "        vertical-align: middle;\n",
       "    }\n",
       "\n",
       "    .dataframe tbody tr th {\n",
       "        vertical-align: top;\n",
       "    }\n",
       "\n",
       "    .dataframe thead th {\n",
       "        text-align: right;\n",
       "    }\n",
       "</style>\n",
       "<table border=\"1\" class=\"dataframe\">\n",
       "  <thead>\n",
       "    <tr style=\"text-align: right;\">\n",
       "      <th></th>\n",
       "      <th>Close</th>\n",
       "    </tr>\n",
       "    <tr>\n",
       "      <th>Date</th>\n",
       "      <th></th>\n",
       "    </tr>\n",
       "  </thead>\n",
       "  <tbody>\n",
       "    <tr>\n",
       "      <th>2018-01-02T00:00:00.000Z</th>\n",
       "      <td>158.49</td>\n",
       "    </tr>\n",
       "    <tr>\n",
       "      <th>2018-01-03T00:00:00.000Z</th>\n",
       "      <td>160.03</td>\n",
       "    </tr>\n",
       "    <tr>\n",
       "      <th>2018-01-04T00:00:00.000Z</th>\n",
       "      <td>160.31</td>\n",
       "    </tr>\n",
       "    <tr>\n",
       "      <th>2018-01-05T00:00:00.000Z</th>\n",
       "      <td>161.92</td>\n",
       "    </tr>\n",
       "    <tr>\n",
       "      <th>2018-01-08T00:00:00.000Z</th>\n",
       "      <td>162.55</td>\n",
       "    </tr>\n",
       "    <tr>\n",
       "      <th>...</th>\n",
       "      <td>...</td>\n",
       "    </tr>\n",
       "    <tr>\n",
       "      <th>2020-09-14T00:00:00.000Z</th>\n",
       "      <td>275.16</td>\n",
       "    </tr>\n",
       "    <tr>\n",
       "      <th>2020-09-15T00:00:00.000Z</th>\n",
       "      <td>279.06</td>\n",
       "    </tr>\n",
       "    <tr>\n",
       "      <th>2020-09-16T00:00:00.000Z</th>\n",
       "      <td>274.61</td>\n",
       "    </tr>\n",
       "    <tr>\n",
       "      <th>2020-09-17T00:00:00.000Z</th>\n",
       "      <td>270.32</td>\n",
       "    </tr>\n",
       "    <tr>\n",
       "      <th>2020-09-18T00:00:00.000Z</th>\n",
       "      <td>266.87</td>\n",
       "    </tr>\n",
       "  </tbody>\n",
       "</table>\n",
       "<p>684 rows × 1 columns</p>\n",
       "</div>"
      ],
      "text/plain": [
       "                           Close\n",
       "Date                            \n",
       "2018-01-02T00:00:00.000Z  158.49\n",
       "2018-01-03T00:00:00.000Z  160.03\n",
       "2018-01-04T00:00:00.000Z  160.31\n",
       "2018-01-05T00:00:00.000Z  161.92\n",
       "2018-01-08T00:00:00.000Z  162.55\n",
       "...                          ...\n",
       "2020-09-14T00:00:00.000Z  275.16\n",
       "2020-09-15T00:00:00.000Z  279.06\n",
       "2020-09-16T00:00:00.000Z  274.61\n",
       "2020-09-17T00:00:00.000Z  270.32\n",
       "2020-09-18T00:00:00.000Z  266.87\n",
       "\n",
       "[684 rows x 1 columns]"
      ]
     },
     "execution_count": 12,
     "metadata": {},
     "output_type": "execute_result"
    }
   ],
   "source": [
    "print('Total Stock Rows = ', len(datastock))\n",
    "print('Total US10Y Rows = ', len(us10y_data))\n",
    "\n",
    "if ADDUS10Y==1:\n",
    "    #****APPEND US10Y data here to a separate column in a new dataframe\n",
    "    data=pd.concat([datastock, us10y_data], axis=1, sort=False)\n",
    "\n",
    "    #fill US10Y NaN with previous value\n",
    "    data['US10Y'].fillna(method='ffill', inplace=True)\n",
    "\n",
    "else:\n",
    "    data=datastock\n",
    "    \n",
    "data"
   ]
  },
  {
   "cell_type": "code",
   "execution_count": 13,
   "metadata": {},
   "outputs": [],
   "source": [
    "#Add XMA here\n",
    "\n",
    "if ADDXMA == 1:\n",
    "    #Enter SMA Data - defined at the top\n",
    "    #data['Close-XMA5'] = data.iloc[:,0].rolling(window=xmasmall).mean()\n",
    "    #data['Close-XMA9'] = data.iloc[:,0].rolling(window=xmalong).mean()\n",
    "\n",
    "    #Enter EMA Data - defined at the top\n",
    "    data['Close-XMA'+str(xmasmall)] = data.iloc[:,0].ewm(span=xmasmall, adjust=False).mean()\n",
    "    data['Close-XMA'+str(xmalong)] = data.iloc[:,0].ewm(span=xmalong, adjust=False).mean()\n",
    "\n",
    "    droprow=xmalong\n",
    "    data.drop(data.index[0:droprow], inplace = True)"
   ]
  },
  {
   "cell_type": "code",
   "execution_count": 14,
   "metadata": {},
   "outputs": [],
   "source": [
    "def computeRSI (data, time_window):\n",
    "    diff = data.diff(1).dropna()        # diff in one field(one day)\n",
    "\n",
    "    #this preservers dimensions off diff values\n",
    "    up_chg = 0 * diff\n",
    "    down_chg = 0 * diff\n",
    "    \n",
    "    # up change is equal to the positive difference, otherwise equal to zero\n",
    "    up_chg[diff > 0] = diff[ diff>0 ]\n",
    "    \n",
    "    # down change is equal to negative deifference, otherwise equal to zero\n",
    "    down_chg[diff < 0] = diff[ diff < 0 ]\n",
    "    \n",
    "    # check pandas documentation for ewm\n",
    "    # https://pandas.pydata.org/pandas-docs/stable/reference/api/pandas.DataFrame.ewm.html\n",
    "    # values are related to exponential decay\n",
    "    # we set com=time_window-1 so we get decay alpha=1/time_window\n",
    "    up_chg_avg   = up_chg.ewm(com=time_window-1 , min_periods=time_window).mean()\n",
    "    down_chg_avg = down_chg.ewm(com=time_window-1 , min_periods=time_window).mean()\n",
    "    \n",
    "    rs = abs(up_chg_avg/down_chg_avg)\n",
    "    rsi = 100 - 100/(1+rs)\n",
    "    return rsi"
   ]
  },
  {
   "cell_type": "code",
   "execution_count": 15,
   "metadata": {},
   "outputs": [],
   "source": [
    "#Add RSI here\n",
    "if ADDRSI == 1:\n",
    "    data['Close-RSI'+str(RSIwindow)] = computeRSI(data['Close'], RSIwindow)\n",
    "    data.drop(data.index[0:RSIwindow], inplace = True)"
   ]
  },
  {
   "cell_type": "code",
   "execution_count": 16,
   "metadata": {},
   "outputs": [
    {
     "name": "stdout",
     "output_type": "stream",
     "text": [
      "Number of data columns =  2\n"
     ]
    }
   ],
   "source": [
    "data_noofcols = len(data.columns)\n",
    "print('Number of data columns = ', data_noofcols)"
   ]
  },
  {
   "cell_type": "code",
   "execution_count": 17,
   "metadata": {},
   "outputs": [
    {
     "data": {
      "text/html": [
       "<div>\n",
       "<style scoped>\n",
       "    .dataframe tbody tr th:only-of-type {\n",
       "        vertical-align: middle;\n",
       "    }\n",
       "\n",
       "    .dataframe tbody tr th {\n",
       "        vertical-align: top;\n",
       "    }\n",
       "\n",
       "    .dataframe thead th {\n",
       "        text-align: right;\n",
       "    }\n",
       "</style>\n",
       "<table border=\"1\" class=\"dataframe\">\n",
       "  <thead>\n",
       "    <tr style=\"text-align: right;\">\n",
       "      <th></th>\n",
       "      <th>Close</th>\n",
       "      <th>Close-RSI7</th>\n",
       "    </tr>\n",
       "    <tr>\n",
       "      <th>Date</th>\n",
       "      <th></th>\n",
       "      <th></th>\n",
       "    </tr>\n",
       "  </thead>\n",
       "  <tbody>\n",
       "    <tr>\n",
       "      <th>2018-01-11T00:00:00.000Z</th>\n",
       "      <td>163.29</td>\n",
       "      <td>90.556534</td>\n",
       "    </tr>\n",
       "    <tr>\n",
       "      <th>2018-01-12T00:00:00.000Z</th>\n",
       "      <td>164.49</td>\n",
       "      <td>93.282991</td>\n",
       "    </tr>\n",
       "    <tr>\n",
       "      <th>2018-01-16T00:00:00.000Z</th>\n",
       "      <td>164.02</td>\n",
       "      <td>82.410852</td>\n",
       "    </tr>\n",
       "    <tr>\n",
       "      <th>2018-01-17T00:00:00.000Z</th>\n",
       "      <td>165.79</td>\n",
       "      <td>88.367553</td>\n",
       "    </tr>\n",
       "    <tr>\n",
       "      <th>2018-01-18T00:00:00.000Z</th>\n",
       "      <td>165.82</td>\n",
       "      <td>88.444933</td>\n",
       "    </tr>\n",
       "    <tr>\n",
       "      <th>...</th>\n",
       "      <td>...</td>\n",
       "      <td>...</td>\n",
       "    </tr>\n",
       "    <tr>\n",
       "      <th>2020-09-14T00:00:00.000Z</th>\n",
       "      <td>275.16</td>\n",
       "      <td>42.425852</td>\n",
       "    </tr>\n",
       "    <tr>\n",
       "      <th>2020-09-15T00:00:00.000Z</th>\n",
       "      <td>279.06</td>\n",
       "      <td>48.666585</td>\n",
       "    </tr>\n",
       "    <tr>\n",
       "      <th>2020-09-16T00:00:00.000Z</th>\n",
       "      <td>274.61</td>\n",
       "      <td>42.529767</td>\n",
       "    </tr>\n",
       "    <tr>\n",
       "      <th>2020-09-17T00:00:00.000Z</th>\n",
       "      <td>270.32</td>\n",
       "      <td>37.247146</td>\n",
       "    </tr>\n",
       "    <tr>\n",
       "      <th>2020-09-18T00:00:00.000Z</th>\n",
       "      <td>266.87</td>\n",
       "      <td>33.359517</td>\n",
       "    </tr>\n",
       "  </tbody>\n",
       "</table>\n",
       "<p>677 rows × 2 columns</p>\n",
       "</div>"
      ],
      "text/plain": [
       "                           Close  Close-RSI7\n",
       "Date                                        \n",
       "2018-01-11T00:00:00.000Z  163.29   90.556534\n",
       "2018-01-12T00:00:00.000Z  164.49   93.282991\n",
       "2018-01-16T00:00:00.000Z  164.02   82.410852\n",
       "2018-01-17T00:00:00.000Z  165.79   88.367553\n",
       "2018-01-18T00:00:00.000Z  165.82   88.444933\n",
       "...                          ...         ...\n",
       "2020-09-14T00:00:00.000Z  275.16   42.425852\n",
       "2020-09-15T00:00:00.000Z  279.06   48.666585\n",
       "2020-09-16T00:00:00.000Z  274.61   42.529767\n",
       "2020-09-17T00:00:00.000Z  270.32   37.247146\n",
       "2020-09-18T00:00:00.000Z  266.87   33.359517\n",
       "\n",
       "[677 rows x 2 columns]"
      ]
     },
     "execution_count": 17,
     "metadata": {},
     "output_type": "execute_result"
    }
   ],
   "source": [
    "data"
   ]
  },
  {
   "cell_type": "code",
   "execution_count": 18,
   "metadata": {},
   "outputs": [
    {
     "data": {
      "image/png": "[encoded data removed]",
      "text/plain": [
       "<Figure size 1152x432 with 1 Axes>"
      ]
     },
     "metadata": {
      "needs_background": "light"
     },
     "output_type": "display_data"
    }
   ],
   "source": [
    "plt.figure()\n",
    "data['Close'].plot(figsize=(16,6), label=ticker+'-Close')\n",
    "if ADDXMA==1:\n",
    "    data['Close-XMA'+str(xmasmall)].plot(label=ticker+'-EMA'+str(xmasmall))\n",
    "    data['Close-XMA'+str(xmalong)].plot(label=ticker+'-EMA'+str(xmalong))\n",
    "plt.legend()\n",
    "if ADDUS10Y==1:\n",
    "    data['US10Y'].plot(secondary_y=True, label='US10Y')\n",
    "plt.legend()\n",
    "plt.show()"
   ]
  },
  {
   "cell_type": "code",
   "execution_count": 19,
   "metadata": {},
   "outputs": [
    {
     "data": {
      "image/png": "[encoded data removed]",
      "text/plain": [
       "<Figure size 1152x432 with 2 Axes>"
      ]
     },
     "metadata": {
      "needs_background": "light"
     },
     "output_type": "display_data"
    }
   ],
   "source": [
    "fig, axs = plt.subplots(2,1,figsize=(16,6))\n",
    "axs[0].plot(data['Close'], color='r', label=ticker+' Closes')\n",
    "if ADDXMA==1:\n",
    "    axs[0].plot(data['Close-XMA'+str(xmasmall)], label=ticker+' Close-ema'+str(xmasmall))\n",
    "    axs[0].plot(data['Close-XMA'+str(xmalong)], label=ticker+' Close-ema'+str(xmalong))\n",
    "axs[0].legend()\n",
    "if ADDRSI==1:\n",
    "    axs[1].plot(data['Close-RSI'+str(RSIwindow)], label=ticker+' Close-rsi'+str(RSIwindow))\n",
    "    axs[1].legend()\n",
    "plt.show()"
   ]
  },
  {
   "cell_type": "code",
   "execution_count": 20,
   "metadata": {},
   "outputs": [
    {
     "name": "stdout",
     "output_type": "stream",
     "text": [
      "Length of scaled_data =  677\n",
      "[[0.12426221 0.95120349]\n",
      " [0.13179706 0.9836781 ]\n",
      " [0.12884591 0.85418089]\n",
      " ...\n",
      " [0.82324501 0.37916031]\n",
      " [0.79630792 0.31623941]\n",
      " [0.77464523 0.26993416]]\n"
     ]
    }
   ],
   "source": [
    "scaler = MinMaxScaler()\n",
    "scaled_data = scaler.fit_transform(data)\n",
    "\n",
    "print('Length of scaled_data = ', len(scaled_data))\n",
    "print(scaled_data)"
   ]
  },
  {
   "cell_type": "code",
   "execution_count": 21,
   "metadata": {},
   "outputs": [],
   "source": [
    "train_length = int(len(scaled_data) * TrainPCT)\n",
    "test_length = len(scaled_data) - train_length\n",
    "train_data = scaled_data[0:train_length,:]\n",
    "test_data = scaled_data[train_length:len(scaled_data),:]\n",
    "\n",
    "if DBGmode == 1:\n",
    "    print('scaled_data length =', len(scaled_data))\n",
    "    print('train_length = ', train_length)\n",
    "    print('test_length = ', test_length)\n",
    "    print(train_data)\n",
    "    print(test_data)"
   ]
  },
  {
   "cell_type": "code",
   "execution_count": 22,
   "metadata": {},
   "outputs": [],
   "source": [
    "def create_dataset(dataset, noofcols, timestep=1):\n",
    "    data_x, data_y = [], []\n",
    "    for i in range(len(dataset) - timestep):\n",
    "        data_x.append(dataset[i:(i+timestep),0:noofcols])\n",
    "        data_y.append(dataset[i+timestep,0])\n",
    "    #It has been shown that Numpy arrays need 4 times less memory compared to Python lists\n",
    "    return np.array(data_x), np.array(data_y)"
   ]
  },
  {
   "cell_type": "code",
   "execution_count": 23,
   "metadata": {},
   "outputs": [],
   "source": [
    "train_x, train_y = create_dataset(train_data, data_noofcols, timestep)\n",
    "test_x, test_y = create_dataset(test_data, data_noofcols, timestep)\n",
    "\n",
    "if DBGmode == 1:\n",
    "    print(train_x)"
   ]
  },
  {
   "cell_type": "code",
   "execution_count": 24,
   "metadata": {},
   "outputs": [],
   "source": [
    "if DBGmode == 1:\n",
    "    print(train_y)"
   ]
  },
  {
   "cell_type": "code",
   "execution_count": 25,
   "metadata": {},
   "outputs": [
    {
     "name": "stdout",
     "output_type": "stream",
     "text": [
      "#Samples, #Timesteps, #Features - for input to LSTM\n",
      "train_x shape =  (572, 3, 2)\n",
      "test_x shape =  (99, 3, 2)\n",
      "train_y shape =  (572,)\n",
      "test_y shape =  (99,)\n"
     ]
    }
   ],
   "source": [
    "print('#Samples, #Timesteps, #Features - for input to LSTM')\n",
    "print('train_x shape = ', train_x.shape)\n",
    "print('test_x shape = ', test_x.shape)\n",
    "print('train_y shape = ', train_y.shape)\n",
    "print('test_y shape = ', test_y.shape)"
   ]
  },
  {
   "cell_type": "code",
   "execution_count": 26,
   "metadata": {},
   "outputs": [],
   "source": [
    "##Samples, #Timesteps, #Features - for input to LSTM'\n",
    "#train_x = np.reshape(train_x, (train_x.shape[0], train_x.shape[1], data_noofcols))\n",
    "#test_x = np.reshape(test_x, (test_x.shape[0], test_x.shape[1], data_noofcols))\n",
    "\n",
    "if DBGmode == 1:\n",
    "    print(train_x)"
   ]
  },
  {
   "cell_type": "code",
   "execution_count": 27,
   "metadata": {},
   "outputs": [
    {
     "name": "stdout",
     "output_type": "stream",
     "text": [
      "Model: \"sequential\"\n",
      "_________________________________________________________________\n",
      "Layer (type)                 Output Shape              Param #   \n",
      "=================================================================\n",
      "lstm (LSTM)                  (None, 3, 50)             10600     \n",
      "_________________________________________________________________\n",
      "dropout (Dropout)            (None, 3, 50)             0         \n",
      "_________________________________________________________________\n",
      "lstm_1 (LSTM)                (None, 50)                20200     \n",
      "_________________________________________________________________\n",
      "dropout_1 (Dropout)          (None, 50)                0         \n",
      "_________________________________________________________________\n",
      "dense (Dense)                (None, 25)                1275      \n",
      "_________________________________________________________________\n",
      "dense_1 (Dense)              (None, 1)                 26        \n",
      "=================================================================\n",
      "Total params: 32,101\n",
      "Trainable params: 32,101\n",
      "Non-trainable params: 0\n",
      "_________________________________________________________________\n",
      "None\n"
     ]
    }
   ],
   "source": [
    "#optimizer = 'adam' 'SGD' 'RMSprop' 'adadelta' 'adagrad' 'adamax' 'nadam' 'ftrl'\n",
    "#activation = 'sigmoid' 'linear' relu' 'softmax' 'softplus' 'softsign' 'tanh' selu' 'elu' 'exponential' \n",
    "#loss = 'binary_crossentropy' 'mean_squared_error'\n",
    "\n",
    "#LSTM input_shape = #timestep, #features\n",
    "model = Sequential()\n",
    "#model.add(LSTM(256, input_shape=(1,data_noofcols)))\n",
    "model.add(LSTM(50, return_sequences=True, input_shape=(timestep,data_noofcols)))\n",
    "model.add(Dropout(0.2))\n",
    "model.add(LSTM(50, return_sequences=False))\n",
    "model.add(Dropout(0.2))\n",
    "#model.add(Dense(1, activation='sigmoid'))\n",
    "#model.add(Dense(6, input_dim=6, activation='relu'))\n",
    "model.add(Dense(25))\n",
    "model.add(Dense(1))\n",
    "#model.add(Dense(1, activation=None))\n",
    "model.compile(loss='mean_squared_error', optimizer='adam', metrics=['accuracy'])\n",
    "print(model.summary())"
   ]
  },
  {
   "cell_type": "code",
   "execution_count": 28,
   "metadata": {},
   "outputs": [
    {
     "name": "stdout",
     "output_type": "stream",
     "text": [
      "572/572 [==============================] - 1s 2ms/step - loss: 0.0033 - accuracy: 0.0017\n",
      "Keras model loss =  0.0009499557199887931\n",
      "Keras model accuracy =  0.0017482517287135124\n"
     ]
    }
   ],
   "source": [
    "model.fit(train_x, train_y, epochs=epochval, batch_size=batchval, verbose=1)\n",
    "score = model.evaluate(train_x, train_y, verbose=0)\n",
    "print('Keras model loss = ', score[0])\n",
    "print('Keras model accuracy = ', score[1])"
   ]
  },
  {
   "cell_type": "code",
   "execution_count": 29,
   "metadata": {},
   "outputs": [],
   "source": [
    "train_predictions = model.predict(train_x)\n",
    "test_predictions = model.predict(test_x)\n",
    "\n",
    "if DBGmode == 1:\n",
    "    print(train_predictions)"
   ]
  },
  {
   "cell_type": "code",
   "execution_count": 30,
   "metadata": {},
   "outputs": [],
   "source": [
    "#Perform inverse Scaler transform\n",
    "\n",
    "# create empty table with data_noofcols fields\n",
    "train_predictions_like = np.zeros(shape=(len(train_predictions), data_noofcols))\n",
    "# put the predicted values in the right field\n",
    "train_predictions_like[:,0] = train_predictions[:,0]\n",
    "# inverse transform and then select the right field\n",
    "train_predictions = scaler.inverse_transform(train_predictions_like)[:,0]\n",
    "\n",
    "# create empty table with 2 fields\n",
    "test_predictions_like = np.zeros(shape=(len(test_predictions), data_noofcols))\n",
    "# put the predicted values in the right field\n",
    "test_predictions_like[:,0] = test_predictions[:,0]\n",
    "# inverse transform and then select the right field\n",
    "test_predictions = scaler.inverse_transform(test_predictions_like)[:,0]"
   ]
  },
  {
   "cell_type": "code",
   "execution_count": 31,
   "metadata": {},
   "outputs": [],
   "source": [
    "if DBGmode == 1:\n",
    "    print(train_predictions)\n",
    "    print(test_predictions)"
   ]
  },
  {
   "cell_type": "code",
   "execution_count": 32,
   "metadata": {},
   "outputs": [],
   "source": [
    "#train_predict_plot = np.empty_like(scaled_data[:,0])\n",
    "train_predict_plot = scaled_data[:,0]\n",
    "train_predict_plot[:] = np.nan\n",
    "train_predict_plot[timestep:len(train_predictions)+timestep] = train_predictions"
   ]
  },
  {
   "cell_type": "code",
   "execution_count": 33,
   "metadata": {},
   "outputs": [],
   "source": [
    "if DBGmode==1:\n",
    "    print(test_predictions)"
   ]
  },
  {
   "cell_type": "code",
   "execution_count": 34,
   "metadata": {},
   "outputs": [],
   "source": [
    "test_predict_plot = np.empty_like(scaled_data[:,0])\n",
    "test_predict_plot[:] = np.nan\n",
    "test_predict_plot[\n",
    "    len(train_predictions)+timestep+timestep:len(scaled_data)] = test_predictions"
   ]
  },
  {
   "cell_type": "code",
   "execution_count": 35,
   "metadata": {},
   "outputs": [
    {
     "data": {
      "image/png": "[encoded data removed]",
      "text/plain": [
       "<Figure size 1152x432 with 1 Axes>"
      ]
     },
     "metadata": {
      "needs_background": "light"
     },
     "output_type": "display_data"
    }
   ],
   "source": [
    "plt.figure(figsize=(16,6))\n",
    "plt.plot(data.Close, label = ticker+' Closes')\n",
    "plt.plot(train_predict_plot, label = ticker+' Train-'+str(timestep))\n",
    "plt.plot(test_predict_plot, label = ticker+' Predict-'+str(timestep))\n",
    "plt.legend()\n",
    "plt.show()"
   ]
  },
  {
   "cell_type": "code",
   "execution_count": 36,
   "metadata": {},
   "outputs": [
    {
     "name": "stdout",
     "output_type": "stream",
     "text": [
      "Number of data[Close] rows =  677\n",
      "Length of Train data =  572\n",
      "Length of test data =  99\n"
     ]
    }
   ],
   "source": [
    "print('Number of data[Close] rows = ', len(data['Close']))\n",
    "print('Length of Train data = ', len(train_predictions))\n",
    "print('Length of test data = ', len(test_predictions))"
   ]
  },
  {
   "cell_type": "code",
   "execution_count": 37,
   "metadata": {},
   "outputs": [
    {
     "data": {
      "text/html": [
       "<div>\n",
       "<style scoped>\n",
       "    .dataframe tbody tr th:only-of-type {\n",
       "        vertical-align: middle;\n",
       "    }\n",
       "\n",
       "    .dataframe tbody tr th {\n",
       "        vertical-align: top;\n",
       "    }\n",
       "\n",
       "    .dataframe thead th {\n",
       "        text-align: right;\n",
       "    }\n",
       "</style>\n",
       "<table border=\"1\" class=\"dataframe\">\n",
       "  <thead>\n",
       "    <tr style=\"text-align: right;\">\n",
       "      <th></th>\n",
       "      <th>Close</th>\n",
       "      <th>Close-RSI7</th>\n",
       "      <th>AITrain</th>\n",
       "      <th>AITest</th>\n",
       "    </tr>\n",
       "    <tr>\n",
       "      <th>Date</th>\n",
       "      <th></th>\n",
       "      <th></th>\n",
       "      <th></th>\n",
       "      <th></th>\n",
       "    </tr>\n",
       "  </thead>\n",
       "  <tbody>\n",
       "    <tr>\n",
       "      <th>2018-01-11T00:00:00.000Z</th>\n",
       "      <td>163.29</td>\n",
       "      <td>90.556534</td>\n",
       "      <td>NaN</td>\n",
       "      <td>NaN</td>\n",
       "    </tr>\n",
       "    <tr>\n",
       "      <th>2018-01-12T00:00:00.000Z</th>\n",
       "      <td>164.49</td>\n",
       "      <td>93.282991</td>\n",
       "      <td>NaN</td>\n",
       "      <td>NaN</td>\n",
       "    </tr>\n",
       "    <tr>\n",
       "      <th>2018-01-16T00:00:00.000Z</th>\n",
       "      <td>164.02</td>\n",
       "      <td>82.410852</td>\n",
       "      <td>NaN</td>\n",
       "      <td>NaN</td>\n",
       "    </tr>\n",
       "    <tr>\n",
       "      <th>2018-01-17T00:00:00.000Z</th>\n",
       "      <td>165.79</td>\n",
       "      <td>88.367553</td>\n",
       "      <td>170.364427</td>\n",
       "      <td>NaN</td>\n",
       "    </tr>\n",
       "    <tr>\n",
       "      <th>2018-01-18T00:00:00.000Z</th>\n",
       "      <td>165.82</td>\n",
       "      <td>88.444933</td>\n",
       "      <td>170.956129</td>\n",
       "      <td>NaN</td>\n",
       "    </tr>\n",
       "    <tr>\n",
       "      <th>...</th>\n",
       "      <td>...</td>\n",
       "      <td>...</td>\n",
       "      <td>...</td>\n",
       "      <td>...</td>\n",
       "    </tr>\n",
       "    <tr>\n",
       "      <th>2020-09-14T00:00:00.000Z</th>\n",
       "      <td>275.16</td>\n",
       "      <td>42.425852</td>\n",
       "      <td>NaN</td>\n",
       "      <td>270.310089</td>\n",
       "    </tr>\n",
       "    <tr>\n",
       "      <th>2020-09-15T00:00:00.000Z</th>\n",
       "      <td>279.06</td>\n",
       "      <td>48.666585</td>\n",
       "      <td>NaN</td>\n",
       "      <td>268.139968</td>\n",
       "    </tr>\n",
       "    <tr>\n",
       "      <th>2020-09-16T00:00:00.000Z</th>\n",
       "      <td>274.61</td>\n",
       "      <td>42.529767</td>\n",
       "      <td>NaN</td>\n",
       "      <td>270.431614</td>\n",
       "    </tr>\n",
       "    <tr>\n",
       "      <th>2020-09-17T00:00:00.000Z</th>\n",
       "      <td>270.32</td>\n",
       "      <td>37.247146</td>\n",
       "      <td>NaN</td>\n",
       "      <td>273.489790</td>\n",
       "    </tr>\n",
       "    <tr>\n",
       "      <th>2020-09-18T00:00:00.000Z</th>\n",
       "      <td>266.87</td>\n",
       "      <td>33.359517</td>\n",
       "      <td>NaN</td>\n",
       "      <td>272.536530</td>\n",
       "    </tr>\n",
       "  </tbody>\n",
       "</table>\n",
       "<p>677 rows × 4 columns</p>\n",
       "</div>"
      ],
      "text/plain": [
       "                           Close  Close-RSI7     AITrain      AITest\n",
       "Date                                                                \n",
       "2018-01-11T00:00:00.000Z  163.29   90.556534         NaN         NaN\n",
       "2018-01-12T00:00:00.000Z  164.49   93.282991         NaN         NaN\n",
       "2018-01-16T00:00:00.000Z  164.02   82.410852         NaN         NaN\n",
       "2018-01-17T00:00:00.000Z  165.79   88.367553  170.364427         NaN\n",
       "2018-01-18T00:00:00.000Z  165.82   88.444933  170.956129         NaN\n",
       "...                          ...         ...         ...         ...\n",
       "2020-09-14T00:00:00.000Z  275.16   42.425852         NaN  270.310089\n",
       "2020-09-15T00:00:00.000Z  279.06   48.666585         NaN  268.139968\n",
       "2020-09-16T00:00:00.000Z  274.61   42.529767         NaN  270.431614\n",
       "2020-09-17T00:00:00.000Z  270.32   37.247146         NaN  273.489790\n",
       "2020-09-18T00:00:00.000Z  266.87   33.359517         NaN  272.536530\n",
       "\n",
       "[677 rows x 4 columns]"
      ]
     },
     "execution_count": 37,
     "metadata": {},
     "output_type": "execute_result"
    }
   ],
   "source": [
    "data['AITrain'] = train_predict_plot\n",
    "data['AITest'] = test_predict_plot\n",
    "data"
   ]
  },
  {
   "cell_type": "code",
   "execution_count": 38,
   "metadata": {},
   "outputs": [
    {
     "data": {
      "image/png": "[encoded data removed]",
      "text/plain": [
       "<Figure size 1152x432 with 1 Axes>"
      ]
     },
     "metadata": {
      "needs_background": "light"
     },
     "output_type": "display_data"
    }
   ],
   "source": [
    "plt.figure(figsize=(16,6))\n",
    "plt.plot(data.Close[-timestep-10:], label = ticker+' Closes')\n",
    "plt.plot(train_predict_plot[-timestep-10:], label = ticker+' Train-'+str(timestep))\n",
    "plt.plot(test_predict_plot[-timestep-10:], label = ticker+' Predict-'+str(timestep))\n",
    "plt.legend()\n",
    "plt.show()"
   ]
  },
  {
   "cell_type": "code",
   "execution_count": 39,
   "metadata": {},
   "outputs": [],
   "source": [
    "data['Abs%Err']=nan\n",
    "data['DirErr']=nan"
   ]
  },
  {
   "cell_type": "code",
   "execution_count": 40,
   "metadata": {},
   "outputs": [],
   "source": [
    "#-----STOCK PRICE PREDICTION METRIC-----\n",
    "for i in range(len(train_predictions)+timestep+timestep,len(scaled_data)):\n",
    "    data['Abs%Err'][i]=100*(data['AITest'][i]-data['Close'][i])/data['Close'][i]\n",
    "\n",
    "#-----DIRECTION PREDICTION METRIC-----\n",
    "for i in range(len(train_predictions)+timestep+timestep+1,len(scaled_data)):\n",
    "    parity=0\n",
    "    if ((data['Close'][i] - data['Close'][i-1])*(data['AITest'][i] - data['AITest'][i-1])) > 0:\n",
    "        data['DirErr'][i]=0\n",
    "        parity=1\n",
    "    if parity==0:\n",
    "        data['DirErr'][i]=1\n",
    "\n",
    "if DBGmode==1:\n",
    "    print('Train length = ', len(train_predictions)+timestep)\n",
    "    print('Total length = ', len(scaled_data))\n",
    "    ch=len(train_predictions)+timestep+timestep+1\n",
    "    print('data[Close][i]   = ', data['Close'][ch])\n",
    "    print('data[Close][i-1] = ', data['Close'][ch-1])\n",
    "    print('data[AITest][i]= ', data['AITest'][ch])\n",
    "    print('data[AITest][i-1]= ', data['AITest'][ch-1])\n",
    "    print('data[DirErr][i]  = ', data['DirErr'][ch])"
   ]
  },
  {
   "cell_type": "code",
   "execution_count": 41,
   "metadata": {},
   "outputs": [],
   "source": [
    "if DBGmode==1:\n",
    "    print(data['DirErr'][len(train_predictions)+timestep+timestep+1:len(scaled_data)])\n",
    "    print(data['Abs%Err'][len(train_predictions)+timestep+timestep:len(scaled_data)])"
   ]
  },
  {
   "cell_type": "code",
   "execution_count": 42,
   "metadata": {},
   "outputs": [
    {
     "name": "stdout",
     "output_type": "stream",
     "text": [
      "timestep= 3\n",
      "\n",
      "----DIRECTION-----\n",
      "Total Test Errors =  43.0\n",
      "Total Test Elements =  98\n",
      "Test Direction Predict Accuracy =  56.12244897959184\n",
      "\n",
      "----STOCK PRICE PREDICTION-----\n",
      "Max % Price Error =  8.365646022009525\n",
      "Min % Price Error =  -3.9131483172700547\n",
      "Average % Price Error =  -0.3626212469484786\n"
     ]
    }
   ],
   "source": [
    "Tot_test_error = sum(data['DirErr'][len(train_predictions)+timestep+timestep+1:len(scaled_data)])\n",
    "Tot_test_len = sum(data['DirErr'].notnull())\n",
    "Test_DirAcc = 100*(Tot_test_len - Tot_test_error) / Tot_test_len\n",
    "print('timestep=', timestep)\n",
    "print('')\n",
    "print('----DIRECTION-----')\n",
    "print('Total Test Errors = ', Tot_test_error)\n",
    "print('Total Test Elements = ', Tot_test_len)\n",
    "print('Test Direction Predict Accuracy = ', Test_DirAcc)\n",
    "print('')\n",
    "print('----STOCK PRICE PREDICTION-----')\n",
    "len(train_predictions)+timestep,len(scaled_data)-timestep\n",
    "print('Max % Price Error = ', max(data['Abs%Err'][len(train_predictions)+timestep+timestep:len(scaled_data)]))\n",
    "print('Min % Price Error = ', min(data['Abs%Err'][len(train_predictions)+timestep+timestep:len(scaled_data)]))\n",
    "print('Average % Price Error = ', statistics.mean(data['Abs%Err'][len(train_predictions)+timestep+timestep:len(scaled_data)]))"
   ]
  },
  {
   "cell_type": "code",
   "execution_count": 43,
   "metadata": {},
   "outputs": [],
   "source": [
    "if WritetoFile == 1:\n",
    "    data.to_csv(ticker+'_predict.csv')\n",
    "    print('Wrote to file')"
   ]
  },
  {
   "cell_type": "code",
   "execution_count": 44,
   "metadata": {},
   "outputs": [
    {
     "name": "stdout",
     "output_type": "stream",
     "text": [
      "timestep= 3\n"
     ]
    },
    {
     "data": {
      "text/html": [
       "<div>\n",
       "<style scoped>\n",
       "    .dataframe tbody tr th:only-of-type {\n",
       "        vertical-align: middle;\n",
       "    }\n",
       "\n",
       "    .dataframe tbody tr th {\n",
       "        vertical-align: top;\n",
       "    }\n",
       "\n",
       "    .dataframe thead th {\n",
       "        text-align: right;\n",
       "    }\n",
       "</style>\n",
       "<table border=\"1\" class=\"dataframe\">\n",
       "  <thead>\n",
       "    <tr style=\"text-align: right;\">\n",
       "      <th></th>\n",
       "      <th>Close</th>\n",
       "      <th>Close-RSI7</th>\n",
       "      <th>AITrain</th>\n",
       "      <th>AITest</th>\n",
       "      <th>Abs%Err</th>\n",
       "      <th>DirErr</th>\n",
       "    </tr>\n",
       "    <tr>\n",
       "      <th>Date</th>\n",
       "      <th></th>\n",
       "      <th></th>\n",
       "      <th></th>\n",
       "      <th></th>\n",
       "      <th></th>\n",
       "      <th></th>\n",
       "    </tr>\n",
       "  </thead>\n",
       "  <tbody>\n",
       "    <tr>\n",
       "      <th>2020-09-01T00:00:00.000Z</th>\n",
       "      <td>299.92</td>\n",
       "      <td>89.040926</td>\n",
       "      <td>NaN</td>\n",
       "      <td>295.789994</td>\n",
       "      <td>-1.377036</td>\n",
       "      <td>0.0</td>\n",
       "    </tr>\n",
       "    <tr>\n",
       "      <th>2020-09-02T00:00:00.000Z</th>\n",
       "      <td>302.76</td>\n",
       "      <td>90.593145</td>\n",
       "      <td>NaN</td>\n",
       "      <td>298.678831</td>\n",
       "      <td>-1.347988</td>\n",
       "      <td>0.0</td>\n",
       "    </tr>\n",
       "    <tr>\n",
       "      <th>2020-09-03T00:00:00.000Z</th>\n",
       "      <td>287.41</td>\n",
       "      <td>47.853567</td>\n",
       "      <td>NaN</td>\n",
       "      <td>302.520434</td>\n",
       "      <td>5.257449</td>\n",
       "      <td>1.0</td>\n",
       "    </tr>\n",
       "    <tr>\n",
       "      <th>2020-09-04T00:00:00.000Z</th>\n",
       "      <td>283.58</td>\n",
       "      <td>42.075281</td>\n",
       "      <td>NaN</td>\n",
       "      <td>300.432349</td>\n",
       "      <td>5.942714</td>\n",
       "      <td>0.0</td>\n",
       "    </tr>\n",
       "    <tr>\n",
       "      <th>2020-09-08T00:00:00.000Z</th>\n",
       "      <td>269.95</td>\n",
       "      <td>28.025231</td>\n",
       "      <td>NaN</td>\n",
       "      <td>292.533061</td>\n",
       "      <td>8.365646</td>\n",
       "      <td>0.0</td>\n",
       "    </tr>\n",
       "    <tr>\n",
       "      <th>2020-09-09T00:00:00.000Z</th>\n",
       "      <td>277.88</td>\n",
       "      <td>41.324600</td>\n",
       "      <td>NaN</td>\n",
       "      <td>278.706487</td>\n",
       "      <td>0.297426</td>\n",
       "      <td>1.0</td>\n",
       "    </tr>\n",
       "    <tr>\n",
       "      <th>2020-09-10T00:00:00.000Z</th>\n",
       "      <td>272.34</td>\n",
       "      <td>35.915597</td>\n",
       "      <td>NaN</td>\n",
       "      <td>273.457800</td>\n",
       "      <td>0.410443</td>\n",
       "      <td>0.0</td>\n",
       "    </tr>\n",
       "    <tr>\n",
       "      <th>2020-09-11T00:00:00.000Z</th>\n",
       "      <td>270.45</td>\n",
       "      <td>34.137174</td>\n",
       "      <td>NaN</td>\n",
       "      <td>268.753401</td>\n",
       "      <td>-0.627324</td>\n",
       "      <td>0.0</td>\n",
       "    </tr>\n",
       "    <tr>\n",
       "      <th>2020-09-14T00:00:00.000Z</th>\n",
       "      <td>275.16</td>\n",
       "      <td>42.425852</td>\n",
       "      <td>NaN</td>\n",
       "      <td>270.310089</td>\n",
       "      <td>-1.762578</td>\n",
       "      <td>0.0</td>\n",
       "    </tr>\n",
       "    <tr>\n",
       "      <th>2020-09-15T00:00:00.000Z</th>\n",
       "      <td>279.06</td>\n",
       "      <td>48.666585</td>\n",
       "      <td>NaN</td>\n",
       "      <td>268.139968</td>\n",
       "      <td>-3.913148</td>\n",
       "      <td>1.0</td>\n",
       "    </tr>\n",
       "    <tr>\n",
       "      <th>2020-09-16T00:00:00.000Z</th>\n",
       "      <td>274.61</td>\n",
       "      <td>42.529767</td>\n",
       "      <td>NaN</td>\n",
       "      <td>270.431614</td>\n",
       "      <td>-1.521571</td>\n",
       "      <td>1.0</td>\n",
       "    </tr>\n",
       "    <tr>\n",
       "      <th>2020-09-17T00:00:00.000Z</th>\n",
       "      <td>270.32</td>\n",
       "      <td>37.247146</td>\n",
       "      <td>NaN</td>\n",
       "      <td>273.489790</td>\n",
       "      <td>1.172607</td>\n",
       "      <td>1.0</td>\n",
       "    </tr>\n",
       "    <tr>\n",
       "      <th>2020-09-18T00:00:00.000Z</th>\n",
       "      <td>266.87</td>\n",
       "      <td>33.359517</td>\n",
       "      <td>NaN</td>\n",
       "      <td>272.536530</td>\n",
       "      <td>2.123330</td>\n",
       "      <td>0.0</td>\n",
       "    </tr>\n",
       "  </tbody>\n",
       "</table>\n",
       "</div>"
      ],
      "text/plain": [
       "                           Close  Close-RSI7  AITrain      AITest   Abs%Err  \\\n",
       "Date                                                                          \n",
       "2020-09-01T00:00:00.000Z  299.92   89.040926      NaN  295.789994 -1.377036   \n",
       "2020-09-02T00:00:00.000Z  302.76   90.593145      NaN  298.678831 -1.347988   \n",
       "2020-09-03T00:00:00.000Z  287.41   47.853567      NaN  302.520434  5.257449   \n",
       "2020-09-04T00:00:00.000Z  283.58   42.075281      NaN  300.432349  5.942714   \n",
       "2020-09-08T00:00:00.000Z  269.95   28.025231      NaN  292.533061  8.365646   \n",
       "2020-09-09T00:00:00.000Z  277.88   41.324600      NaN  278.706487  0.297426   \n",
       "2020-09-10T00:00:00.000Z  272.34   35.915597      NaN  273.457800  0.410443   \n",
       "2020-09-11T00:00:00.000Z  270.45   34.137174      NaN  268.753401 -0.627324   \n",
       "2020-09-14T00:00:00.000Z  275.16   42.425852      NaN  270.310089 -1.762578   \n",
       "2020-09-15T00:00:00.000Z  279.06   48.666585      NaN  268.139968 -3.913148   \n",
       "2020-09-16T00:00:00.000Z  274.61   42.529767      NaN  270.431614 -1.521571   \n",
       "2020-09-17T00:00:00.000Z  270.32   37.247146      NaN  273.489790  1.172607   \n",
       "2020-09-18T00:00:00.000Z  266.87   33.359517      NaN  272.536530  2.123330   \n",
       "\n",
       "                          DirErr  \n",
       "Date                              \n",
       "2020-09-01T00:00:00.000Z     0.0  \n",
       "2020-09-02T00:00:00.000Z     0.0  \n",
       "2020-09-03T00:00:00.000Z     1.0  \n",
       "2020-09-04T00:00:00.000Z     0.0  \n",
       "2020-09-08T00:00:00.000Z     0.0  \n",
       "2020-09-09T00:00:00.000Z     1.0  \n",
       "2020-09-10T00:00:00.000Z     0.0  \n",
       "2020-09-11T00:00:00.000Z     0.0  \n",
       "2020-09-14T00:00:00.000Z     0.0  \n",
       "2020-09-15T00:00:00.000Z     1.0  \n",
       "2020-09-16T00:00:00.000Z     1.0  \n",
       "2020-09-17T00:00:00.000Z     1.0  \n",
       "2020-09-18T00:00:00.000Z     0.0  "
      ]
     },
     "execution_count": 44,
     "metadata": {},
     "output_type": "execute_result"
    }
   ],
   "source": [
    "if DBGmode == 0:\n",
    "    pd.set_option('display.max_rows', data.shape[0]+1)\n",
    "    data\n",
    "\n",
    "print('timestep=', timestep)\n",
    "data.tail(timestep+10)"
   ]
  },
  {
   "cell_type": "code",
   "execution_count": 45,
   "metadata": {},
   "outputs": [
    {
     "name": "stdout",
     "output_type": "stream",
     "text": [
      "datafilt_ob\n",
      "[[274.61        42.52976675]\n",
      " [270.32        37.24714601]\n",
      " [266.87        33.3595173 ]]\n",
      "scaled_datafilt_ob\n",
      "[[0.82324501 0.37916031]\n",
      " [0.79630792 0.31623941]\n",
      " [0.77464523 0.26993416]]\n",
      "(1, 3, 2)\n",
      "data_x_ob\n",
      "[[[0.82324501 0.37916031]\n",
      "  [0.79630792 0.31623941]\n",
      "  [0.77464523 0.26993416]]]\n",
      "train_predictions_ob\n",
      "[[0.77901167]]\n",
      "inverse scaled train_predictions_ob\n",
      "[267.56539805]\n"
     ]
    }
   ],
   "source": [
    "#Predict for next day from here\n",
    "st_date_ob = '2018-1-1'\n",
    "en_date_ob = datetime.date(datetime.now())\n",
    "#yday = today - timedelta(days=1)\n",
    "response_ob = get_stock_data(ticker, st_date_ob, en_date_ob)\n",
    "dates_ob, closes_ob, opens_ob, highs_ob, lows_ob, vols_ob = parse_data(response_ob)\n",
    "\n",
    "#**** Define New Column Label here\n",
    "datastock_ob = pd.DataFrame(columns = ['Close'], index = dates_ob)\n",
    "dfindex_ob = datastock_ob.index\n",
    "dfindex_ob.name = 'Date'\n",
    "\n",
    "#**** ADD New Column Data here\n",
    "datastock_ob['Close']=closes_ob\n",
    "\n",
    "if ADDUS10Y==1:\n",
    "    us10y_data_ob = quandl.get(\"FRED/DGS10\", start_date=st_date_ob, end_date=en_date_ob, api_key = 'tNjFxT5wYAG7nbemafxi')\n",
    "    us10y_data_ob=us10y_data_ob.reset_index()\n",
    "    us10y_data_ob.rename(columns = {'Value':'US10Y'}, inplace = True) \n",
    "    \n",
    "    for row in range(0,len(us10y_data_ob)):\n",
    "        us10y_data_ob['Date'][row]=str(us10y_data_ob['Date'][row])[:10]+'T00:00:00.000Z'\n",
    "    us10y_data_ob=us10y_data_ob.set_index('Date')\n",
    "    \n",
    "    #****APPEND US10Y data here to a separate column in a new dataframe\n",
    "    data_ob=pd.concat([datastock_ob, us10y_data_ob], axis=1, sort=False)\n",
    "\n",
    "    #fill US10Y NaN with previous value\n",
    "    data_ob['US10Y'].fillna(method='ffill', inplace=True)\n",
    "else:\n",
    "    data_ob=datastock_ob\n",
    "    \n",
    "#Add XMA here\n",
    "\n",
    "if ADDXMA == 1:\n",
    "    #Enter SMA Data - defined at the top\n",
    "    #xmasmall=5\n",
    "    #xmalong=9\n",
    "    #data['Close-XMA5'] = data.iloc[:,0].rolling(window=smasmall).mean()\n",
    "    #data['Close-XMA9'] = data.iloc[:,0].rolling(window=smalong).mean()\n",
    "\n",
    "    #Enter EMA Data - defined at the top\n",
    "    #xmasmall=7\n",
    "    #xmalong=14\n",
    "    data_ob['Close-XMA'+str(xmasmall)] = data_ob.iloc[:,0].ewm(span=xmasmall, adjust=False).mean()\n",
    "    data_ob['Close-XMA'+str(xmalong)] = data_ob.iloc[:,0].ewm(span=xmalong, adjust=False).mean()\n",
    "\n",
    "    droprow_ob=xmalong\n",
    "    data_ob.drop(data_ob.index[0:droprow_ob], inplace = True)\n",
    "\n",
    "if ADDRSI == 1:\n",
    "    data_ob['Close-RSI'+str(RSIwindow)] = computeRSI(data_ob['Close'], RSIwindow)\n",
    "    data_ob.drop(data_ob.index[0:RSIwindow], inplace = True)\n",
    "\n",
    "data_noofcols_ob = len(data_ob.columns)\n",
    "\n",
    "datafilt_ob = data_ob[-timestep:].values\n",
    "print('datafilt_ob')\n",
    "print(datafilt_ob)\n",
    "\n",
    "scaled_datafilt_ob = scaler.transform(datafilt_ob)\n",
    "print('scaled_datafilt_ob')\n",
    "print(scaled_datafilt_ob)\n",
    "\n",
    "data_x_ob = []\n",
    "data_x_ob.append(scaled_datafilt_ob)\n",
    "data_x_ob = np.array(data_x_ob)\n",
    "print(data_x_ob.shape)\n",
    "print('data_x_ob')\n",
    "print(data_x_ob)\n",
    "#test_x = np.reshape(test_x, (test_x.shape[0], test_x.shape[2], 1))\n",
    "\n",
    "train_predictions_ob = model.predict(data_x_ob)\n",
    "print('train_predictions_ob')\n",
    "print(train_predictions_ob)\n",
    "\n",
    "# create empty table with data_noofcols fields\n",
    "train_predictions_like_ob = np.zeros(shape=(len(train_predictions_ob), data_noofcols_ob))\n",
    "# put the predicted values in the right field\n",
    "train_predictions_like_ob[:,0] = train_predictions_ob[:,0]\n",
    "# inverse transform and then select the right field\n",
    "train_predictions_ob = scaler.inverse_transform(train_predictions_like_ob)[:,0]\n",
    "\n",
    "print('inverse scaled train_predictions_ob')\n",
    "print(train_predictions_ob)"
   ]
  },
  {
   "cell_type": "code",
   "execution_count": 46,
   "metadata": {},
   "outputs": [
    {
     "name": "stdout",
     "output_type": "stream",
     "text": [
      "QQQ  predict =  267.5653980505466  on  2020-09-20\n"
     ]
    }
   ],
   "source": [
    "print(ticker, ' predict = ', float(train_predictions_ob), ' on ', en_date_ob)"
   ]
  },
  {
   "cell_type": "code",
   "execution_count": null,
   "metadata": {},
   "outputs": [],
   "source": []
  }
 ],
 "metadata": {
  "kernelspec": {
   "display_name": "Python 3",
   "language": "python",
   "name": "python3"
  },
  "language_info": {
   "codemirror_mode": {
    "name": "ipython",
    "version": 3
   },
   "file_extension": ".py",
   "mimetype": "text/x-python",
   "name": "python",
   "nbconvert_exporter": "python",
   "pygments_lexer": "ipython3",
   "version": "3.8.3"
  }
 },
 "nbformat": 4,
 "nbformat_minor": 2
}
