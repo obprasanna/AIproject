{
 "cells": [
  {
   "cell_type": "code",
   "execution_count": 1,
   "metadata": {},
   "outputs": [],
   "source": [
    "import pandas as pd\n",
    "import numpy as np\n",
    "import matplotlib.pyplot as plt\n",
    "\n",
    "#import tensorflow as tf\n",
    "\n",
    "from sklearn.preprocessing import MinMaxScaler\n",
    "\n",
    "from keras.models import Sequential\n",
    "from keras.layers import LSTM, Dense\n",
    "\n",
    "# Get stock data from tiingo\n",
    "\n",
    "import requests\n",
    "nan=np.nan"
   ]
  },
  {
   "cell_type": "code",
   "execution_count": 2,
   "metadata": {},
   "outputs": [],
   "source": [
    "def get_stock_data(stock_symbol, start_date, end_date):\n",
    "    base_url = f'https://api.tiingo.com/tiingo/daily/{stock_symbol}/prices?'\n",
    "    token = '59e2dfca5859e44a55ef766a8f81aab1ab8a80e8'\n",
    "    payload = {\n",
    "        'startDate': start_date,\n",
    "        'endDate': end_date,\n",
    "        'token': token\n",
    "    }\n",
    "    response = requests.get(base_url, params=payload)\n",
    "    return response"
   ]
  },
  {
   "cell_type": "code",
   "execution_count": 3,
   "metadata": {},
   "outputs": [],
   "source": [
    "DBGmode = 0\n",
    "ticker = 'NVDA'\n",
    "st_date = '2017-8-26'\n",
    "#st_date = '2020-8-20'\n",
    "en_date = '2020-9-8'\n",
    "\n",
    "response = get_stock_data(ticker, st_date, en_date)\n",
    "\n",
    "if DBGmode == 1:\n",
    "    print(response.url)\n",
    "    print(response.json())"
   ]
  },
  {
   "cell_type": "code",
   "execution_count": 4,
   "metadata": {},
   "outputs": [],
   "source": [
    "def parse_data(data_response):\n",
    "    json_data = data_response.json()\n",
    "    dates = []\n",
    "    closes =[]\n",
    "    opens = []\n",
    "    highs = []\n",
    "    lows = []\n",
    "    vols = []\n",
    "    for json_object in json_data:\n",
    "        dates.append(json_object['date'])\n",
    "        closes.append(json_object['close'])\n",
    "        opens.append(json_object['open'])\n",
    "        highs.append(json_object['high'])\n",
    "        lows.append(json_object['low'])\n",
    "        vols.append(json_object['volume'])\n",
    "    return dates, closes, opens, highs, lows, vols"
   ]
  },
  {
   "cell_type": "code",
   "execution_count": 5,
   "metadata": {},
   "outputs": [],
   "source": [
    "dates, closes, opens, highs, lows, vols = parse_data(response)\n",
    "\n",
    "if DBGmode == 1:\n",
    "    print(dates, closes)"
   ]
  },
  {
   "cell_type": "code",
   "execution_count": 6,
   "metadata": {},
   "outputs": [],
   "source": [
    "data = pd.DataFrame(columns = ['Close'], index = dates)\n",
    "dfindex = data.index\n",
    "dfindex.name = 'Date'"
   ]
  },
  {
   "cell_type": "code",
   "execution_count": 7,
   "metadata": {},
   "outputs": [],
   "source": [
    "data['Close']=closes\n",
    "\n",
    "if DBGmode == 1:\n",
    "    data"
   ]
  },
  {
   "cell_type": "code",
   "execution_count": 8,
   "metadata": {},
   "outputs": [
    {
     "data": {
      "image/png": "[encoded data removed]",
      "text/plain": [
       "<Figure size 432x288 with 1 Axes>"
      ]
     },
     "metadata": {
      "needs_background": "light"
     },
     "output_type": "display_data"
    }
   ],
   "source": [
    "plt.plot(data['Close'], label=ticker+' Closes')\n",
    "plt.legend()\n",
    "plt.show()"
   ]
  },
  {
   "cell_type": "code",
   "execution_count": 9,
   "metadata": {},
   "outputs": [],
   "source": [
    "scaler = MinMaxScaler()\n",
    "scaled_data = scaler.fit_transform(data)\n",
    "\n",
    "if DBGmode == 1:\n",
    "    #scaled_data = data['Close']\n",
    "    print(scaled_data)"
   ]
  },
  {
   "cell_type": "code",
   "execution_count": 10,
   "metadata": {},
   "outputs": [],
   "source": [
    "train_length = int(len(scaled_data) * 0.7)\n",
    "test_length = len(scaled_data) - train_length\n",
    "train_data = scaled_data[0:train_length,:]\n",
    "test_data = scaled_data[train_length:len(scaled_data),:]\n",
    "\n",
    "if DBGmode == 1:\n",
    "    #train_length = int(len(scaled_data) * 0.7)\n",
    "    #test_length = len(scaled_data) - train_length\n",
    "    #train_data = scaled_data[0:train_length]\n",
    "    #test_data = scaled_data[train_length:len(scaled_data)]\n",
    "    print(len(scaled_data))\n",
    "    print(train_length)\n",
    "    print(test_length)"
   ]
  },
  {
   "cell_type": "code",
   "execution_count": 11,
   "metadata": {},
   "outputs": [],
   "source": [
    "def create_dataset(dataset, timestep=1):\n",
    "    data_x, data_y = [], []\n",
    "    #for i in range(len(dataset) - timestep - 1):\n",
    "        #data_x.append(dataset[i:(i+timestep),0])\n",
    "        #data_y.append(dataset[i+timestep,0])\n",
    "    for i in range(len(dataset) - timestep):\n",
    "        data_x.append(dataset[i:(i+timestep),0])\n",
    "        data_y.append(dataset[i+timestep,0])\n",
    "    return np.array(data_x), np.array(data_y)"
   ]
  },
  {
   "cell_type": "code",
   "execution_count": 12,
   "metadata": {},
   "outputs": [],
   "source": [
    "timestep = 1\n",
    "train_x, train_y = create_dataset(train_data, timestep)\n",
    "test_x, test_y = create_dataset(test_data, timestep)\n",
    "\n",
    "if DBGmode == 1:\n",
    "    #print(train_x.head(5))\n",
    "    #print(train_y.head(5))\n",
    "    train_y = train_y.reshape(-1,1)\n",
    "    plt.plot(scaler.inverse_transform(train_x), label='Closes')\n",
    "    plt.plot(scaler.inverse_transform(train_y), label='Predict')\n",
    "    plt.legend()\n",
    "    plt.show()"
   ]
  },
  {
   "cell_type": "code",
   "execution_count": 13,
   "metadata": {},
   "outputs": [],
   "source": [
    "if DBGmode == 1:\n",
    "    print(train_x.shape)\n",
    "    print(test_x.shape)"
   ]
  },
  {
   "cell_type": "code",
   "execution_count": 14,
   "metadata": {},
   "outputs": [],
   "source": [
    "train_x = np.reshape(train_x, (train_x.shape[0], 1, train_x.shape[1]))\n",
    "test_x = np.reshape(test_x, (test_x.shape[0], 1, test_x.shape[1]))\n",
    "\n",
    "if DBGmode == 1:\n",
    "    print(train_x)"
   ]
  },
  {
   "cell_type": "code",
   "execution_count": 15,
   "metadata": {},
   "outputs": [
    {
     "name": "stdout",
     "output_type": "stream",
     "text": [
      "Model: \"sequential\"\n",
      "_________________________________________________________________\n",
      "Layer (type)                 Output Shape              Param #   \n",
      "=================================================================\n",
      "lstm (LSTM)                  (None, 256)               264192    \n",
      "_________________________________________________________________\n",
      "dense (Dense)                (None, 1)                 257       \n",
      "=================================================================\n",
      "Total params: 264,449\n",
      "Trainable params: 264,449\n",
      "Non-trainable params: 0\n",
      "_________________________________________________________________\n",
      "None\n"
     ]
    }
   ],
   "source": [
    "#model = Sequential()\n",
    "#model.add(LSTM(256, input_shape=(1,1)))\n",
    "#model.add(Dense(1, activation='sigmoid'))\n",
    "#model.compile(loss='mean_squared_error', optimizer='adam', metrics=['accuracy'])\n",
    "#print(model.summary())\n",
    "\n",
    "model = Sequential()\n",
    "model.add(LSTM(256, input_shape=(1,1)))\n",
    "model.add(Dense(1, activation='sigmoid'))\n",
    "#model.add(Dense(6, input_dim=6, activation='relu'))\n",
    "#model.add(Dense(6, activation='relu'))\n",
    "#model.add(Dense(1, activation=None))\n",
    "model.compile(loss='mean_squared_error', optimizer='adam', metrics=['accuracy'])\n",
    "print(model.summary())"
   ]
  },
  {
   "cell_type": "code",
   "execution_count": 16,
   "metadata": {},
   "outputs": [
    {
     "name": "stdout",
     "output_type": "stream",
     "text": [
      "Epoch 1/5\n",
      "533/533 [==============================] - 1s 1ms/step - loss: 0.0189 - accuracy: 0.0019\n",
      "Epoch 2/5\n",
      "533/533 [==============================] - 1s 1ms/step - loss: 0.0036 - accuracy: 0.0019\n",
      "Epoch 3/5\n",
      "533/533 [==============================] - 1s 1ms/step - loss: 6.6984e-04 - accuracy: 0.0019\n",
      "Epoch 4/5\n",
      "533/533 [==============================] - 1s 1ms/step - loss: 4.1304e-04 - accuracy: 0.0019\n",
      "Epoch 5/5\n",
      "533/533 [==============================] - 1s 1ms/step - loss: 3.9430e-04 - accuracy: 0.0019\n",
      "Keras model loss =  0.00042575603583827615\n",
      "Keras model accuracy =  0.0018761726096272469\n"
     ]
    }
   ],
   "source": [
    "model.fit(train_x, train_y, epochs=5, batch_size=1, verbose=1)\n",
    "score = model.evaluate(train_x, train_y, verbose=0)\n",
    "print('Keras model loss = ', score[0])\n",
    "print('Keras model accuracy = ', score[1])"
   ]
  },
  {
   "cell_type": "code",
   "execution_count": 17,
   "metadata": {},
   "outputs": [],
   "source": [
    "train_predictions = model.predict(train_x)\n",
    "test_predictions = model.predict(test_x)\n",
    "\n",
    "if DBGmode == 1:\n",
    "    print(train_predictions)"
   ]
  },
  {
   "cell_type": "code",
   "execution_count": 18,
   "metadata": {},
   "outputs": [],
   "source": [
    "train_predictions = scaler.inverse_transform(train_predictions)\n",
    "train_y = scaler.inverse_transform([train_y])\n",
    "\n",
    "test_predictions = scaler.inverse_transform(test_predictions)\n",
    "test_y = scaler.inverse_transform([test_y])\n",
    "\n",
    "if DBGmode == 1:\n",
    "    print(train_predictions)\n",
    "    print(test_predictions)"
   ]
  },
  {
   "cell_type": "code",
   "execution_count": 19,
   "metadata": {},
   "outputs": [],
   "source": [
    "train_predict_plot = np.empty_like(scaled_data)\n",
    "train_predict_plot[:,:] = np.nan\n",
    "train_predict_plot[1:len(train_predictions)+1, :] = train_predictions"
   ]
  },
  {
   "cell_type": "code",
   "execution_count": 20,
   "metadata": {},
   "outputs": [],
   "source": [
    "test_predict_plot = np.empty_like(scaled_data)\n",
    "test_predict_plot[:,:] = np.nan\n",
    "test_predict_plot[\n",
    "    len(train_predictions)+2:len(scaled_data), :] = test_predictions"
   ]
  },
  {
   "cell_type": "code",
   "execution_count": 21,
   "metadata": {},
   "outputs": [
    {
     "data": {
      "image/png": "[encoded data removed]",
      "text/plain": [
       "<Figure size 432x288 with 1 Axes>"
      ]
     },
     "metadata": {
      "needs_background": "light"
     },
     "output_type": "display_data"
    }
   ],
   "source": [
    "plt.plot(scaler.inverse_transform(scaled_data), label = ticker+' Closes')\n",
    "plt.plot(train_predict_plot, label = ticker+' Train')\n",
    "plt.plot(test_predict_plot, label = ticker+' Predict')\n",
    "plt.legend()\n",
    "plt.show()"
   ]
  },
  {
   "cell_type": "code",
   "execution_count": 22,
   "metadata": {},
   "outputs": [
    {
     "name": "stdout",
     "output_type": "stream",
     "text": [
      "763\n",
      "533\n",
      "228\n"
     ]
    }
   ],
   "source": [
    "print(len(data['Close']))\n",
    "print(len(train_predictions))\n",
    "print(len(test_predictions))"
   ]
  },
  {
   "cell_type": "code",
   "execution_count": 23,
   "metadata": {},
   "outputs": [
    {
     "data": {
      "text/html": [
       "<div>\n",
       "<style scoped>\n",
       "    .dataframe tbody tr th:only-of-type {\n",
       "        vertical-align: middle;\n",
       "    }\n",
       "\n",
       "    .dataframe tbody tr th {\n",
       "        vertical-align: top;\n",
       "    }\n",
       "\n",
       "    .dataframe thead th {\n",
       "        text-align: right;\n",
       "    }\n",
       "</style>\n",
       "<table border=\"1\" class=\"dataframe\">\n",
       "  <thead>\n",
       "    <tr style=\"text-align: right;\">\n",
       "      <th></th>\n",
       "      <th>Close</th>\n",
       "      <th>AITrain</th>\n",
       "      <th>AITest</th>\n",
       "    </tr>\n",
       "    <tr>\n",
       "      <th>Date</th>\n",
       "      <th></th>\n",
       "      <th></th>\n",
       "      <th></th>\n",
       "    </tr>\n",
       "  </thead>\n",
       "  <tbody>\n",
       "    <tr>\n",
       "      <th>2020-09-01T00:00:00.000Z</th>\n",
       "      <td>552.84</td>\n",
       "      <td>NaN</td>\n",
       "      <td>543.048340</td>\n",
       "    </tr>\n",
       "    <tr>\n",
       "      <th>2020-09-02T00:00:00.000Z</th>\n",
       "      <td>573.86</td>\n",
       "      <td>NaN</td>\n",
       "      <td>547.600769</td>\n",
       "    </tr>\n",
       "    <tr>\n",
       "      <th>2020-09-03T00:00:00.000Z</th>\n",
       "      <td>520.62</td>\n",
       "      <td>NaN</td>\n",
       "      <td>551.991516</td>\n",
       "    </tr>\n",
       "    <tr>\n",
       "      <th>2020-09-04T00:00:00.000Z</th>\n",
       "      <td>504.90</td>\n",
       "      <td>NaN</td>\n",
       "      <td>538.729065</td>\n",
       "    </tr>\n",
       "    <tr>\n",
       "      <th>2020-09-08T00:00:00.000Z</th>\n",
       "      <td>476.52</td>\n",
       "      <td>NaN</td>\n",
       "      <td>533.207275</td>\n",
       "    </tr>\n",
       "  </tbody>\n",
       "</table>\n",
       "</div>"
      ],
      "text/plain": [
       "                           Close  AITrain      AITest\n",
       "Date                                                 \n",
       "2020-09-01T00:00:00.000Z  552.84      NaN  543.048340\n",
       "2020-09-02T00:00:00.000Z  573.86      NaN  547.600769\n",
       "2020-09-03T00:00:00.000Z  520.62      NaN  551.991516\n",
       "2020-09-04T00:00:00.000Z  504.90      NaN  538.729065\n",
       "2020-09-08T00:00:00.000Z  476.52      NaN  533.207275"
      ]
     },
     "execution_count": 23,
     "metadata": {},
     "output_type": "execute_result"
    }
   ],
   "source": [
    "data['AITrain'] = train_predict_plot\n",
    "data['AITest'] = test_predict_plot\n",
    "data.tail()"
   ]
  },
  {
   "cell_type": "code",
   "execution_count": 26,
   "metadata": {},
   "outputs": [
    {
     "data": {
      "image/png": "[encoded data removed]",
      "text/plain": [
       "<Figure size 432x288 with 1 Axes>"
      ]
     },
     "metadata": {
      "needs_background": "light"
     },
     "output_type": "display_data"
    }
   ],
   "source": [
    "plt.plot(scaler.inverse_transform(scaled_data[-40:]), label=ticker+' Closes')\n",
    "plt.plot(test_predict_plot[-40:], label=ticker+' Predict')\n",
    "plt.legend()\n",
    "plt.show()"
   ]
  },
  {
   "cell_type": "code",
   "execution_count": 25,
   "metadata": {},
   "outputs": [],
   "source": [
    "#data.to_csv(ticker+'_predict.csv')"
   ]
  },
  {
   "cell_type": "code",
   "execution_count": null,
   "metadata": {},
   "outputs": [],
   "source": []
  }
 ],
 "metadata": {
  "kernelspec": {
   "display_name": "Python 3",
   "language": "python",
   "name": "python3"
  },
  "language_info": {
   "codemirror_mode": {
    "name": "ipython",
    "version": 3
   },
   "file_extension": ".py",
   "mimetype": "text/x-python",
   "name": "python",
   "nbconvert_exporter": "python",
   "pygments_lexer": "ipython3",
   "version": "3.8.3"
  }
 },
 "nbformat": 4,
 "nbformat_minor": 2
}
