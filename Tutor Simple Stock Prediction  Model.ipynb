{
 "cells": [
  {
   "cell_type": "code",
   "execution_count": 1,
   "metadata": {},
   "outputs": [],
   "source": [
    "import requests"
   ]
  },
  {
   "cell_type": "code",
   "execution_count": 2,
   "metadata": {},
   "outputs": [],
   "source": [
    "def get_stock_data(stock_symbol, start_date, end_date):\n",
    "    base_url = f'https://api.tiingo.com/tiingo/daily/{stock_symbol}/prices?'\n",
    "    token = '92549df1ba9e9e2d4d3c7c916a312b5f665a92a4'\n",
    "    payload = {\n",
    "        'startDate': start_date,\n",
    "        'endDate': end_date,\n",
    "        'token': token\n",
    "    }\n",
    "    response = requests.get(base_url, params=payload)\n",
    "    return response"
   ]
  },
  {
   "cell_type": "code",
   "execution_count": 3,
   "metadata": {},
   "outputs": [
    {
     "name": "stdout",
     "output_type": "stream",
     "text": [
      "https://api.tiingo.com/tiingo/daily/AAPL/prices?startDate=2019-1-1&endDate=2019-5-2&token=92549df1ba9e9e2d4d3c7c916a312b5f665a92a4\n",
      "[{'date': '2019-01-02T00:00:00.000Z', 'close': 157.92, 'high': 158.85, 'low': 154.23, 'open': 154.89, 'volume': 37039700, 'adjClose': 154.5074231718, 'adjHigh': 155.4173263097, 'adjLow': 150.897162334, 'adjOpen': 151.5429000448, 'adjVolume': 37039700, 'divCash': 0.0, 'splitFactor': 1.0}, {'date': '2019-01-03T00:00:00.000Z', 'close': 142.19, 'high': 145.72, 'low': 142.0, 'open': 143.98, 'volume': 91312200, 'adjClose': 139.1173410638, 'adjHigh': 142.5710594262, 'adjLow': 138.9314468743, 'adjOpen': 140.8686600068, 'adjVolume': 91312200, 'divCash': 0.0, 'splitFactor': 1.0}, {'date': '2019-01-04T00:00:00.000Z', 'close': 148.26, 'high': 148.55, 'low': 143.8, 'open': 144.53, 'volume': 58607100, 'adjClose': 145.0561712224, 'adjHigh': 145.339904459, 'adjLow': 140.692549722, 'adjOpen': 141.4067747658, 'adjVolume': 58607100, 'divCash': 0.0, 'splitFactor': 1.0}, {'date': '2019-01-07T00:00:00.000Z', 'close': 147.93, 'high': 148.83, 'low': 145.9, 'open': 148.7, 'volume': 54777800, 'adjClose': 144.733302367, 'adjHigh': 145.6138537909, 'adjLow': 142.747169711, 'adjOpen': 145.4866630296, 'adjVolume': 54777800, 'divCash': 0.0, 'splitFactor': 1.0}, {'date': '2019-01-08T00:00:00.000Z', 'close': 150.75, 'high': 151.82, 'low': 148.52, 'open': 149.56, 'volume': 41025300, 'adjClose': 147.4923634951, 'adjHigh': 148.539241299, 'adjLow': 145.3105527449, 'adjOpen': 146.3280788347, 'adjVolume': 41025300, 'divCash': 0.0, 'splitFactor': 1.0}, {'date': '2019-01-09T00:00:00.000Z', 'close': 153.31, 'high': 154.53, 'low': 149.63, 'open': 151.29, 'volume': 45099100, 'adjClose': 149.9970431007, 'adjHigh': 151.1906794753, 'adjLow': 146.3965661676, 'adjOpen': 148.0206943494, 'adjVolume': 45099100, 'divCash': 0.0, 'splitFactor': 1.0}, {'date': '2019-01-10T00:00:00.000Z', 'close': 153.8, 'high': 153.97, 'low': 150.86, 'open': 152.5, 'volume': 35780700, 'adjClose': 150.4764544315, 'adjHigh': 150.6427808115, 'adjLow': 147.5999864469, 'adjOpen': 149.2045468192, 'adjVolume': 35780700, 'divCash': 0.0, 'splitFactor': 1.0}, {'date': '2019-01-11T00:00:00.000Z', 'close': 152.29, 'high': 153.7, 'low': 151.51, 'open': 152.88, 'volume': 27023200, 'adjClose': 148.9990848203, 'adjHigh': 150.3786153844, 'adjLow': 148.235940253, 'adjOpen': 149.5763351982, 'adjVolume': 27023200, 'divCash': 0.0, 'splitFactor': 1.0}, {'date': '2019-01-14T00:00:00.000Z', 'close': 150.0, 'high': 151.27, 'low': 149.22, 'open': 150.85, 'volume': 32439200, 'adjClose': 146.7585706419, 'adjHigh': 148.00112654, 'adjLow': 145.9954260745, 'adjOpen': 147.5902025422, 'adjVolume': 32439200, 'divCash': 0.0, 'splitFactor': 1.0}, {'date': '2019-01-15T00:00:00.000Z', 'close': 153.07, 'high': 153.39, 'low': 150.05, 'open': 150.27, 'volume': 28710900, 'adjClose': 149.7622293877, 'adjHigh': 150.0753143384, 'adjLow': 146.8074901654, 'adjOpen': 147.022736069, 'adjVolume': 28710900, 'divCash': 0.0, 'splitFactor': 1.0}, {'date': '2019-01-16T00:00:00.000Z', 'close': 154.94, 'high': 155.88, 'low': 153.0, 'open': 153.08, 'volume': 30569700, 'adjClose': 151.5918195683, 'adjHigh': 152.511506611, 'adjLow': 149.6937420547, 'adjOpen': 149.7720132924, 'adjVolume': 30569700, 'divCash': 0.0, 'splitFactor': 1.0}, {'date': '2019-01-17T00:00:00.000Z', 'close': 155.86, 'high': 157.66, 'low': 153.26, 'open': 154.2, 'volume': 29821200, 'adjClose': 152.4919388016, 'adjHigh': 154.2530416493, 'adjLow': 149.9481235772, 'adjOpen': 150.8678106198, 'adjVolume': 29821200, 'divCash': 0.0, 'splitFactor': 1.0}, {'date': '2019-01-18T00:00:00.000Z', 'close': 156.82, 'high': 157.88, 'low': 155.98, 'open': 157.5, 'volume': 33751000, 'adjClose': 153.4311936537, 'adjHigh': 154.4682875529, 'adjLow': 152.6093456581, 'adjOpen': 154.096499174, 'adjVolume': 33751000, 'divCash': 0.0, 'splitFactor': 1.0}, {'date': '2019-01-22T00:00:00.000Z', 'close': 153.3, 'high': 156.73, 'low': 152.62, 'open': 156.41, 'volume': 30394000, 'adjClose': 149.987259196, 'adjHigh': 153.3431385113, 'adjLow': 149.3219536758, 'adjOpen': 153.0300535606, 'adjVolume': 30394000, 'divCash': 0.0, 'splitFactor': 1.0}, {'date': '2019-01-23T00:00:00.000Z', 'close': 153.92, 'high': 155.14, 'low': 151.7, 'open': 154.15, 'volume': 23130600, 'adjClose': 150.593861288, 'adjHigh': 151.7874976625, 'adjLow': 148.4218344425, 'adjOpen': 150.8188910963, 'adjVolume': 23130600, 'divCash': 0.0, 'splitFactor': 1.0}, {'date': '2019-01-24T00:00:00.000Z', 'close': 152.7, 'high': 154.48, 'low': 151.74, 'open': 154.11, 'volume': 25441500, 'adjClose': 149.4002249134, 'adjHigh': 151.1417599517, 'adjLow': 148.4609700613, 'adjOpen': 150.7797554775, 'adjVolume': 25441500, 'divCash': 0.0, 'splitFactor': 1.0}, {'date': '2019-01-25T00:00:00.000Z', 'close': 157.76, 'high': 158.13, 'low': 154.32, 'open': 155.48, 'volume': 33535500, 'adjClose': 154.3508806964, 'adjHigh': 154.7128851707, 'adjLow': 150.9852174764, 'adjOpen': 152.1201504227, 'adjVolume': 33535500, 'divCash': 0.0, 'splitFactor': 1.0}, {'date': '2019-01-28T00:00:00.000Z', 'close': 156.3, 'high': 156.33, 'low': 153.66, 'open': 155.79, 'volume': 26192100, 'adjClose': 152.9224306088, 'adjHigh': 152.951782323, 'adjLow': 150.3394797655, 'adjOpen': 152.4234514687, 'adjVolume': 26192100, 'divCash': 0.0, 'splitFactor': 1.0}, {'date': '2019-01-29T00:00:00.000Z', 'close': 154.68, 'high': 158.13, 'low': 154.11, 'open': 156.25, 'volume': 41587200, 'adjClose': 151.3374380459, 'adjHigh': 154.7128851707, 'adjLow': 150.7797554775, 'adjOpen': 152.8735110853, 'adjVolume': 41587200, 'divCash': 0.0, 'splitFactor': 1.0}, {'date': '2019-01-30T00:00:00.000Z', 'close': 165.25, 'high': 166.15, 'low': 160.23, 'open': 163.25, 'volume': 61109800, 'adjClose': 161.6790253238, 'adjHigh': 162.5595767477, 'adjLow': 156.7675051597, 'adjOpen': 159.7222443819, 'adjVolume': 61109800, 'divCash': 0.0, 'splitFactor': 1.0}, {'date': '2019-01-31T00:00:00.000Z', 'close': 166.44, 'high': 169.0, 'low': 164.56, 'open': 166.11, 'volume': 40739600, 'adjClose': 162.8433099842, 'adjHigh': 165.3479895898, 'adjLow': 161.0039358988, 'adjOpen': 162.5204411288, 'adjVolume': 40739600, 'divCash': 0.0, 'splitFactor': 1.0}, {'date': '2019-02-01T00:00:00.000Z', 'close': 166.52, 'high': 168.98, 'low': 165.93, 'open': 166.96, 'volume': 32668100, 'adjClose': 162.9215812219, 'adjHigh': 165.3284217804, 'adjLow': 162.344330844, 'adjOpen': 163.3520730291, 'adjVolume': 32668100, 'divCash': 0.0, 'splitFactor': 1.0}, {'date': '2019-02-04T00:00:00.000Z', 'close': 171.25, 'high': 171.66, 'low': 167.28, 'open': 167.41, 'volume': 31495500, 'adjClose': 167.5493681495, 'adjHigh': 167.9505082426, 'adjLow': 163.6651579798, 'adjOpen': 163.792348741, 'adjVolume': 31495500, 'divCash': 0.0, 'splitFactor': 1.0}, {'date': '2019-02-05T00:00:00.000Z', 'close': 174.18, 'high': 175.08, 'low': 172.35, 'open': 172.86, 'volume': 36101600, 'adjClose': 170.4160522293, 'adjHigh': 171.2966036532, 'adjLow': 168.6255976675, 'adjOpen': 169.1245768077, 'adjVolume': 36101600, 'divCash': 0.0, 'splitFactor': 1.0}, {'date': '2019-02-06T00:00:00.000Z', 'close': 174.24, 'high': 175.57, 'low': 172.85, 'open': 174.65, 'volume': 28239600, 'adjClose': 170.4747556576, 'adjHigh': 171.776014984, 'adjLow': 169.114792903, 'adjOpen': 170.8758957507, 'adjVolume': 28239600, 'divCash': 0.0, 'splitFactor': 1.0}, {'date': '2019-02-07T00:00:00.000Z', 'close': 170.94, 'high': 173.94, 'low': 170.34, 'open': 172.4, 'volume': 31741700, 'adjClose': 167.2460671035, 'adjHigh': 170.1812385163, 'adjLow': 166.6590328209, 'adjOpen': 168.6745171911, 'adjVolume': 31741700, 'divCash': 0.0, 'splitFactor': 1.0}, {'date': '2019-02-08T00:00:00.000Z', 'close': 170.41, 'high': 170.66, 'low': 168.42, 'open': 168.99, 'volume': 23820000, 'adjClose': 167.4417451977, 'adjHigh': 167.6873906193, 'adjLow': 165.4864076415, 'adjOpen': 166.0464792028, 'adjVolume': 23820000, 'divCash': 0.73, 'splitFactor': 1.0}, {'date': '2019-02-11T00:00:00.000Z', 'close': 169.43, 'high': 171.21, 'low': 169.25, 'open': 171.05, 'volume': 20993400, 'adjClose': 166.4788151449, 'adjHigh': 168.2278105469, 'adjLow': 166.3019504413, 'adjOpen': 168.070597477, 'adjVolume': 20993400, 'divCash': 0.0, 'splitFactor': 1.0}, {'date': '2019-02-12T00:00:00.000Z', 'close': 170.89, 'high': 171.0, 'low': 169.7, 'open': 170.1, 'volume': 22283500, 'adjClose': 167.9133844072, 'adjHigh': 168.0214683927, 'adjLow': 166.7441122003, 'adjOpen': 167.1371448749, 'adjVolume': 22283500, 'divCash': 0.0, 'splitFactor': 1.0}, {'date': '2019-02-13T00:00:00.000Z', 'close': 170.18, 'high': 172.48, 'low': 169.92, 'open': 171.39, 'volume': 22464000, 'adjClose': 167.2157514098, 'adjHigh': 169.4756892887, 'adjLow': 166.9602801713, 'adjOpen': 168.4046752504, 'adjVolume': 22464000, 'divCash': 0.0, 'splitFactor': 1.0}, {'date': '2019-02-14T00:00:00.000Z', 'close': 170.8, 'high': 171.26, 'low': 169.38, 'open': 169.71, 'volume': 21835700, 'adjClose': 167.8249520554, 'adjHigh': 168.2769396312, 'adjLow': 166.4296860606, 'adjOpen': 166.7539380171, 'adjVolume': 21835700, 'divCash': 0.0, 'splitFactor': 1.0}, {'date': '2019-02-15T00:00:00.000Z', 'close': 170.42, 'high': 171.7, 'low': 169.75, 'open': 171.25, 'volume': 24626800, 'adjClose': 167.4515710145, 'adjHigh': 168.7092755733, 'adjLow': 166.7932412846, 'adjOpen': 168.2671138143, 'adjVolume': 24626800, 'divCash': 0.0, 'splitFactor': 1.0}, {'date': '2019-02-19T00:00:00.000Z', 'close': 170.93, 'high': 171.44, 'low': 169.49, 'open': 169.71, 'volume': 18972800, 'adjClose': 167.9526876747, 'adjHigh': 168.4538043348, 'adjLow': 166.5377700461, 'adjOpen': 166.7539380171, 'adjVolume': 18972800, 'divCash': 0.0, 'splitFactor': 1.0}, {'date': '2019-02-20T00:00:00.000Z', 'close': 172.03, 'high': 173.32, 'low': 170.99, 'open': 171.19, 'volume': 24739200, 'adjClose': 169.0335275298, 'adjHigh': 170.3010579054, 'adjLow': 168.0116425758, 'adjOpen': 168.2081589131, 'adjVolume': 24739200, 'divCash': 0.0, 'splitFactor': 1.0}, {'date': '2019-02-21T00:00:00.000Z', 'close': 171.06, 'high': 172.37, 'low': 170.3, 'open': 171.8, 'volume': 17249670, 'adjClose': 168.0804232939, 'adjHigh': 169.3676053032, 'adjLow': 167.3336612122, 'adjOpen': 168.8075337419, 'adjVolume': 17249670, 'divCash': 0.0, 'splitFactor': 1.0}, {'date': '2019-02-22T00:00:00.000Z', 'close': 172.97, 'high': 173.0, 'low': 171.38, 'open': 171.58, 'volume': 18913200, 'adjClose': 169.9571543151, 'adjHigh': 169.9866317657, 'adjLow': 168.3948494336, 'adjOpen': 168.5913657709, 'adjVolume': 18913200, 'divCash': 0.0, 'splitFactor': 1.0}, {'date': '2019-02-25T00:00:00.000Z', 'close': 174.23, 'high': 175.87, 'low': 173.95, 'open': 174.16, 'volume': 21873400, 'adjClose': 171.1952072401, 'adjHigh': 172.806641206, 'adjLow': 170.9200843679, 'adjOpen': 171.1264265221, 'adjVolume': 21873400, 'divCash': 0.0, 'splitFactor': 1.0}, {'date': '2019-02-26T00:00:00.000Z', 'close': 174.33, 'high': 175.3, 'low': 173.17, 'open': 173.71, 'volume': 17070200, 'adjClose': 171.2934654088, 'adjHigh': 172.2465696447, 'adjLow': 170.1536706524, 'adjOpen': 170.6842647631, 'adjVolume': 17070200, 'divCash': 0.0, 'splitFactor': 1.0}, {'date': '2019-02-27T00:00:00.000Z', 'close': 174.87, 'high': 175.0, 'low': 172.73, 'open': 173.21, 'volume': 27835400, 'adjClose': 171.8240595195, 'adjHigh': 171.9517951387, 'adjLow': 169.7213347104, 'adjOpen': 170.1929739199, 'adjVolume': 27835400, 'divCash': 0.0, 'splitFactor': 1.0}, {'date': '2019-02-28T00:00:00.000Z', 'close': 173.15, 'high': 174.91, 'low': 172.92, 'open': 174.32, 'volume': 28215400, 'adjClose': 170.1340190187, 'adjHigh': 171.863362787, 'adjLow': 169.9080252308, 'adjOpen': 171.2836395919, 'adjVolume': 28215400, 'divCash': 0.0, 'splitFactor': 1.0}, {'date': '2019-03-01T00:00:00.000Z', 'close': 174.97, 'high': 175.15, 'low': 172.89, 'open': 174.28, 'volume': 25873500, 'adjClose': 171.9223176881, 'adjHigh': 172.0991823917, 'adjLow': 169.8785477802, 'adjOpen': 171.2443363245, 'adjVolume': 25873500, 'divCash': 0.0, 'splitFactor': 1.0}, {'date': '2019-03-04T00:00:00.000Z', 'close': 175.85, 'high': 177.75, 'low': 173.97, 'open': 175.69, 'volume': 27436200, 'adjClose': 172.7869895723, 'adjHigh': 174.6538947766, 'adjLow': 170.9397360016, 'adjOpen': 172.6297765024, 'adjVolume': 27436200, 'divCash': 0.0, 'splitFactor': 1.0}, {'date': '2019-03-05T00:00:00.000Z', 'close': 175.53, 'high': 176.0, 'low': 174.54, 'open': 175.94, 'volume': 19737400, 'adjClose': 172.4725634326, 'adjHigh': 172.9343768252, 'adjLow': 171.4998075629, 'adjOpen': 172.8754219241, 'adjVolume': 19737400, 'divCash': 0.0, 'splitFactor': 1.0}, {'date': '2019-03-06T00:00:00.000Z', 'close': 174.52, 'high': 175.49, 'low': 173.94, 'open': 174.67, 'volume': 20810400, 'adjClose': 171.4801559292, 'adjHigh': 172.4332601651, 'adjLow': 170.910258551, 'adjOpen': 171.6275431822, 'adjVolume': 20810400, 'divCash': 0.0, 'splitFactor': 1.0}, {'date': '2019-03-07T00:00:00.000Z', 'close': 172.5, 'high': 174.44, 'low': 172.02, 'open': 173.87, 'volume': 24796400, 'adjClose': 169.4953409225, 'adjHigh': 171.4015493943, 'adjLow': 169.0237017129, 'adjOpen': 170.841477833, 'adjVolume': 24796400, 'divCash': 0.0, 'splitFactor': 1.0}, {'date': '2019-03-08T00:00:00.000Z', 'close': 172.91, 'high': 173.07, 'low': 169.5, 'open': 170.32, 'volume': 23999400, 'adjClose': 169.8981994139, 'adjHigh': 170.0554124838, 'adjLow': 166.5475958629, 'adjOpen': 167.3533128459, 'adjVolume': 23999400, 'divCash': 0.0, 'splitFactor': 1.0}, {'date': '2019-03-11T00:00:00.000Z', 'close': 178.9, 'high': 179.12, 'low': 175.35, 'open': 175.49, 'volume': 32011000, 'adjClose': 175.7838637161, 'adjHigh': 176.0000316871, 'adjLow': 172.295698729, 'adjOpen': 172.4332601651, 'adjVolume': 32011000, 'divCash': 0.0, 'splitFactor': 1.0}, {'date': '2019-03-12T00:00:00.000Z', 'close': 180.91, 'high': 182.67, 'low': 179.37, 'open': 180.0, 'volume': 32467600, 'adjClose': 177.758852906, 'adjHigh': 179.4881966742, 'adjLow': 176.2456771088, 'adjOpen': 176.8647035713, 'adjVolume': 32467600, 'divCash': 0.0, 'splitFactor': 1.0}, {'date': '2019-03-13T00:00:00.000Z', 'close': 181.71, 'high': 183.3, 'low': 180.92, 'open': 182.25, 'volume': 31032500, 'adjClose': 178.5449182552, 'adjHigh': 180.1072231367, 'adjLow': 177.7686787229, 'adjOpen': 179.0755123659, 'adjVolume': 31032500, 'divCash': 0.0, 'splitFactor': 1.0}, {'date': '2019-03-14T00:00:00.000Z', 'close': 183.73, 'high': 184.1, 'low': 182.56, 'open': 183.9, 'volume': 23533600, 'adjClose': 180.5297332619, 'adjHigh': 180.893288486, 'adjLow': 179.3801126887, 'adjOpen': 180.6967721487, 'adjVolume': 23533600, 'divCash': 0.0, 'splitFactor': 1.0}, {'date': '2019-03-15T00:00:00.000Z', 'close': 186.12, 'high': 187.33, 'low': 183.74, 'open': 184.85, 'volume': 39042900, 'adjClose': 182.8781034927, 'adjHigh': 184.0670273334, 'adjLow': 180.5395590788, 'adjOpen': 181.6302247508, 'adjVolume': 39042900, 'divCash': 0.0, 'splitFactor': 1.0}, {'date': '2019-03-18T00:00:00.000Z', 'close': 188.02, 'high': 188.39, 'low': 185.79, 'open': 185.8, 'volume': 26196000, 'adjClose': 184.7450086971, 'adjHigh': 185.1085639211, 'adjLow': 182.5538515362, 'adjOpen': 182.563677353, 'adjVolume': 26196000, 'divCash': 0.0, 'splitFactor': 1.0}, {'date': '2019-03-19T00:00:00.000Z', 'close': 186.53, 'high': 188.99, 'low': 185.92, 'open': 188.35, 'volume': 31646400, 'adjClose': 183.2809619842, 'adjHigh': 185.698112933, 'adjLow': 182.6815871554, 'adjOpen': 185.0692606536, 'adjVolume': 31646400, 'divCash': 0.0, 'splitFactor': 1.0}, {'date': '2019-03-20T00:00:00.000Z', 'close': 188.16, 'high': 189.49, 'low': 184.73, 'open': 186.23, 'volume': 31035200, 'adjClose': 184.8825701332, 'adjHigh': 186.1894037762, 'adjLow': 181.5123149485, 'adjOpen': 182.9861874782, 'adjVolume': 31035200, 'divCash': 0.0, 'splitFactor': 1.0}, {'date': '2019-03-21T00:00:00.000Z', 'close': 195.09, 'high': 196.33, 'low': 189.81, 'open': 190.02, 'volume': 51034200, 'adjClose': 191.6918612207, 'adjHigh': 192.9102625119, 'adjLow': 186.5038299159, 'adjOpen': 186.7101720701, 'adjVolume': 51034200, 'divCash': 0.0, 'splitFactor': 1.0}, {'date': '2019-03-22T00:00:00.000Z', 'close': 191.05, 'high': 197.69, 'low': 190.78, 'open': 195.34, 'volume': 42407700, 'adjClose': 187.7222312072, 'adjHigh': 194.2465736056, 'adjLow': 187.4569341518, 'adjOpen': 191.9375066423, 'adjVolume': 42407700, 'divCash': 0.0, 'splitFactor': 1.0}, {'date': '2019-03-25T00:00:00.000Z', 'close': 188.74, 'high': 191.98, 'low': 186.6, 'open': 191.51, 'volume': 43845300, 'adjClose': 185.4524675113, 'adjHigh': 188.6360321756, 'adjLow': 183.3497427022, 'adjOpen': 188.174218783, 'adjVolume': 43845300, 'divCash': 0.0, 'splitFactor': 1.0}, {'date': '2019-03-26T00:00:00.000Z', 'close': 186.79, 'high': 192.88, 'low': 184.58, 'open': 191.66, 'volume': 49800500, 'adjClose': 183.5364332227, 'adjHigh': 189.5203556935, 'adjLow': 181.3649276955, 'adjOpen': 188.3216060359, 'adjVolume': 49800500, 'divCash': 0.0, 'splitFactor': 1.0}, {'date': '2019-03-27T00:00:00.000Z', 'close': 188.47, 'high': 189.76, 'low': 186.55, 'open': 188.75, 'volume': 29848400, 'adjClose': 185.187170456, 'adjHigh': 186.4547008316, 'adjLow': 183.3006136179, 'adjOpen': 185.4622933282, 'adjVolume': 29848400, 'divCash': 0.0, 'splitFactor': 1.0}, {'date': '2019-03-28T00:00:00.000Z', 'close': 188.72, 'high': 189.56, 'low': 187.53, 'open': 188.95, 'volume': 20780400, 'adjClose': 185.4328158776, 'adjHigh': 186.2581844943, 'adjLow': 184.2635436707, 'adjOpen': 185.6588096655, 'adjVolume': 20780400, 'divCash': 0.0, 'splitFactor': 1.0}, {'date': '2019-03-29T00:00:00.000Z', 'close': 189.95, 'high': 190.08, 'low': 188.54, 'open': 189.83, 'volume': 23564000, 'adjClose': 186.641391352, 'adjHigh': 186.7691269713, 'adjLow': 185.255951174, 'adjOpen': 186.5234815496, 'adjVolume': 23564000, 'divCash': 0.0, 'splitFactor': 1.0}, {'date': '2019-04-01T00:00:00.000Z', 'close': 191.24, 'high': 191.68, 'low': 188.38, 'open': 191.64, 'volume': 27862000, 'adjClose': 187.9089217276, 'adjHigh': 188.3412576697, 'adjLow': 185.0987381042, 'adjOpen': 188.3019544022, 'adjVolume': 27862000, 'divCash': 0.0, 'splitFactor': 1.0}, {'date': '2019-04-02T00:00:00.000Z', 'close': 194.02, 'high': 194.46, 'low': 191.05, 'open': 191.09, 'volume': 22765700, 'adjClose': 190.6404988161, 'adjHigh': 191.0728347582, 'adjLow': 187.7222312072, 'adjOpen': 187.7615344746, 'adjVolume': 22765700, 'divCash': 0.0, 'splitFactor': 1.0}, {'date': '2019-04-03T00:00:00.000Z', 'close': 195.35, 'high': 196.5, 'low': 193.15, 'open': 193.25, 'volume': 23271800, 'adjClose': 191.9473324592, 'adjHigh': 193.0773013986, 'adjLow': 189.7856527488, 'adjOpen': 189.8839109175, 'adjVolume': 23271800, 'divCash': 0.0, 'splitFactor': 1.0}, {'date': '2019-04-04T00:00:00.000Z', 'close': 195.69, 'high': 196.37, 'low': 193.14, 'open': 194.79, 'volume': 19114300, 'adjClose': 192.2814102326, 'adjHigh': 192.9495657794, 'adjLow': 189.775826932, 'adjOpen': 191.3970867147, 'adjVolume': 19114300, 'divCash': 0.0, 'splitFactor': 1.0}, {'date': '2019-04-05T00:00:00.000Z', 'close': 197.0, 'high': 197.1, 'low': 195.93, 'open': 196.45, 'volume': 18526600, 'adjClose': 193.5685922419, 'adjHigh': 193.6668504105, 'adjLow': 192.5172298373, 'adjOpen': 193.0281723143, 'adjVolume': 18526600, 'divCash': 0.0, 'splitFactor': 1.0}, {'date': '2019-04-08T00:00:00.000Z', 'close': 200.1, 'high': 200.23, 'low': 196.34, 'open': 196.42, 'volume': 25881700, 'adjClose': 196.6145954701, 'adjHigh': 196.7423310893, 'adjLow': 192.9200883288, 'adjOpen': 192.9986948637, 'adjVolume': 25881700, 'divCash': 0.0, 'splitFactor': 1.0}, {'date': '2019-04-09T00:00:00.000Z', 'close': 199.5, 'high': 202.85, 'low': 199.23, 'open': 200.32, 'volume': 35768200, 'adjClose': 196.0250464582, 'adjHigh': 199.316695108, 'adjLow': 195.7597494028, 'adjOpen': 196.8307634411, 'adjVolume': 35768200, 'divCash': 0.0, 'splitFactor': 1.0}, {'date': '2019-04-10T00:00:00.000Z', 'close': 200.62, 'high': 200.74, 'low': 198.18, 'open': 198.68, 'volume': 21695300, 'adjClose': 197.125537947, 'adjHigh': 197.2434477494, 'adjLow': 194.728038632, 'adjOpen': 195.2193294752, 'adjVolume': 21695300, 'divCash': 0.0, 'splitFactor': 1.0}, {'date': '2019-04-11T00:00:00.000Z', 'close': 198.95, 'high': 201.0, 'low': 198.44, 'open': 200.85, 'volume': 20900800, 'adjClose': 195.4846265306, 'adjHigh': 197.4989189879, 'adjLow': 194.9835098705, 'adjOpen': 197.3515317349, 'adjVolume': 20900800, 'divCash': 0.0, 'splitFactor': 1.0}, {'date': '2019-04-12T00:00:00.000Z', 'close': 198.87, 'high': 200.14, 'low': 196.21, 'open': 199.2, 'volume': 27760700, 'adjClose': 195.4060199957, 'adjHigh': 196.6538987375, 'adjLow': 192.7923527096, 'adjOpen': 195.7302719522, 'adjVolume': 27760700, 'divCash': 0.0, 'splitFactor': 1.0}, {'date': '2019-04-15T00:00:00.000Z', 'close': 199.23, 'high': 199.85, 'low': 198.01, 'open': 198.58, 'volume': 17524900, 'adjClose': 195.7597494028, 'adjHigh': 196.3689500484, 'adjLow': 194.5609997453, 'adjOpen': 195.1210713066, 'adjVolume': 17524900, 'divCash': 0.0, 'splitFactor': 1.0}, {'date': '2019-04-16T00:00:00.000Z', 'close': 199.25, 'high': 201.37, 'low': 198.56, 'open': 199.46, 'volume': 25696400, 'adjClose': 195.7794010365, 'adjHigh': 197.8624742119, 'adjLow': 195.1014196728, 'adjOpen': 195.9857431907, 'adjVolume': 25696400, 'divCash': 0.0, 'splitFactor': 1.0}, {'date': '2019-04-17T00:00:00.000Z', 'close': 203.13, 'high': 203.38, 'low': 198.61, 'open': 199.54, 'volume': 28906800, 'adjClose': 199.5918179802, 'adjHigh': 199.8374634018, 'adjLow': 195.1505487572, 'adjOpen': 196.0643497256, 'adjVolume': 28906800, 'divCash': 0.0, 'splitFactor': 1.0}, {'date': '2019-04-18T00:00:00.000Z', 'close': 203.86, 'high': 204.15, 'low': 202.52, 'open': 203.12, 'volume': 24195800, 'adjClose': 200.3091026113, 'adjHigh': 200.5940513004, 'adjLow': 198.9924431514, 'adjOpen': 199.5819921633, 'adjVolume': 24195800, 'divCash': 0.0, 'splitFactor': 1.0}, {'date': '2019-04-22T00:00:00.000Z', 'close': 204.53, 'high': 204.94, 'low': 202.34, 'open': 202.83, 'volume': 19439500, 'adjClose': 200.9674323413, 'adjHigh': 201.3702908328, 'adjLow': 198.8155784478, 'adjOpen': 199.2970434742, 'adjVolume': 19439500, 'divCash': 0.0, 'splitFactor': 1.0}, {'date': '2019-04-23T00:00:00.000Z', 'close': 207.48, 'high': 207.75, 'low': 203.9, 'open': 204.43, 'volume': 23309000, 'adjClose': 203.8660483165, 'adjHigh': 204.1313453718, 'adjLow': 200.3484058788, 'adjOpen': 200.8691741726, 'adjVolume': 23309000, 'divCash': 0.0, 'splitFactor': 1.0}, {'date': '2019-04-24T00:00:00.000Z', 'close': 207.16, 'high': 208.48, 'low': 207.05, 'open': 207.36, 'volume': 17540600, 'adjClose': 203.5516221768, 'adjHigh': 204.848630003, 'adjLow': 203.4435381913, 'adjOpen': 203.7481385141, 'adjVolume': 17540600, 'divCash': 0.0, 'splitFactor': 1.0}, {'date': '2019-04-25T00:00:00.000Z', 'close': 205.28, 'high': 207.76, 'low': 205.12, 'open': 206.83, 'volume': 18508200, 'adjClose': 201.7043686062, 'adjHigh': 204.1411711887, 'adjLow': 201.5471555363, 'adjOpen': 203.2273702203, 'adjVolume': 18508200, 'divCash': 0.0, 'splitFactor': 1.0}, {'date': '2019-04-26T00:00:00.000Z', 'close': 204.3, 'high': 205.0, 'low': 202.12, 'open': 204.9, 'volume': 18649100, 'adjClose': 200.7414385534, 'adjHigh': 201.429245734, 'adjLow': 198.5994104768, 'adjOpen': 201.3309875653, 'adjVolume': 18649100, 'divCash': 0.0, 'splitFactor': 1.0}, {'date': '2019-04-29T00:00:00.000Z', 'close': 204.61, 'high': 205.97, 'low': 203.86, 'open': 204.4, 'volume': 22204700, 'adjClose': 201.0460388762, 'adjHigh': 202.3823499699, 'adjLow': 200.3091026113, 'adjOpen': 200.839696722, 'adjVolume': 22204700, 'divCash': 0.0, 'splitFactor': 1.0}, {'date': '2019-04-30T00:00:00.000Z', 'close': 200.67, 'high': 203.4, 'low': 199.11, 'open': 203.06, 'volume': 46534900, 'adjClose': 197.1746670314, 'adjHigh': 199.8571150355, 'adjLow': 195.6418396004, 'adjOpen': 199.5230372621, 'adjVolume': 46534900, 'divCash': 0.0, 'splitFactor': 1.0}, {'date': '2019-05-01T00:00:00.000Z', 'close': 210.52, 'high': 215.31, 'low': 209.23, 'open': 209.88, 'volume': 64827300, 'adjClose': 206.8530966435, 'adjHigh': 211.5596629218, 'adjLow': 205.5855662679, 'adjOpen': 206.2242443641, 'adjVolume': 64827300, 'divCash': 0.0, 'splitFactor': 1.0}, {'date': '2019-05-02T00:00:00.000Z', 'close': 209.15, 'high': 212.65, 'low': 208.13, 'open': 209.84, 'volume': 31996300, 'adjClose': 205.506959733, 'adjHigh': 208.9459956357, 'adjLow': 204.5047264127, 'adjOpen': 206.1849410966, 'adjVolume': 31996300, 'divCash': 0.0, 'splitFactor': 1.0}]\n"
     ]
    }
   ],
   "source": [
    "response = get_stock_data('AAPL', '2019-1-1', '2019-5-2')\n",
    "print(response.url)\n",
    "print(response.json())"
   ]
  },
  {
   "cell_type": "code",
   "execution_count": 4,
   "metadata": {},
   "outputs": [],
   "source": [
    "def parse_data(data_response):\n",
    "    json_data = data_response.json()\n",
    "    dates = []\n",
    "    closes =[]\n",
    "    opens = []\n",
    "    highs = []\n",
    "    lows = []\n",
    "    vols = []\n",
    "    for json_object in json_data:\n",
    "        dates.append(json_object['date'])\n",
    "        closes.append(json_object['close'])\n",
    "        opens.append(json_object['open'])\n",
    "        highs.append(json_object['high'])\n",
    "        lows.append(json_object['low'])\n",
    "        vols.append(json_object['volume'])\n",
    "    return dates, closes, opens, highs, lows, vols"
   ]
  },
  {
   "cell_type": "code",
   "execution_count": 5,
   "metadata": {},
   "outputs": [
    {
     "name": "stdout",
     "output_type": "stream",
     "text": [
      "['2019-01-02T00:00:00.000Z', '2019-01-03T00:00:00.000Z', '2019-01-04T00:00:00.000Z', '2019-01-07T00:00:00.000Z', '2019-01-08T00:00:00.000Z', '2019-01-09T00:00:00.000Z', '2019-01-10T00:00:00.000Z', '2019-01-11T00:00:00.000Z', '2019-01-14T00:00:00.000Z', '2019-01-15T00:00:00.000Z', '2019-01-16T00:00:00.000Z', '2019-01-17T00:00:00.000Z', '2019-01-18T00:00:00.000Z', '2019-01-22T00:00:00.000Z', '2019-01-23T00:00:00.000Z', '2019-01-24T00:00:00.000Z', '2019-01-25T00:00:00.000Z', '2019-01-28T00:00:00.000Z', '2019-01-29T00:00:00.000Z', '2019-01-30T00:00:00.000Z', '2019-01-31T00:00:00.000Z', '2019-02-01T00:00:00.000Z', '2019-02-04T00:00:00.000Z', '2019-02-05T00:00:00.000Z', '2019-02-06T00:00:00.000Z', '2019-02-07T00:00:00.000Z', '2019-02-08T00:00:00.000Z', '2019-02-11T00:00:00.000Z', '2019-02-12T00:00:00.000Z', '2019-02-13T00:00:00.000Z', '2019-02-14T00:00:00.000Z', '2019-02-15T00:00:00.000Z', '2019-02-19T00:00:00.000Z', '2019-02-20T00:00:00.000Z', '2019-02-21T00:00:00.000Z', '2019-02-22T00:00:00.000Z', '2019-02-25T00:00:00.000Z', '2019-02-26T00:00:00.000Z', '2019-02-27T00:00:00.000Z', '2019-02-28T00:00:00.000Z', '2019-03-01T00:00:00.000Z', '2019-03-04T00:00:00.000Z', '2019-03-05T00:00:00.000Z', '2019-03-06T00:00:00.000Z', '2019-03-07T00:00:00.000Z', '2019-03-08T00:00:00.000Z', '2019-03-11T00:00:00.000Z', '2019-03-12T00:00:00.000Z', '2019-03-13T00:00:00.000Z', '2019-03-14T00:00:00.000Z', '2019-03-15T00:00:00.000Z', '2019-03-18T00:00:00.000Z', '2019-03-19T00:00:00.000Z', '2019-03-20T00:00:00.000Z', '2019-03-21T00:00:00.000Z', '2019-03-22T00:00:00.000Z', '2019-03-25T00:00:00.000Z', '2019-03-26T00:00:00.000Z', '2019-03-27T00:00:00.000Z', '2019-03-28T00:00:00.000Z', '2019-03-29T00:00:00.000Z', '2019-04-01T00:00:00.000Z', '2019-04-02T00:00:00.000Z', '2019-04-03T00:00:00.000Z', '2019-04-04T00:00:00.000Z', '2019-04-05T00:00:00.000Z', '2019-04-08T00:00:00.000Z', '2019-04-09T00:00:00.000Z', '2019-04-10T00:00:00.000Z', '2019-04-11T00:00:00.000Z', '2019-04-12T00:00:00.000Z', '2019-04-15T00:00:00.000Z', '2019-04-16T00:00:00.000Z', '2019-04-17T00:00:00.000Z', '2019-04-18T00:00:00.000Z', '2019-04-22T00:00:00.000Z', '2019-04-23T00:00:00.000Z', '2019-04-24T00:00:00.000Z', '2019-04-25T00:00:00.000Z', '2019-04-26T00:00:00.000Z', '2019-04-29T00:00:00.000Z', '2019-04-30T00:00:00.000Z', '2019-05-01T00:00:00.000Z', '2019-05-02T00:00:00.000Z']\n"
     ]
    }
   ],
   "source": [
    "dates, closes, opens, highs, lows, vols = parse_data(response)\n",
    "print(dates)\n"
   ]
  },
  {
   "cell_type": "code",
   "execution_count": 6,
   "metadata": {},
   "outputs": [],
   "source": [
    "def calculate_price_difference(opens, closes):\n",
    "    price_differences = []\n",
    "    for i in range(len(opens) - 1):\n",
    "        if opens[i + 1] >= closes[i]:\n",
    "            price_differences.append([1, 0])\n",
    "        else:\n",
    "            price_differences.append([0, 1])\n",
    "    return price_differences"
   ]
  },
  {
   "cell_type": "code",
   "execution_count": 7,
   "metadata": {},
   "outputs": [],
   "source": [
    "price_differences = calculate_price_difference(opens, closes)\n",
    "differences = []\n",
    "for difference in price_differences:\n",
    "    differences.append(difference[0])"
   ]
  },
  {
   "cell_type": "code",
   "execution_count": 8,
   "metadata": {},
   "outputs": [
    {
     "data": {
      "text/plain": [
       "<Figure size 640x480 with 1 Axes>"
      ]
     },
     "metadata": {},
     "output_type": "display_data"
    }
   ],
   "source": [
    "import matplotlib.pyplot as plt\n",
    "\n",
    "plt.plot(dates[1:], opens[1:])\n",
    "plt.plot(dates[1:], closes[:-1])\n",
    "plt.show()"
   ]
  },
  {
   "cell_type": "code",
   "execution_count": 9,
   "metadata": {},
   "outputs": [
    {
     "data": {
      "image/png": "[encoded data removed]",
      "text/plain": [
       "<Figure size 432x288 with 1 Axes>"
      ]
     },
     "metadata": {
      "needs_background": "light"
     },
     "output_type": "display_data"
    }
   ],
   "source": [
    "plt.plot(dates[1:], differences)\n",
    "plt.show()"
   ]
  },
  {
   "cell_type": "code",
   "execution_count": 10,
   "metadata": {},
   "outputs": [],
   "source": [
    "def create_datasets(stock_symbol, start_date, end_date):\n",
    "    response = get_stock_data(stock_symbol, start_date, end_date)\n",
    "    dates, closes, opens, highs, lows, vols = parse_data(response)\n",
    "    \n",
    "    labels = calculate_price_difference(opens, closes)\n",
    "    \n",
    "    inputs = []\n",
    "    for i in range(len(labels)):\n",
    "        inputs.append([closes[i], opens[i], highs[i], lows[i], vols[i]/1000])\n",
    "    \n",
    "    return inputs, labels"
   ]
  },
  {
   "cell_type": "code",
   "execution_count": 11,
   "metadata": {},
   "outputs": [],
   "source": [
    "x_train, y_train = create_datasets('AAPL', '2018-1-1', '2019-4-1')\n",
    "x_test, y_test = create_datasets('AAPL', '2019-4-1', '2019-5-2')"
   ]
  },
  {
   "cell_type": "code",
   "execution_count": 12,
   "metadata": {},
   "outputs": [
    {
     "name": "stdout",
     "output_type": "stream",
     "text": [
      "WARNING:tensorflow:From C:\\ProgramData\\Anaconda3\\lib\\site-packages\\tensorflow_core\\python\\compat\\v2_compat.py:65: disable_resource_variables (from tensorflow.python.ops.variable_scope) is deprecated and will be removed in a future version.\n",
      "Instructions for updating:\n",
      "non-resource variables are not supported in the long term\n"
     ]
    }
   ],
   "source": [
    "# y = Wx + b\n",
    "#import tensorflow as tf\n",
    "import tensorflow.compat.v1 as tf\n",
    "tf.disable_v2_behavior()"
   ]
  },
  {
   "cell_type": "code",
   "execution_count": 13,
   "metadata": {},
   "outputs": [],
   "source": [
    "x_input = tf.placeholder(dtype=tf.float32, shape=[None, 5])\n",
    "y_input = tf.placeholder(dtype=tf.float32, shape=[None, 2])\n",
    "W = tf.Variable(initial_value=tf.ones(shape=[5, 2]))\n",
    "b = tf.Variable(initial_value=tf.ones(shape=[2]))\n",
    "y_output = tf.add(tf.matmul(x_input, W), b)"
   ]
  },
  {
   "cell_type": "code",
   "execution_count": 14,
   "metadata": {},
   "outputs": [],
   "source": [
    "loss = tf.reduce_sum(tf.reduce_mean(\n",
    "    tf.nn.softmax_cross_entropy_with_logits_v2(\n",
    "        labels=y_input, logits=y_output)))\n",
    "optimizer = tf.train.GradientDescentOptimizer(0.01)\n",
    "train_step = optimizer.minimize(loss)"
   ]
  },
  {
   "cell_type": "code",
   "execution_count": 15,
   "metadata": {},
   "outputs": [],
   "source": [
    "def measure_accuracy(actual, expected):\n",
    "    num_correct = 0\n",
    "    for i in range(len(actual)):\n",
    "        actual_value = actual[i]\n",
    "        expected_value = expected[i]\n",
    "        if actual_value[0] >= actual_value[1] and expected_value[0] >= expected_value[1]:\n",
    "            num_correct += 1\n",
    "        elif actual_value[0] <= actual_value[1] and expected_value[0] <= expected_value[1]:\n",
    "            num_correct += 1\n",
    "    return (num_correct / len(actual)) * 100"
   ]
  },
  {
   "cell_type": "code",
   "execution_count": 16,
   "metadata": {},
   "outputs": [],
   "source": [
    "session = tf.Session()\n",
    "session.run(tf.global_variables_initializer())"
   ]
  },
  {
   "cell_type": "code",
   "execution_count": 17,
   "metadata": {},
   "outputs": [
    {
     "name": "stdout",
     "output_type": "stream",
     "text": [
      "36.36363636363637\n"
     ]
    }
   ],
   "source": [
    "for _ in range(20000):\n",
    "    session.run(train_step, feed_dict={x_input: x_train, y_input: y_train})\n",
    "print(measure_accuracy(session.run(\n",
    "    y_output, feed_dict={x_input: x_test}), y_test))"
   ]
  },
  {
   "cell_type": "code",
   "execution_count": 37,
   "metadata": {},
   "outputs": [
    {
     "name": "stdout",
     "output_type": "stream",
     "text": [
      "[[  6104632.   -6028121.5]\n",
      " [  4956441.5  -4894545.5]\n",
      " [  5637726.5  -5567168. ]\n",
      " [  4437242.5  -4381991.5]\n",
      " [  5702451.   -5631079.5]\n",
      " [  4762265.   -4702863. ]\n",
      " [  4701472.5  -4642859.5]\n",
      " [  3729325.2  -3683080.2]\n",
      " [  3802820.8  -3755650. ]\n",
      " [  4155144.2  -4103496.2]\n",
      " [  3598647.   -3554085.2]\n",
      " [  4391173.5  -4336541.5]\n",
      " [  3471947.5  -3429014.8]\n",
      " [  5676226.   -5605215.5]\n",
      " [ 10491762.  -10359434. ]\n",
      " [  5934807.5  -5860449.5]\n",
      " [  5488991.5  -5420294.5]\n",
      " [  4653877.5  -4595804.5]\n",
      " [  4588985.5  -4531743.5]\n",
      " [  5796213.5  -5723599. ]\n",
      " [  6862099.5  -6775931. ]\n",
      " [  8617234.   -8508756. ]\n",
      " [ 10665548.  -10531063. ]\n",
      " [  5562487.   -5492941. ]\n",
      " [  9047026.   -8933174. ]\n",
      " [  6891299.   -6804910.5]\n",
      " [  4682751.5  -4624463.5]\n",
      " [  3868454.8  -3820538. ]\n",
      " [  4622173.5  -4564682.5]\n",
      " [  4342772.   -4288835.5]\n",
      " [  3488498.5  -3445430.5]\n",
      " [  3944162.   -3895280. ]\n",
      " [  3236014.   -3196149.2]\n",
      " [  2939538.   -2903448.2]\n",
      " [  3096457.5  -3058365.8]\n",
      " [  3113951.5  -3075645. ]\n",
      " [  2617092.   -2585107. ]\n",
      " [  3373665.5  -3332049.5]\n",
      " [  3873615.2  -3825642.2]\n",
      " [  2966927.2  -2930495.8]\n",
      " [  3760234.8  -3713703.2]\n",
      " [  3158956.8  -3120074.5]\n",
      " [  4540370.5  -4483907. ]\n",
      " [  3907689.5  -3859291. ]\n",
      " [  4355002.5  -4300932.5]\n",
      " [  3617582.2  -3572904. ]\n",
      " [  3518470.5  -3475055. ]\n",
      " [  3583614.   -3539370.2]\n",
      " [  4415332.   -4360488.5]\n",
      " [  3103263.   -3065115.5]\n",
      " [  2884447.8  -2849089.5]\n",
      " [  3627103.8  -3582293.2]\n",
      " [  3621982.8  -3577233.2]\n",
      " [  9923855.   -9798901. ]\n",
      " [  3127541.   -3089064. ]\n",
      " [  5496108.   -5427469. ]\n",
      " [  3462334.5  -3419584.2]\n",
      " [  4261299.5  -4208383. ]\n",
      " [  4494043.5  -4438158. ]\n",
      " [  5192285.   -5127495.5]\n",
      " [  4078936.8  -4028324.2]\n",
      " [  4192703.   -4140649.8]\n",
      " [  2947613.8  -2911402.8]\n",
      " [  3792516.2  -3745557. ]\n",
      " [  3005799.2  -2968851.8]\n",
      " [  2412598.   -2383200.8]\n",
      " [  2828508.2  -2793815.8]\n",
      " [  2968677.2  -2932211.5]\n",
      " [  3329498.2  -3288463.8]\n",
      " [  2730219.   -2696814.5]\n",
      " [  3182218.5  -3143046.8]\n",
      " [  3060240.5  -3022634.5]\n",
      " [  2193585.8  -2167014.8]\n",
      " [  2590266.2  -2558647.8]\n",
      " [  2666574.   -2633979.2]\n",
      " [  2802006.8  -2767690.5]\n",
      " [  3413938.8  -3371836.5]\n",
      " [  3480398.2  -3437453.2]\n",
      " [  2738504.5  -2704997. ]\n",
      " [  3166369.2  -3127430. ]\n",
      " [  2873433.8  -2838229.2]\n",
      " [  3227914.5  -3188204.8]\n",
      " [  4003437.8  -3953846. ]\n",
      " [  3530413.5  -3486827.5]\n",
      " [  6413170.5  -6332899.5]\n",
      " [ 10913462.  -10775992. ]\n",
      " [ 10049128.   -9922687. ]\n",
      " [  5501677.   -5433123.5]\n",
      " [  4242093.5  -4189574.8]\n",
      " [  4267312.   -4214471. ]\n",
      " [  3784030.2  -3737326.8]\n",
      " [  3938261.   -3889608.2]\n",
      " [  4113317.2  -4062432.5]\n",
      " [  4315805.5  -4262352. ]\n",
      " [  3508512.   -3465337.5]\n",
      " [  4775184.5  -4715891. ]\n",
      " [  4730400.   -4671697.5]\n",
      " [  5822558.   -5749979. ]\n",
      " [  5016431.   -4954119. ]\n",
      " [  4366238.   -4312191.5]\n",
      " [  3242739.2  -3202983. ]\n",
      " [  3222256.5  -3182765. ]\n",
      " [  3159167.   -3120483.8]\n",
      " [  3482776.2  -3439984.8]\n",
      " [  3839030.5  -3791719.5]\n",
      " [  4545182.   -4488899.5]\n",
      " [  7934251.5  -7834866. ]\n",
      " [  7080060.5  -6991561.5]\n",
      " [  4574252.5  -4517646. ]\n",
      " [  5507680.5  -5439193. ]\n",
      " [  5654350.   -5583973. ]\n",
      " [  6175152.5  -6098133.5]\n",
      " [  6469778.   -6388989.5]\n",
      " [  5879270.5  -5806006. ]\n",
      " [  8008000.5  -7907661.5]\n",
      " [  6820898.5  -6735684. ]\n",
      " [  5294626.5  -5228829.5]\n",
      " [  6105705.5  -6029553.5]\n",
      " [  5220391.5  -5155497.5]\n",
      " [  4520354.5  -4464362.5]\n",
      " [  4442339.5  -4387357.5]\n",
      " [ 15385859.  -15191612. ]\n",
      " [  4611016.   -4553877. ]\n",
      " [  4120293.2  -4069414.5]\n",
      " [  4030866.5  -3981126. ]\n",
      " [  5008863.   -4946702.5]\n",
      " [  3869572.   -3821911.2]\n",
      " [  3978212.2  -3929187.8]\n",
      " [  4165503.5  -4114099.8]\n",
      " [  4776824.5  -4717663. ]\n",
      " [  5306909.5  -5240989.5]\n",
      " [  5543785.5  -5474822. ]\n",
      " [  4925265.   -4864154.5]\n",
      " [  4492142.5  -4436559. ]\n",
      " [  6860514.5  -6774765. ]\n",
      " [  8603601.   -8495630. ]\n",
      " [  6600294.   -6517853.5]\n",
      " [  5098406.   -5035068. ]\n",
      " [  4846854.   -4786723.5]\n",
      " [  3858232.   -3810689. ]\n",
      " [  5376558.5  -5309661.5]\n",
      " [  5457564.   -5389654. ]\n",
      " [  4785806.5  -4726456. ]\n",
      " [  6351912.   -6272622.5]\n",
      " [  6690797.5  -6607194. ]\n",
      " [  4950900.   -4889436. ]\n",
      " [  7682906.   -7586658.5]\n",
      " [  7472576.5  -7378990.5]\n",
      " [  6012417.5  -5937399. ]\n",
      " [  6286497.5  -6208033.5]\n",
      " [  9426511.   -9308104. ]\n",
      " [ 14600811.  -14416482. ]\n",
      " [ 10637470.  -10503527. ]\n",
      " [  5250740.   -5185349. ]\n",
      " [  5498359.   -5429849. ]\n",
      " [  4232775.   -4180378. ]\n",
      " [  5642752.5  -5572384. ]\n",
      " [  8269112.   -8165267.5]\n",
      " [  7596587.5  -7501276.5]\n",
      " [  9780604.   -9657480. ]\n",
      " [  7529001.5  -7434526.5]\n",
      " [  6030847.5  -5955453.5]\n",
      " [  6810454.5  -6725109.5]\n",
      " [ 10870276.  -10733201. ]\n",
      " [  5102288.5  -5038612.5]\n",
      " [  3918354.2  -3869713.2]\n",
      " [  7277240.5  -7185855. ]\n",
      " [  6708931.   -6624773. ]\n",
      " [  7450373.5  -7356820. ]\n",
      " [  6778235.5  -6693249.5]\n",
      " [  6424525.5  -6344029.5]\n",
      " [  6629260.   -6546192. ]\n",
      " [  6709429.5  -6625308.5]\n",
      " [  6977933.5  -6890353. ]\n",
      " [  6847436.   -6761502.5]\n",
      " [  9945796.   -9820408. ]\n",
      " [  7631621.   -7535699.5]\n",
      " [  5800407.   -5727789.5]\n",
      " [  5215130.   -5149966. ]\n",
      " [  6594747.5  -6512002. ]\n",
      " [  7155632.   -7065735. ]\n",
      " [  5514660.5  -5445650. ]\n",
      " [  7901533.   -7802131.5]\n",
      " [ 10367589.  -10236774. ]\n",
      " [ 15229617.  -15036900. ]\n",
      " [  6016922.   -5941396. ]\n",
      " [  9387345.   -9268962. ]\n",
      " [  8531009.   -8423537. ]\n",
      " [  6831902.   -6746064.5]\n",
      " [  5688035.   -5616762.5]\n",
      " [  6006284.5  -5930953. ]\n",
      " [ 14520821.  -14337050. ]\n",
      " [  9383974.   -9265590. ]\n",
      " [  8783906.   -8673167. ]\n",
      " [  6625219.5  -6541967.5]\n",
      " [  7267892.5  -7176476. ]\n",
      " [  5804016.   -5731232. ]\n",
      " [  4427381.5  -4372113. ]\n",
      " [  5275926.   -5209844. ]\n",
      " [  4691516.   -4632880.5]\n",
      " [  4986730.5  -4924356.5]\n",
      " [  4870285.5  -4809400. ]\n",
      " [  5490030.5  -5421271.5]\n",
      " [  4959687.5  -4897660.5]\n",
      " [  3816912.8  -3769420.8]\n",
      " [  4179559.5  -4127449. ]\n",
      " [  5457404.5  -5389056.5]\n",
      " [  4300206.   -4246576.5]\n",
      " [  6720156.5  -6635734.5]\n",
      " [  9797884.   -9674355. ]\n",
      " [  6599638.   -6516826. ]\n",
      " [  5331713.   -5265039. ]\n",
      " [  5150187.5  -5085840.5]\n",
      " [  5879066.   -5805473.5]\n",
      " [  4644215.5  -4586341. ]\n",
      " [  5191767.   -5126907.5]\n",
      " [  3944050.2  -3895052.2]\n",
      " [  3500497.5  -3457147.8]\n",
      " [  3703509.2  -3657577.8]\n",
      " [  3736651.   -3690301.5]\n",
      " [  3632978.5  -3587943.5]\n",
      " [  4072205.2  -4021584.2]\n",
      " [  3183142.2  -3143832.2]\n",
      " [  4307326.5  -4253722. ]\n",
      " [  2913460.5  -2877588.8]\n",
      " [  3175936.8  -3136731.2]\n",
      " [  3643917.2  -3598773. ]\n",
      " [  2888515.   -2852980. ]\n",
      " [  4580267.5  -4523205. ]\n",
      " [  4639814.5  -4581992.5]\n",
      " [  4274334.5  -4221166.5]\n",
      " [  4519712.   -4463432.5]\n",
      " [  3309323.2  -3268443.5]\n",
      " [  3476965.8  -3433946.5]\n",
      " [  4101715.8  -4050736.2]\n",
      " [  3974419.   -3925047.8]\n",
      " [  5240423.5  -5174983. ]\n",
      " [  5316312.   -5249930.5]\n",
      " [  5092289.   -5028767. ]\n",
      " [  3922710.8  -3874082.2]\n",
      " [  6355385.   -6275814. ]\n",
      " [  4341767.   -4287830.5]\n",
      " [  5195130.   -5130337. ]\n",
      " [  5098773.5  -5035205. ]\n",
      " [  8248718.   -8145107. ]\n",
      " [  6893849.5  -6807484. ]\n",
      " [  7115074.5  -7025865.5]\n",
      " [  8050171.5  -7949058.5]\n",
      " [  4913669.   -4852464.5]\n",
      " [  3488815.2  -3445744. ]\n",
      " [  3927387.   -3878741.5]\n",
      " [  4604229.5  -4546979. ]\n",
      " [  3805575.8  -3758501.8]\n",
      " [  3887362.8  -3839261.5]\n",
      " [  3234418.5  -3194628.8]\n",
      " [  3143973.5  -3105346.2]\n",
      " [  4301949.   -4248598.5]\n",
      " [  5858359.5  -5785218.5]\n",
      " [  3645467.8  -3600479.8]\n",
      " [  3520857.8  -3477456.5]\n",
      " [  4597605.5  -4540494.5]\n",
      " [  2991092.2  -2954426.2]\n",
      " [  4274419.5  -4221428.5]\n",
      " [  4780810.5  -4721386.5]\n",
      " [  4043005.8  -3992985.5]\n",
      " [  3295780.5  -3255270.8]\n",
      " [  3908785.8  -3860491.5]\n",
      " [  3001856.2  -2965113.5]\n",
      " [  3157923.2  -3119186. ]\n",
      " [  3172011.   -3133078.8]\n",
      " [  3731604.   -3685555.8]\n",
      " [  7551799.5  -7457117. ]\n",
      " [ 10438271.  -10306926. ]] [[1, 0], [0, 1], [1, 0], [0, 1], [1, 0], [1, 0], [0, 1], [1, 0], [1, 0], [1, 0], [1, 0], [0, 1], [0, 1], [0, 1], [1, 0], [1, 0], [0, 1], [1, 0], [0, 1], [0, 1], [1, 0], [1, 0], [0, 1], [1, 0], [1, 0], [0, 1], [1, 0], [1, 0], [0, 1], [1, 0], [0, 1], [0, 1], [0, 1], [1, 0], [1, 0], [1, 0], [0, 1], [1, 0], [1, 0], [0, 1], [0, 1], [0, 1], [1, 0], [1, 0], [1, 0], [1, 0], [1, 0], [0, 1], [0, 1], [1, 0], [1, 0], [1, 0], [0, 1], [0, 1], [0, 1], [1, 0], [1, 0], [1, 0], [0, 1], [1, 0], [1, 0], [0, 1], [1, 0], [0, 1], [1, 0], [1, 0], [1, 0], [1, 0], [1, 0], [0, 1], [1, 0], [1, 0], [1, 0], [0, 1], [1, 0], [0, 1], [0, 1], [0, 1], [1, 0], [1, 0], [0, 1], [1, 0], [1, 0], [1, 0], [1, 0], [0, 1], [0, 1], [1, 0], [1, 0], [0, 1], [1, 0], [0, 1], [1, 0], [1, 0], [0, 1], [1, 0], [1, 0], [1, 0], [1, 0], [0, 1], [0, 1], [1, 0], [1, 0], [1, 0], [1, 0], [1, 0], [1, 0], [1, 0], [1, 0], [0, 1], [0, 1], [0, 1], [0, 1], [1, 0], [1, 0], [0, 1], [0, 1], [0, 1], [1, 0], [1, 0], [1, 0], [0, 1], [0, 1], [0, 1], [1, 0], [0, 1], [1, 0], [0, 1], [1, 0], [0, 1], [0, 1], [0, 1], [0, 1], [0, 1], [0, 1], [1, 0], [0, 1], [1, 0], [1, 0], [0, 1], [1, 0], [1, 0], [0, 1], [0, 1], [1, 0], [0, 1], [1, 0], [0, 1], [1, 0], [1, 0], [0, 1], [0, 1], [1, 0], [1, 0], [1, 0], [0, 1], [0, 1], [0, 1], [1, 0], [1, 0], [0, 1], [0, 1], [0, 1], [1, 0], [0, 1], [1, 0], [0, 1], [1, 0], [1, 0], [1, 0], [1, 0], [0, 1], [0, 1], [0, 1], [0, 1], [1, 0], [1, 0], [1, 0], [0, 1], [0, 1], [1, 0], [0, 1], [0, 1], [1, 0], [0, 1], [1, 0], [0, 1], [1, 0], [1, 0], [0, 1], [0, 1], [1, 0], [1, 0], [1, 0], [1, 0], [0, 1], [0, 1], [0, 1], [1, 0], [1, 0], [0, 1], [1, 0], [0, 1], [1, 0], [1, 0], [1, 0], [0, 1], [0, 1], [1, 0], [1, 0], [1, 0], [1, 0], [1, 0], [1, 0], [0, 1], [0, 1], [1, 0], [1, 0], [1, 0], [0, 1], [1, 0], [0, 1], [1, 0], [0, 1], [1, 0], [1, 0], [0, 1], [0, 1], [0, 1], [1, 0], [1, 0], [1, 0], [0, 1], [0, 1], [0, 1], [1, 0], [1, 0], [1, 0], [1, 0], [1, 0], [0, 1], [1, 0], [0, 1], [1, 0], [1, 0], [1, 0], [1, 0], [1, 0], [1, 0], [1, 0], [1, 0], [0, 1], [0, 1], [0, 1], [1, 0], [0, 1], [1, 0], [0, 1], [1, 0], [1, 0], [0, 1], [1, 0], [1, 0], [0, 1], [0, 1], [0, 1], [0, 1], [0, 1], [0, 1], [1, 0], [0, 1], [1, 0], [0, 1]]\n"
     ]
    }
   ],
   "source": [
    "print(session.run(\n",
    "    y_output, feed_dict={x_input: x_test}), y_test)"
   ]
  },
  {
   "cell_type": "code",
   "execution_count": null,
   "metadata": {},
   "outputs": [],
   "source": []
  }
 ],
 "metadata": {
  "kernelspec": {
   "display_name": "Python 3",
   "language": "python",
   "name": "python3"
  },
  "language_info": {
   "codemirror_mode": {
    "name": "ipython",
    "version": 3
   },
   "file_extension": ".py",
   "mimetype": "text/x-python",
   "name": "python",
   "nbconvert_exporter": "python",
   "pygments_lexer": "ipython3",
   "version": "3.7.4"
  }
 },
 "nbformat": 4,
 "nbformat_minor": 2
}
