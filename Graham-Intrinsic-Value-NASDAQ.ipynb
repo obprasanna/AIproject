{
 "cells": [
  {
   "cell_type": "code",
   "execution_count": 1,
   "metadata": {},
   "outputs": [],
   "source": [
    "import yahoo_fin.stock_info as si\n",
    "import numpy as np\n",
    "import pandas as pd\n",
    "from pandas import Series, DataFrame\n",
    "from pandas import read_html\n",
    "import ray\n",
    "import time\n",
    "\n",
    "nan=np.nan"
   ]
  },
  {
   "cell_type": "code",
   "execution_count": 2,
   "metadata": {},
   "outputs": [],
   "source": [
    "@ray.remote\n",
    "def GrahamInVal (sticker):\n",
    "    #sticker = \"CRM\"\n",
    "\n",
    "    # Read EPS\n",
    "    url_Summary = 'https://finance.yahoo.com/quote/' + sticker\n",
    "    dframe_list_Summary = pd.read_html(url_Summary)\n",
    "    Summary_tab = dframe_list_Summary[1]\n",
    "    EPS_str = Summary_tab.loc[3,1]\n",
    "    EPS = nan\n",
    "    if pd.isnull(EPS_str) == 0:\n",
    "        if EPS_str.find('%'):\n",
    "            EPS = float(EPS_str[:-1])\n",
    "        else:\n",
    "            EPS = float(EPS_str)\n",
    "        \n",
    "    # Read P/E\n",
    "    #PERatio_str = Summary_tab.loc[2,1]\n",
    "    #PERatio_read = float(PERatio_str)\n",
    "    PERatio_fixed = 7.0\n",
    "    PERatio = PERatio_fixed\n",
    "\n",
    "    # Read 5 Yr Growth Rate\n",
    "    url_Analysis = 'https://finance.yahoo.com/quote/' + sticker + '/analysis?p=' + sticker\n",
    "    GrowthEst = nan\n",
    "    try:\n",
    "        dframe_list_Analysis = pd.read_html(url_Analysis)\n",
    "        if dframe_list_Analysis!=dframe_list_Summary:\n",
    "            GrowthEst_tab = dframe_list_Analysis[5]\n",
    "            GrowthEst_str = GrowthEst_tab.loc[4,sticker]\n",
    "            if pd.isnull(GrowthEst_str) == 0:\n",
    "                GrowthEst = float(GrowthEst_str[:-1])\n",
    "    except ValueError:\n",
    "        pass\n",
    "    GrowthScale = 1\n",
    "\n",
    "    # Read AAACorpBond Yield\n",
    "    url_AAACorpBond = 'https://ycharts.com/indicators/moodys_seasoned_aaa_corporate_bond_yield'\n",
    "    dframe_list_AAACorpBond = pd.read_html(url_AAACorpBond)\n",
    "    dframe_AAACorpBond = dframe_list_AAACorpBond[0]\n",
    "    AAACorpBond_str = dframe_AAACorpBond.loc[0,'Unnamed: 1']\n",
    "    AAACorpBond = nan\n",
    "    if pd.isnull(AAACorpBond_str) == 0:\n",
    "        AAACorpBond = float(AAACorpBond_str[:-1])\n",
    "    CorpBond = 4.4\n",
    "\n",
    "    IntrinsicVal = round((EPS * (PERatio + (GrowthEst * GrowthScale)) * CorpBond) / AAACorpBond,2)\n",
    "\n",
    "    # Read Current Val\n",
    "    Summary_tab = dframe_list_Summary[0]\n",
    "    PrevClose_str = Summary_tab.loc[0,1]\n",
    "    PrevClose = round(float(PrevClose_str),2)\n",
    "\n",
    "    Decision = nan\n",
    "    if pd.isnull(IntrinsicVal) == 0:\n",
    "        if PrevClose < IntrinsicVal:\n",
    "            Decision = 'BUY'\n",
    "        else:\n",
    "            Decision = 'SELL'\n",
    "\n",
    "    MarginRaw = (IntrinsicVal-PrevClose)/PrevClose\n",
    "    Margin = round(MarginRaw*100,2)\n",
    "    #Margin = '{percent:.2%}'.format(percent=MarginRaw)\n",
    "    \n",
    "    time.sleep(1)\n",
    "\n",
    "    return {'Sticker':sticker,\n",
    "             'IntrinsicVal($)':IntrinsicVal,\n",
    "             'PrevClose($)':PrevClose,\n",
    "             'Decision':Decision,\n",
    "             'Margin(%)':Margin,\n",
    "             'EPS':EPS,\n",
    "             'GrowthEst(%)':GrowthEst}"
   ]
  },
  {
   "cell_type": "code",
   "execution_count": 3,
   "metadata": {},
   "outputs": [],
   "source": [
    "#DO NOT TOUCH THIS\n",
    "\n",
    "#stock_val = GrahamInVal(\"AAPL\")\n",
    "\n",
    "# Create the pandas DataFrame \n",
    "#stock_tabsum = pd.DataFrame.from_dict(stock_val, orient='index')\n",
    "#stock_sum = stock_tabsum.transpose()\n",
    "\n",
    "# print dataframe. \n",
    "#stock_sum.set_index('Sticker', inplace=True)\n"
   ]
  },
  {
   "cell_type": "code",
   "execution_count": null,
   "metadata": {},
   "outputs": [
    {
     "name": "stderr",
     "output_type": "stream",
     "text": [
      "2020-08-17 23:52:44,858\tINFO resource_spec.py:212 -- Starting Ray with 0.29 GiB memory available for workers and up to 0.15 GiB for objects. You can adjust these settings with ray.init(memory=<bytes>, object_store_memory=<bytes>).\n"
     ]
    },
    {
     "name": "stdout",
     "output_type": "stream",
     "text": [
      "['AAPL', 'SHOP', 'MA', 'PYPL', 'SQ', 'WIX']\n"
     ]
    },
    {
     "name": "stderr",
     "output_type": "stream",
     "text": [
      "2020-08-17 23:52:45,743\tINFO services.py:1165 -- View the Ray dashboard at \u001b[1m\u001b[32mlocalhost:8265\u001b[39m\u001b[22m\n"
     ]
    }
   ],
   "source": [
    "nasdaq_list = si.tickers_nasdaq()\n",
    "#stock_list = nasdaq_list[:10]\n",
    "#stock_list = nasdaq_list[:50]\n",
    "stock_list = ['AAPL','SHOP','MA','PYPL','SQ','WIX']\n",
    "print(stock_list)\n",
    "   \n",
    "stock_sum = pd.DataFrame(np.arange(7*len(stock_list)).reshape((len(stock_list),7)),\n",
    "                         columns=['Sticker',\n",
    "                                  'IntrinsicVal($)',\n",
    "                                  'PrevClose($)',\n",
    "                                  'Decision', \n",
    "                                  'Margin(%)',\n",
    "                                  'EPS',\n",
    "                                  'GrowthEst(%)'])\n",
    "\n",
    "ray.init()\n",
    "\n",
    "def function_y(stock_list):\n",
    "    pass\n",
    "\n",
    "# Process the items in parallel (see ray initialization in function)\n",
    "results = ray.get([GrahamInVal.remote(sticky) for sticky in stock_list])\n",
    "\n",
    "function_y(stock_list)\n",
    "\n",
    "len_stock_list=np.arange(len(stock_list))\n",
    "for i in len_stock_list:\n",
    "    ami1 = pd.DataFrame.from_dict(results[i], orient='index')\n",
    "    ami2 = ami1.transpose()\n",
    "    stock_sum = stock_sum.append(ami2)\n",
    "\n",
    "stock_sum.set_index('Sticker', inplace=True)\n",
    "stock_sum.drop(stock_sum.index[0:len(stock_list)], inplace=True)\n",
    "stock_sum #print stock_sum"
   ]
  },
  {
   "cell_type": "code",
   "execution_count": null,
   "metadata": {},
   "outputs": [],
   "source": []
  }
 ],
 "metadata": {
  "kernelspec": {
   "display_name": "Python 3",
   "language": "python",
   "name": "python3"
  },
  "language_info": {
   "codemirror_mode": {
    "name": "ipython",
    "version": 3
   },
   "file_extension": ".py",
   "mimetype": "text/x-python",
   "name": "python",
   "nbconvert_exporter": "python",
   "pygments_lexer": "ipython3",
   "version": "3.7.4"
  }
 },
 "nbformat": 4,
 "nbformat_minor": 2
}
